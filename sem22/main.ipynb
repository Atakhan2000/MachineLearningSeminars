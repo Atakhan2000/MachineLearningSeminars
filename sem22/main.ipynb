{
  "nbformat": 4,
  "nbformat_minor": 0,
  "metadata": {
    "kernelspec": {
      "display_name": "Python 3",
      "language": "python",
      "name": "python3"
    },
    "language_info": {
      "codemirror_mode": {
        "name": "ipython",
        "version": 3
      },
      "file_extension": ".py",
      "mimetype": "text/x-python",
      "name": "python",
      "nbconvert_exporter": "python",
      "pygments_lexer": "ipython3",
      "version": "3.7.3"
    },
    "colab": {
      "name": "main.ipynb",
      "provenance": []
    },
    "accelerator": "GPU",
    "widgets": {
      "application/vnd.jupyter.widget-state+json": {
        "a8d7a1ff827745eba6155a03dc5825fa": {
          "model_module": "@jupyter-widgets/controls",
          "model_name": "HBoxModel",
          "state": {
            "_view_name": "HBoxView",
            "_dom_classes": [],
            "_model_name": "HBoxModel",
            "_view_module": "@jupyter-widgets/controls",
            "_model_module_version": "1.5.0",
            "_view_count": null,
            "_view_module_version": "1.5.0",
            "box_style": "",
            "layout": "IPY_MODEL_7d58dd72b27246109b79793e87dfd4ab",
            "_model_module": "@jupyter-widgets/controls",
            "children": [
              "IPY_MODEL_8a527d42a1c34d06bc27512cf7eaece3",
              "IPY_MODEL_de4f26ad882544f1bfd501ae3c195981",
              "IPY_MODEL_e0081cf329f5453d86b353f08148ab37"
            ]
          }
        },
        "7d58dd72b27246109b79793e87dfd4ab": {
          "model_module": "@jupyter-widgets/base",
          "model_name": "LayoutModel",
          "state": {
            "_view_name": "LayoutView",
            "grid_template_rows": null,
            "right": null,
            "justify_content": null,
            "_view_module": "@jupyter-widgets/base",
            "overflow": null,
            "_model_module_version": "1.2.0",
            "_view_count": null,
            "flex_flow": null,
            "width": null,
            "min_width": null,
            "border": null,
            "align_items": null,
            "bottom": null,
            "_model_module": "@jupyter-widgets/base",
            "top": null,
            "grid_column": null,
            "overflow_y": null,
            "overflow_x": null,
            "grid_auto_flow": null,
            "grid_area": null,
            "grid_template_columns": null,
            "flex": null,
            "_model_name": "LayoutModel",
            "justify_items": null,
            "grid_row": null,
            "max_height": null,
            "align_content": null,
            "visibility": null,
            "align_self": null,
            "height": null,
            "min_height": null,
            "padding": null,
            "grid_auto_rows": null,
            "grid_gap": null,
            "max_width": null,
            "order": null,
            "_view_module_version": "1.2.0",
            "grid_template_areas": null,
            "object_position": null,
            "object_fit": null,
            "grid_auto_columns": null,
            "margin": null,
            "display": null,
            "left": null
          }
        },
        "8a527d42a1c34d06bc27512cf7eaece3": {
          "model_module": "@jupyter-widgets/controls",
          "model_name": "HTMLModel",
          "state": {
            "_view_name": "HTMLView",
            "style": "IPY_MODEL_57f5fe4260754c5288eb73ea13000be9",
            "_dom_classes": [],
            "description": "",
            "_model_name": "HTMLModel",
            "placeholder": "​",
            "_view_module": "@jupyter-widgets/controls",
            "_model_module_version": "1.5.0",
            "value": "100%",
            "_view_count": null,
            "_view_module_version": "1.5.0",
            "description_tooltip": null,
            "_model_module": "@jupyter-widgets/controls",
            "layout": "IPY_MODEL_3833f9f2db9f40c0be3835d05e64bf59"
          }
        },
        "de4f26ad882544f1bfd501ae3c195981": {
          "model_module": "@jupyter-widgets/controls",
          "model_name": "FloatProgressModel",
          "state": {
            "_view_name": "ProgressView",
            "style": "IPY_MODEL_036b21454f5a4f76aa3e91e89dcfbd30",
            "_dom_classes": [],
            "description": "",
            "_model_name": "FloatProgressModel",
            "bar_style": "success",
            "max": 100000,
            "_view_module": "@jupyter-widgets/controls",
            "_model_module_version": "1.5.0",
            "value": 100000,
            "_view_count": null,
            "_view_module_version": "1.5.0",
            "orientation": "horizontal",
            "min": 0,
            "description_tooltip": null,
            "_model_module": "@jupyter-widgets/controls",
            "layout": "IPY_MODEL_197c636e00ad4e80be9a4ce3891f3246"
          }
        },
        "e0081cf329f5453d86b353f08148ab37": {
          "model_module": "@jupyter-widgets/controls",
          "model_name": "HTMLModel",
          "state": {
            "_view_name": "HTMLView",
            "style": "IPY_MODEL_1c10d66c71fc493eb03a1deff4959c17",
            "_dom_classes": [],
            "description": "",
            "_model_name": "HTMLModel",
            "placeholder": "​",
            "_view_module": "@jupyter-widgets/controls",
            "_model_module_version": "1.5.0",
            "value": " 100000/100000 [00:26&lt;00:00, 4224.47it/s]",
            "_view_count": null,
            "_view_module_version": "1.5.0",
            "description_tooltip": null,
            "_model_module": "@jupyter-widgets/controls",
            "layout": "IPY_MODEL_4e5a94a9ac9648af843195822bbc5e5d"
          }
        },
        "57f5fe4260754c5288eb73ea13000be9": {
          "model_module": "@jupyter-widgets/controls",
          "model_name": "DescriptionStyleModel",
          "state": {
            "_view_name": "StyleView",
            "_model_name": "DescriptionStyleModel",
            "description_width": "",
            "_view_module": "@jupyter-widgets/base",
            "_model_module_version": "1.5.0",
            "_view_count": null,
            "_view_module_version": "1.2.0",
            "_model_module": "@jupyter-widgets/controls"
          }
        },
        "3833f9f2db9f40c0be3835d05e64bf59": {
          "model_module": "@jupyter-widgets/base",
          "model_name": "LayoutModel",
          "state": {
            "_view_name": "LayoutView",
            "grid_template_rows": null,
            "right": null,
            "justify_content": null,
            "_view_module": "@jupyter-widgets/base",
            "overflow": null,
            "_model_module_version": "1.2.0",
            "_view_count": null,
            "flex_flow": null,
            "width": null,
            "min_width": null,
            "border": null,
            "align_items": null,
            "bottom": null,
            "_model_module": "@jupyter-widgets/base",
            "top": null,
            "grid_column": null,
            "overflow_y": null,
            "overflow_x": null,
            "grid_auto_flow": null,
            "grid_area": null,
            "grid_template_columns": null,
            "flex": null,
            "_model_name": "LayoutModel",
            "justify_items": null,
            "grid_row": null,
            "max_height": null,
            "align_content": null,
            "visibility": null,
            "align_self": null,
            "height": null,
            "min_height": null,
            "padding": null,
            "grid_auto_rows": null,
            "grid_gap": null,
            "max_width": null,
            "order": null,
            "_view_module_version": "1.2.0",
            "grid_template_areas": null,
            "object_position": null,
            "object_fit": null,
            "grid_auto_columns": null,
            "margin": null,
            "display": null,
            "left": null
          }
        },
        "036b21454f5a4f76aa3e91e89dcfbd30": {
          "model_module": "@jupyter-widgets/controls",
          "model_name": "ProgressStyleModel",
          "state": {
            "_view_name": "StyleView",
            "_model_name": "ProgressStyleModel",
            "description_width": "",
            "_view_module": "@jupyter-widgets/base",
            "_model_module_version": "1.5.0",
            "_view_count": null,
            "_view_module_version": "1.2.0",
            "bar_color": null,
            "_model_module": "@jupyter-widgets/controls"
          }
        },
        "197c636e00ad4e80be9a4ce3891f3246": {
          "model_module": "@jupyter-widgets/base",
          "model_name": "LayoutModel",
          "state": {
            "_view_name": "LayoutView",
            "grid_template_rows": null,
            "right": null,
            "justify_content": null,
            "_view_module": "@jupyter-widgets/base",
            "overflow": null,
            "_model_module_version": "1.2.0",
            "_view_count": null,
            "flex_flow": null,
            "width": null,
            "min_width": null,
            "border": null,
            "align_items": null,
            "bottom": null,
            "_model_module": "@jupyter-widgets/base",
            "top": null,
            "grid_column": null,
            "overflow_y": null,
            "overflow_x": null,
            "grid_auto_flow": null,
            "grid_area": null,
            "grid_template_columns": null,
            "flex": null,
            "_model_name": "LayoutModel",
            "justify_items": null,
            "grid_row": null,
            "max_height": null,
            "align_content": null,
            "visibility": null,
            "align_self": null,
            "height": null,
            "min_height": null,
            "padding": null,
            "grid_auto_rows": null,
            "grid_gap": null,
            "max_width": null,
            "order": null,
            "_view_module_version": "1.2.0",
            "grid_template_areas": null,
            "object_position": null,
            "object_fit": null,
            "grid_auto_columns": null,
            "margin": null,
            "display": null,
            "left": null
          }
        },
        "1c10d66c71fc493eb03a1deff4959c17": {
          "model_module": "@jupyter-widgets/controls",
          "model_name": "DescriptionStyleModel",
          "state": {
            "_view_name": "StyleView",
            "_model_name": "DescriptionStyleModel",
            "description_width": "",
            "_view_module": "@jupyter-widgets/base",
            "_model_module_version": "1.5.0",
            "_view_count": null,
            "_view_module_version": "1.2.0",
            "_model_module": "@jupyter-widgets/controls"
          }
        },
        "4e5a94a9ac9648af843195822bbc5e5d": {
          "model_module": "@jupyter-widgets/base",
          "model_name": "LayoutModel",
          "state": {
            "_view_name": "LayoutView",
            "grid_template_rows": null,
            "right": null,
            "justify_content": null,
            "_view_module": "@jupyter-widgets/base",
            "overflow": null,
            "_model_module_version": "1.2.0",
            "_view_count": null,
            "flex_flow": null,
            "width": null,
            "min_width": null,
            "border": null,
            "align_items": null,
            "bottom": null,
            "_model_module": "@jupyter-widgets/base",
            "top": null,
            "grid_column": null,
            "overflow_y": null,
            "overflow_x": null,
            "grid_auto_flow": null,
            "grid_area": null,
            "grid_template_columns": null,
            "flex": null,
            "_model_name": "LayoutModel",
            "justify_items": null,
            "grid_row": null,
            "max_height": null,
            "align_content": null,
            "visibility": null,
            "align_self": null,
            "height": null,
            "min_height": null,
            "padding": null,
            "grid_auto_rows": null,
            "grid_gap": null,
            "max_width": null,
            "order": null,
            "_view_module_version": "1.2.0",
            "grid_template_areas": null,
            "object_position": null,
            "object_fit": null,
            "grid_auto_columns": null,
            "margin": null,
            "display": null,
            "left": null
          }
        },
        "965a8b5700f24e20807249ed9d2fbf40": {
          "model_module": "@jupyter-widgets/controls",
          "model_name": "HBoxModel",
          "state": {
            "_view_name": "HBoxView",
            "_dom_classes": [],
            "_model_name": "HBoxModel",
            "_view_module": "@jupyter-widgets/controls",
            "_model_module_version": "1.5.0",
            "_view_count": null,
            "_view_module_version": "1.5.0",
            "box_style": "",
            "layout": "IPY_MODEL_d322e59e40274aaf86987106bc15bc4a",
            "_model_module": "@jupyter-widgets/controls",
            "children": [
              "IPY_MODEL_9dd82f17b2194f7eb86e70dbacbf919d",
              "IPY_MODEL_d5438cff0c6a412bb38f725204e7c149",
              "IPY_MODEL_1e23cfc2f9104c85afdc841284ff1350"
            ]
          }
        },
        "d322e59e40274aaf86987106bc15bc4a": {
          "model_module": "@jupyter-widgets/base",
          "model_name": "LayoutModel",
          "state": {
            "_view_name": "LayoutView",
            "grid_template_rows": null,
            "right": null,
            "justify_content": null,
            "_view_module": "@jupyter-widgets/base",
            "overflow": null,
            "_model_module_version": "1.2.0",
            "_view_count": null,
            "flex_flow": null,
            "width": null,
            "min_width": null,
            "border": null,
            "align_items": null,
            "bottom": null,
            "_model_module": "@jupyter-widgets/base",
            "top": null,
            "grid_column": null,
            "overflow_y": null,
            "overflow_x": null,
            "grid_auto_flow": null,
            "grid_area": null,
            "grid_template_columns": null,
            "flex": null,
            "_model_name": "LayoutModel",
            "justify_items": null,
            "grid_row": null,
            "max_height": null,
            "align_content": null,
            "visibility": null,
            "align_self": null,
            "height": null,
            "min_height": null,
            "padding": null,
            "grid_auto_rows": null,
            "grid_gap": null,
            "max_width": null,
            "order": null,
            "_view_module_version": "1.2.0",
            "grid_template_areas": null,
            "object_position": null,
            "object_fit": null,
            "grid_auto_columns": null,
            "margin": null,
            "display": null,
            "left": null
          }
        },
        "9dd82f17b2194f7eb86e70dbacbf919d": {
          "model_module": "@jupyter-widgets/controls",
          "model_name": "HTMLModel",
          "state": {
            "_view_name": "HTMLView",
            "style": "IPY_MODEL_f2aec6a700d946b4ad988e3d40a5e900",
            "_dom_classes": [],
            "description": "",
            "_model_name": "HTMLModel",
            "placeholder": "​",
            "_view_module": "@jupyter-widgets/controls",
            "_model_module_version": "1.5.0",
            "value": "100%",
            "_view_count": null,
            "_view_module_version": "1.5.0",
            "description_tooltip": null,
            "_model_module": "@jupyter-widgets/controls",
            "layout": "IPY_MODEL_0feb606a3dda474a8e1d00318c239165"
          }
        },
        "d5438cff0c6a412bb38f725204e7c149": {
          "model_module": "@jupyter-widgets/controls",
          "model_name": "FloatProgressModel",
          "state": {
            "_view_name": "ProgressView",
            "style": "IPY_MODEL_ce31cbe520134cc999da4c8448857b95",
            "_dom_classes": [],
            "description": "",
            "_model_name": "FloatProgressModel",
            "bar_style": "success",
            "max": 44850,
            "_view_module": "@jupyter-widgets/controls",
            "_model_module_version": "1.5.0",
            "value": 44850,
            "_view_count": null,
            "_view_module_version": "1.5.0",
            "orientation": "horizontal",
            "min": 0,
            "description_tooltip": null,
            "_model_module": "@jupyter-widgets/controls",
            "layout": "IPY_MODEL_e5c1814a0c60489cb76410dec0e06b45"
          }
        },
        "1e23cfc2f9104c85afdc841284ff1350": {
          "model_module": "@jupyter-widgets/controls",
          "model_name": "HTMLModel",
          "state": {
            "_view_name": "HTMLView",
            "style": "IPY_MODEL_0940e0b5d64240738fb5444edd367885",
            "_dom_classes": [],
            "description": "",
            "_model_name": "HTMLModel",
            "placeholder": "​",
            "_view_module": "@jupyter-widgets/controls",
            "_model_module_version": "1.5.0",
            "value": " 44850/44850 [01:27&lt;00:00, 545.31it/s]",
            "_view_count": null,
            "_view_module_version": "1.5.0",
            "description_tooltip": null,
            "_model_module": "@jupyter-widgets/controls",
            "layout": "IPY_MODEL_451191855ca341a48cd319ed9a439c1a"
          }
        },
        "f2aec6a700d946b4ad988e3d40a5e900": {
          "model_module": "@jupyter-widgets/controls",
          "model_name": "DescriptionStyleModel",
          "state": {
            "_view_name": "StyleView",
            "_model_name": "DescriptionStyleModel",
            "description_width": "",
            "_view_module": "@jupyter-widgets/base",
            "_model_module_version": "1.5.0",
            "_view_count": null,
            "_view_module_version": "1.2.0",
            "_model_module": "@jupyter-widgets/controls"
          }
        },
        "0feb606a3dda474a8e1d00318c239165": {
          "model_module": "@jupyter-widgets/base",
          "model_name": "LayoutModel",
          "state": {
            "_view_name": "LayoutView",
            "grid_template_rows": null,
            "right": null,
            "justify_content": null,
            "_view_module": "@jupyter-widgets/base",
            "overflow": null,
            "_model_module_version": "1.2.0",
            "_view_count": null,
            "flex_flow": null,
            "width": null,
            "min_width": null,
            "border": null,
            "align_items": null,
            "bottom": null,
            "_model_module": "@jupyter-widgets/base",
            "top": null,
            "grid_column": null,
            "overflow_y": null,
            "overflow_x": null,
            "grid_auto_flow": null,
            "grid_area": null,
            "grid_template_columns": null,
            "flex": null,
            "_model_name": "LayoutModel",
            "justify_items": null,
            "grid_row": null,
            "max_height": null,
            "align_content": null,
            "visibility": null,
            "align_self": null,
            "height": null,
            "min_height": null,
            "padding": null,
            "grid_auto_rows": null,
            "grid_gap": null,
            "max_width": null,
            "order": null,
            "_view_module_version": "1.2.0",
            "grid_template_areas": null,
            "object_position": null,
            "object_fit": null,
            "grid_auto_columns": null,
            "margin": null,
            "display": null,
            "left": null
          }
        },
        "ce31cbe520134cc999da4c8448857b95": {
          "model_module": "@jupyter-widgets/controls",
          "model_name": "ProgressStyleModel",
          "state": {
            "_view_name": "StyleView",
            "_model_name": "ProgressStyleModel",
            "description_width": "",
            "_view_module": "@jupyter-widgets/base",
            "_model_module_version": "1.5.0",
            "_view_count": null,
            "_view_module_version": "1.2.0",
            "bar_color": null,
            "_model_module": "@jupyter-widgets/controls"
          }
        },
        "e5c1814a0c60489cb76410dec0e06b45": {
          "model_module": "@jupyter-widgets/base",
          "model_name": "LayoutModel",
          "state": {
            "_view_name": "LayoutView",
            "grid_template_rows": null,
            "right": null,
            "justify_content": null,
            "_view_module": "@jupyter-widgets/base",
            "overflow": null,
            "_model_module_version": "1.2.0",
            "_view_count": null,
            "flex_flow": null,
            "width": null,
            "min_width": null,
            "border": null,
            "align_items": null,
            "bottom": null,
            "_model_module": "@jupyter-widgets/base",
            "top": null,
            "grid_column": null,
            "overflow_y": null,
            "overflow_x": null,
            "grid_auto_flow": null,
            "grid_area": null,
            "grid_template_columns": null,
            "flex": null,
            "_model_name": "LayoutModel",
            "justify_items": null,
            "grid_row": null,
            "max_height": null,
            "align_content": null,
            "visibility": null,
            "align_self": null,
            "height": null,
            "min_height": null,
            "padding": null,
            "grid_auto_rows": null,
            "grid_gap": null,
            "max_width": null,
            "order": null,
            "_view_module_version": "1.2.0",
            "grid_template_areas": null,
            "object_position": null,
            "object_fit": null,
            "grid_auto_columns": null,
            "margin": null,
            "display": null,
            "left": null
          }
        },
        "0940e0b5d64240738fb5444edd367885": {
          "model_module": "@jupyter-widgets/controls",
          "model_name": "DescriptionStyleModel",
          "state": {
            "_view_name": "StyleView",
            "_model_name": "DescriptionStyleModel",
            "description_width": "",
            "_view_module": "@jupyter-widgets/base",
            "_model_module_version": "1.5.0",
            "_view_count": null,
            "_view_module_version": "1.2.0",
            "_model_module": "@jupyter-widgets/controls"
          }
        },
        "451191855ca341a48cd319ed9a439c1a": {
          "model_module": "@jupyter-widgets/base",
          "model_name": "LayoutModel",
          "state": {
            "_view_name": "LayoutView",
            "grid_template_rows": null,
            "right": null,
            "justify_content": null,
            "_view_module": "@jupyter-widgets/base",
            "overflow": null,
            "_model_module_version": "1.2.0",
            "_view_count": null,
            "flex_flow": null,
            "width": null,
            "min_width": null,
            "border": null,
            "align_items": null,
            "bottom": null,
            "_model_module": "@jupyter-widgets/base",
            "top": null,
            "grid_column": null,
            "overflow_y": null,
            "overflow_x": null,
            "grid_auto_flow": null,
            "grid_area": null,
            "grid_template_columns": null,
            "flex": null,
            "_model_name": "LayoutModel",
            "justify_items": null,
            "grid_row": null,
            "max_height": null,
            "align_content": null,
            "visibility": null,
            "align_self": null,
            "height": null,
            "min_height": null,
            "padding": null,
            "grid_auto_rows": null,
            "grid_gap": null,
            "max_width": null,
            "order": null,
            "_view_module_version": "1.2.0",
            "grid_template_areas": null,
            "object_position": null,
            "object_fit": null,
            "grid_auto_columns": null,
            "margin": null,
            "display": null,
            "left": null
          }
        }
      }
    }
  },
  "cells": [
    {
      "cell_type": "markdown",
      "metadata": {
        "id": "dgFNZGbprC7Y"
      },
      "source": [
        "# Рекомендательные системы"
      ]
    },
    {
      "cell_type": "code",
      "metadata": {
        "id": "cCSxnmxzqwAs",
        "outputId": "72bd14aa-99eb-44bb-ad4f-c4adfab33114",
        "colab": {
          "base_uri": "https://localhost:8080/"
        }
      },
      "source": [
        "!pip install --quiet -U jsonlines pyserini jsonlines scikit-surprise fastrank"
      ],
      "execution_count": 1,
      "outputs": [
        {
          "output_type": "stream",
          "text": [
            "\u001b[K     |████████████████████████████████| 67.1MB 48kB/s \n",
            "\u001b[K     |████████████████████████████████| 11.8MB 57.5MB/s \n",
            "\u001b[K     |████████████████████████████████| 901kB 45.8MB/s \n",
            "\u001b[K     |████████████████████████████████| 2.0MB 49.9MB/s \n",
            "\u001b[K     |████████████████████████████████| 1.1MB 50.5MB/s \n",
            "\u001b[K     |████████████████████████████████| 81kB 11.4MB/s \n",
            "\u001b[K     |████████████████████████████████| 7.9MB 23.4MB/s \n",
            "\u001b[K     |████████████████████████████████| 3.2MB 52.4MB/s \n",
            "\u001b[K     |████████████████████████████████| 890kB 44.7MB/s \n",
            "\u001b[?25h  Building wheel for scikit-surprise (setup.py) ... \u001b[?25l\u001b[?25hdone\n",
            "  Building wheel for sacremoses (setup.py) ... \u001b[?25l\u001b[?25hdone\n"
          ],
          "name": "stdout"
        }
      ]
    },
    {
      "cell_type": "markdown",
      "metadata": {
        "id": "75CyfArkrF61"
      },
      "source": [
        "# Библиотеки"
      ]
    },
    {
      "cell_type": "code",
      "metadata": {
        "id": "WIijCu1mrHZB"
      },
      "source": [
        "import matplotlib.pyplot as plt\n",
        "from mpl_toolkits import mplot3d\n",
        "from matplotlib import gridspec\n",
        "\n",
        "from tqdm.notebook import tqdm\n",
        "import numpy as np\n",
        "import  pandas as pd\n",
        "import seaborn as sns\n",
        "import torch\n",
        "import scipy\n",
        "import json\n",
        "import re\n",
        "import os\n",
        "\n",
        "from functools import partial\n",
        "from multiprocess import Pool\n",
        "\n",
        "from surprise import Dataset, Reader, SVD"
      ],
      "execution_count": 112,
      "outputs": []
    },
    {
      "cell_type": "markdown",
      "metadata": {
        "id": "2IjqC_28rQq2"
      },
      "source": [
        "# Рекомендательные системы"
      ]
    },
    {
      "cell_type": "code",
      "metadata": {
        "id": "f8Ew7yixrM5D",
        "outputId": "a7b9cacf-f34e-47f0-8495-34d45d44bdc7",
        "colab": {
          "base_uri": "https://localhost:8080/",
          "height": 255
        }
      },
      "source": [
        "data = Dataset.load_builtin('ml-100k')\n",
        "trainset = data.build_full_trainset()\n",
        "dataframe = pd.DataFrame(\n",
        "    trainset.all_ratings(),\n",
        "    columns=['uid', 'iid', 'rating'])\n",
        "dataframe.sample(5, random_state=42)"
      ],
      "execution_count": 3,
      "outputs": [
        {
          "output_type": "stream",
          "text": [
            "Dataset ml-100k could not be found. Do you want to download it? [Y/n] y\n",
            "Trying to download dataset from http://files.grouplens.org/datasets/movielens/ml-100k.zip...\n",
            "Done! Dataset ml-100k has been saved to /root/.surprise_data/ml-100k\n"
          ],
          "name": "stdout"
        },
        {
          "output_type": "execute_result",
          "data": {
            "text/html": [
              "<div>\n",
              "<style scoped>\n",
              "    .dataframe tbody tr th:only-of-type {\n",
              "        vertical-align: middle;\n",
              "    }\n",
              "\n",
              "    .dataframe tbody tr th {\n",
              "        vertical-align: top;\n",
              "    }\n",
              "\n",
              "    .dataframe thead th {\n",
              "        text-align: right;\n",
              "    }\n",
              "</style>\n",
              "<table border=\"1\" class=\"dataframe\">\n",
              "  <thead>\n",
              "    <tr style=\"text-align: right;\">\n",
              "      <th></th>\n",
              "      <th>uid</th>\n",
              "      <th>iid</th>\n",
              "      <th>rating</th>\n",
              "    </tr>\n",
              "  </thead>\n",
              "  <tbody>\n",
              "    <tr>\n",
              "      <th>75721</th>\n",
              "      <td>688</td>\n",
              "      <td>145</td>\n",
              "      <td>1.0</td>\n",
              "    </tr>\n",
              "    <tr>\n",
              "      <th>80184</th>\n",
              "      <td>742</td>\n",
              "      <td>446</td>\n",
              "      <td>3.0</td>\n",
              "    </tr>\n",
              "    <tr>\n",
              "      <th>19864</th>\n",
              "      <td>116</td>\n",
              "      <td>113</td>\n",
              "      <td>5.0</td>\n",
              "    </tr>\n",
              "    <tr>\n",
              "      <th>76699</th>\n",
              "      <td>696</td>\n",
              "      <td>587</td>\n",
              "      <td>3.0</td>\n",
              "    </tr>\n",
              "    <tr>\n",
              "      <th>92991</th>\n",
              "      <td>877</td>\n",
              "      <td>325</td>\n",
              "      <td>3.0</td>\n",
              "    </tr>\n",
              "  </tbody>\n",
              "</table>\n",
              "</div>"
            ],
            "text/plain": [
              "       uid  iid  rating\n",
              "75721  688  145     1.0\n",
              "80184  742  446     3.0\n",
              "19864  116  113     5.0\n",
              "76699  696  587     3.0\n",
              "92991  877  325     3.0"
            ]
          },
          "metadata": {
            "tags": []
          },
          "execution_count": 3
        }
      ]
    },
    {
      "cell_type": "code",
      "metadata": {
        "id": "zudVqCLX6YpS",
        "outputId": "161cb4ae-30ad-4316-dd40-fdbd1938770f",
        "colab": {
          "base_uri": "https://localhost:8080/",
          "height": 49,
          "referenced_widgets": [
            "a8d7a1ff827745eba6155a03dc5825fa",
            "7d58dd72b27246109b79793e87dfd4ab",
            "8a527d42a1c34d06bc27512cf7eaece3",
            "de4f26ad882544f1bfd501ae3c195981",
            "e0081cf329f5453d86b353f08148ab37",
            "57f5fe4260754c5288eb73ea13000be9",
            "3833f9f2db9f40c0be3835d05e64bf59",
            "036b21454f5a4f76aa3e91e89dcfbd30",
            "197c636e00ad4e80be9a4ce3891f3246",
            "1c10d66c71fc493eb03a1deff4959c17",
            "4e5a94a9ac9648af843195822bbc5e5d"
          ]
        }
      },
      "source": [
        "mapping = dict()\n",
        "for index in tqdm(dataframe.index):\n",
        "    item = dataframe.loc[index]\n",
        "    if item['uid'] not in mapping:\n",
        "        mapping[item['uid']] = dict()\n",
        "    mapping[item['uid']][item['iid']] = item['rating']"
      ],
      "execution_count": 125,
      "outputs": [
        {
          "output_type": "display_data",
          "data": {
            "application/vnd.jupyter.widget-view+json": {
              "model_id": "a8d7a1ff827745eba6155a03dc5825fa",
              "version_minor": 0,
              "version_major": 2
            },
            "text/plain": [
              "  0%|          | 0/100000 [00:00<?, ?it/s]"
            ]
          },
          "metadata": {
            "tags": []
          }
        }
      ]
    },
    {
      "cell_type": "code",
      "metadata": {
        "id": "pHalEh5B4Vil"
      },
      "source": [
        "uids = np.unique(dataframe['uid'].values)[:300]\n",
        "means = {uid: dataframe.loc[dataframe['uid'] == uid]['rating'].values.mean() for uid in uids}"
      ],
      "execution_count": 71,
      "outputs": []
    },
    {
      "cell_type": "code",
      "metadata": {
        "id": "tI1y4Ws_5PYI"
      },
      "source": [
        "def r(uid, iid=None):\n",
        "    if uid not in mapping:\n",
        "        return None\n",
        "    if iid is None:\n",
        "        all_iid = mapping.get(uid, None)\n",
        "        return [(key, all_iid[key]) for key in all_iid]\n",
        "    else:\n",
        "        return mapping.get(uid, None).get(iid, None)"
      ],
      "execution_count": 126,
      "outputs": []
    },
    {
      "cell_type": "code",
      "metadata": {
        "id": "4GdPpXq38DBq"
      },
      "source": [
        "def score_model(predictor, metric='std'):\n",
        "    score = 0\n",
        "    if metric == 'std':\n",
        "        total = 0\n",
        "        number = 0\n",
        "\n",
        "        for uid in uids:\n",
        "            for iid, iid_score in r(uid):\n",
        "                pred = predictor(int(uid), int(iid))\n",
        "                if pred is not None:\n",
        "                    total += (iid_score - pred)**2\n",
        "                    number += 1\n",
        "        if number is not None:\n",
        "            score = total / number\n",
        "        else:\n",
        "            score = None\n",
        "    return score\n"
      ],
      "execution_count": 122,
      "outputs": []
    },
    {
      "cell_type": "markdown",
      "metadata": {
        "id": "-EXBfF0JAC5g"
      },
      "source": [
        "## Константная модель"
      ]
    },
    {
      "cell_type": "code",
      "metadata": {
        "id": "exyEfin4AGE6"
      },
      "source": [
        "def predict_user_constant(uid, iid):\n",
        "    return means[uid]"
      ],
      "execution_count": 135,
      "outputs": []
    },
    {
      "cell_type": "code",
      "metadata": {
        "id": "h_bn0ZEVAPuc",
        "outputId": "bc7125d8-9e51-4848-ff83-2a3094679e55",
        "colab": {
          "base_uri": "https://localhost:8080/"
        }
      },
      "source": [
        "%%time\n",
        "predict_user_constant(0, 377)"
      ],
      "execution_count": 136,
      "outputs": [
        {
          "output_type": "stream",
          "text": [
            "CPU times: user 11 µs, sys: 0 ns, total: 11 µs\n",
            "Wall time: 15.5 µs\n"
          ],
          "name": "stdout"
        },
        {
          "output_type": "execute_result",
          "data": {
            "text/plain": [
              "3.6153846153846154"
            ]
          },
          "metadata": {
            "tags": []
          },
          "execution_count": 136
        }
      ]
    },
    {
      "cell_type": "code",
      "metadata": {
        "id": "Za3h19_5AZln",
        "outputId": "6ff05913-b29c-4fcd-a40a-de7dd19e7790",
        "colab": {
          "base_uri": "https://localhost:8080/"
        }
      },
      "source": [
        "%%time\n",
        "score_model(predict_user_constant)"
      ],
      "execution_count": 137,
      "outputs": [
        {
          "output_type": "stream",
          "text": [
            "CPU times: user 90.4 ms, sys: 2.99 ms, total: 93.4 ms\n",
            "Wall time: 95.8 ms\n"
          ],
          "name": "stdout"
        },
        {
          "output_type": "execute_result",
          "data": {
            "text/plain": [
              "1.103921264013213"
            ]
          },
          "metadata": {
            "tags": []
          },
          "execution_count": 137
        }
      ]
    },
    {
      "cell_type": "markdown",
      "metadata": {
        "id": "mevjAIsgtecU"
      },
      "source": [
        "## Корреляционная система"
      ]
    },
    {
      "cell_type": "markdown",
      "metadata": {
        "id": "yaCuhreU7M70"
      },
      "source": [
        "$$\n",
        "  \\hat{r}_{ui} = \\bar{r}_{u} + \\frac{\\sum S(u, u')\\cdot \\left(r_{u'i} - \\bar{r}_{u'}\\right)}{\\sum S(u, u')} \n",
        "$$"
      ]
    },
    {
      "cell_type": "code",
      "metadata": {
        "id": "XXZaVq4Jz_NG"
      },
      "source": [
        "def predict_user_score(uid, iid, scores):\n",
        "    weighted_score = 0\n",
        "    list_of_ids = []\n",
        "\n",
        "    pair_list = [(id, iid) for id in uids]\n",
        "    f = lambda x: (x[0], x[1], r(*x))\n",
        "    \n",
        "    for id, iid, r_uid_iid in Pool(processes=2).imap_unordered(f, pair_list):\n",
        "        if id != uid:\n",
        "            r_id_iid = r(id, iid)\n",
        "            if r_uid_iid is not None:\n",
        "                list_of_ids.append(id)\n",
        "                weighted_score += scores[uid, id]*(r_id_iid - means[id])\n",
        "\n",
        "    if len(list_of_ids):\n",
        "        return means[uid] + weighted_score/scores[uid, list_of_ids].sum()\n",
        "    else:\n",
        "        return None"
      ],
      "execution_count": 146,
      "outputs": []
    },
    {
      "cell_type": "markdown",
      "metadata": {
        "id": "UcS018_lubAT"
      },
      "source": [
        "### Мера сходства пользователей\n",
        "$$\n",
        "  S_{u}\\bigr(u_1, u_2\\bigr) = ?\n",
        "$$"
      ]
    },
    {
      "cell_type": "markdown",
      "metadata": {
        "id": "yGm7wF-9uxy3"
      },
      "source": [
        "#### Определим как ср. кв. отклоение средних оценок\n",
        "$$\n",
        "  S_{u}\\bigr(u_1, u_2\\bigr) = \\left(\\bar{r}_{u_1} - \\bar{r}_{u_2}\\right)^2\n",
        "$$"
      ]
    },
    {
      "cell_type": "code",
      "metadata": {
        "id": "YXgdf2yrvN3C"
      },
      "source": [
        "def user_metric_one(u1, u2):\n",
        "    r'''\n",
        "    Оценка схожести объектов на основе квадрата разности средних оценок.\n",
        "\n",
        "    :param u1: идентификатор первого пользователя\n",
        "    :type u1: int\n",
        "    :param u2: иденттификатор второго пользователя\n",
        "    :type u2: int\n",
        "\n",
        "    :return: оценку схожести объектов\n",
        "    :rtype: float\n",
        "    '''\n",
        "    ru1 = means[u1]\n",
        "    ru2 = means[u2]\n",
        "    return (ru1 - ru2)**2"
      ],
      "execution_count": 72,
      "outputs": []
    },
    {
      "cell_type": "markdown",
      "metadata": {
        "id": "plNQuTh1wK8K"
      },
      "source": [
        "##### Проанализируем расстояния"
      ]
    },
    {
      "cell_type": "code",
      "metadata": {
        "colab": {
          "base_uri": "https://localhost:8080/",
          "height": 49,
          "referenced_widgets": [
            "965a8b5700f24e20807249ed9d2fbf40",
            "d322e59e40274aaf86987106bc15bc4a",
            "9dd82f17b2194f7eb86e70dbacbf919d",
            "d5438cff0c6a412bb38f725204e7c149",
            "1e23cfc2f9104c85afdc841284ff1350",
            "f2aec6a700d946b4ad988e3d40a5e900",
            "0feb606a3dda474a8e1d00318c239165",
            "ce31cbe520134cc999da4c8448857b95",
            "e5c1814a0c60489cb76410dec0e06b45",
            "0940e0b5d64240738fb5444edd367885",
            "451191855ca341a48cd319ed9a439c1a"
          ]
        },
        "id": "rr1dR277siTt",
        "outputId": "fa9f982d-af9c-459d-9b19-7815a7d434b6"
      },
      "source": [
        "scores = np.zeros(shape=[len(uids), len(uids)])\n",
        "\n",
        "def f(pair):\n",
        "    i, j = pair\n",
        "    return i, j, user_metric_one(uids[i], uids[j])\n",
        "\n",
        "pair_list = [(i, j) \\\n",
        "             for i in range(len(uids)) \\\n",
        "             for j in range(len(uids)) if i < j]\n",
        "\n",
        "for i, j, score in tqdm(Pool(processes=2).imap_unordered(f, pair_list), total=len(pair_list)):\n",
        "    scores[i, j] = score\n",
        "    scores[j, i] = score"
      ],
      "execution_count": 73,
      "outputs": [
        {
          "output_type": "display_data",
          "data": {
            "application/vnd.jupyter.widget-view+json": {
              "model_id": "965a8b5700f24e20807249ed9d2fbf40",
              "version_minor": 0,
              "version_major": 2
            },
            "text/plain": [
              "  0%|          | 0/44850 [00:00<?, ?it/s]"
            ]
          },
          "metadata": {
            "tags": []
          }
        }
      ]
    },
    {
      "cell_type": "code",
      "metadata": {
        "id": "_stSFl36zPZ0",
        "outputId": "37e31747-5adf-4576-c322-c174cd438f90",
        "colab": {
          "base_uri": "https://localhost:8080/",
          "height": 278
        }
      },
      "source": [
        "sns.heatmap(data=scores)\n",
        "plt.show()"
      ],
      "execution_count": 92,
      "outputs": [
        {
          "output_type": "display_data",
          "data": {
            "image/png": "[encoded data removed]",
            "text/plain": [
              "<Figure size 432x288 with 2 Axes>"
            ]
          },
          "metadata": {
            "tags": [],
            "needs_background": "light"
          }
        }
      ]
    },
    {
      "cell_type": "code",
      "metadata": {
        "id": "LIlzqdcD2gcP",
        "outputId": "7f821400-ff68-4689-98fc-4430f5f82cc0",
        "colab": {
          "base_uri": "https://localhost:8080/"
        }
      },
      "source": [
        "%%time\n",
        "predict_user_score(0, 377, scores)"
      ],
      "execution_count": 147,
      "outputs": [
        {
          "output_type": "stream",
          "text": [
            "CPU times: user 395 ms, sys: 67.7 ms, total: 463 ms\n",
            "Wall time: 510 ms\n"
          ],
          "name": "stdout"
        },
        {
          "output_type": "execute_result",
          "data": {
            "text/plain": [
              "3.5008090561626926"
            ]
          },
          "metadata": {
            "tags": []
          },
          "execution_count": 147
        }
      ]
    },
    {
      "cell_type": "code",
      "metadata": {
        "id": "YKVZ9dDR77dG",
        "outputId": "5ffc3fe2-2f37-4461-e4e9-33a79b8233d0",
        "colab": {
          "base_uri": "https://localhost:8080/"
        }
      },
      "source": [
        "%%time\n",
        "score_model(partial(predict_user_score, scores=scores))"
      ],
      "execution_count": null,
      "outputs": [
        {
          "output_type": "stream",
          "text": [
            "Exception ignored in: <function _releaseLock at 0x7f36fc2fe8c0>\n",
            "Traceback (most recent call last):\n",
            "  File \"/usr/lib/python3.7/logging/__init__.py\", line 221, in _releaseLock\n",
            "    def _releaseLock():\n",
            "KeyboardInterrupt\n",
            "  File \"/usr/local/lib/python3.7/dist-packages/multiprocess/connection.py\", line 410, in _recv_bytes\n",
            "    buf = self._recv(4)\n",
            "  File \"/usr/local/lib/python3.7/dist-packages/multiprocess/connection.py\", line 410, in _recv_bytes\n",
            "    buf = self._recv(4)\n",
            "  File \"/usr/local/lib/python3.7/dist-packages/multiprocess/connection.py\", line 382, in _recv\n",
            "    chunk = read(handle, remaining)\n",
            "  File \"/usr/local/lib/python3.7/dist-packages/multiprocess/connection.py\", line 382, in _recv\n",
            "    chunk = read(handle, remaining)\n",
            "KeyboardInterrupt\n",
            "KeyboardInterrupt\n",
            "\n",
            "During handling of the above exception, another exception occurred:\n",
            "\n",
            "\n",
            "During handling of the above exception, another exception occurred:\n",
            "\n",
            "Traceback (most recent call last):\n",
            "  File \"/usr/local/lib/python3.7/dist-packages/multiprocess/process.py\", line 297, in _bootstrap\n",
            "    self.run()\n",
            "  File \"/usr/local/lib/python3.7/dist-packages/multiprocess/connection.py\", line 410, in _recv_bytes\n",
            "    buf = self._recv(4)\n",
            "  File \"/usr/local/lib/python3.7/dist-packages/multiprocess/pool.py\", line 110, in worker\n",
            "    task = get()\n",
            "  File \"/usr/local/lib/python3.7/dist-packages/multiprocess/connection.py\", line 410, in _recv_bytes\n",
            "    buf = self._recv(4)\n",
            "  File \"/usr/local/lib/python3.7/dist-packages/multiprocess/connection.py\", line 410, in _recv_bytes\n",
            "    buf = self._recv(4)\n",
            "  File \"/usr/local/lib/python3.7/dist-packages/multiprocess/connection.py\", line 410, in _recv_bytes\n",
            "    buf = self._recv(4)\n",
            "  File \"/usr/local/lib/python3.7/dist-packages/multiprocess/connection.py\", line 410, in _recv_bytes\n",
            "    buf = self._recv(4)\n",
            "  File \"/usr/local/lib/python3.7/dist-packages/multiprocess/connection.py\", line 410, in _recv_bytes\n",
            "    buf = self._recv(4)\n",
            "  File \"/usr/local/lib/python3.7/dist-packages/multiprocess/connection.py\", line 410, in _recv_bytes\n",
            "    buf = self._recv(4)\n",
            "  File \"/usr/local/lib/python3.7/dist-packages/multiprocess/connection.py\", line 410, in _recv_bytes\n",
            "    buf = self._recv(4)\n",
            "  File \"/usr/local/lib/python3.7/dist-packages/multiprocess/pool.py\", line 110, in worker\n",
            "    task = get()\n",
            "  File \"/usr/local/lib/python3.7/dist-packages/multiprocess/connection.py\", line 410, in _recv_bytes\n",
            "    buf = self._recv(4)\n",
            "  File \"/usr/local/lib/python3.7/dist-packages/multiprocess/connection.py\", line 410, in _recv_bytes\n",
            "    buf = self._recv(4)\n",
            "  File \"/usr/local/lib/python3.7/dist-packages/multiprocess/connection.py\", line 410, in _recv_bytes\n",
            "    buf = self._recv(4)\n",
            "  File \"/usr/local/lib/python3.7/dist-packages/multiprocess/pool.py\", line 110, in worker\n",
            "    task = get()\n",
            "  File \"/usr/local/lib/python3.7/dist-packages/multiprocess/pool.py\", line 110, in worker\n",
            "    task = get()\n",
            "  File \"/usr/local/lib/python3.7/dist-packages/multiprocess/connection.py\", line 410, in _recv_bytes\n",
            "    buf = self._recv(4)\n",
            "  File \"/usr/local/lib/python3.7/dist-packages/multiprocess/connection.py\", line 410, in _recv_bytes\n",
            "    buf = self._recv(4)\n",
            "  File \"/usr/local/lib/python3.7/dist-packages/multiprocess/connection.py\", line 410, in _recv_bytes\n",
            "    buf = self._recv(4)\n",
            "  File \"/usr/local/lib/python3.7/dist-packages/multiprocess/pool.py\", line 110, in worker\n",
            "    task = get()\n",
            "  File \"/usr/local/lib/python3.7/dist-packages/multiprocess/queues.py\", line 355, in get\n",
            "    res = self._reader.recv_bytes()\n",
            "  File \"/usr/local/lib/python3.7/dist-packages/multiprocess/process.py\", line 99, in run\n",
            "    self._target(*self._args, **self._kwargs)\n",
            "  File \"/usr/local/lib/python3.7/dist-packages/multiprocess/connection.py\", line 382, in _recv\n",
            "    chunk = read(handle, remaining)\n",
            "  File \"/usr/local/lib/python3.7/dist-packages/multiprocess/connection.py\", line 382, in _recv\n",
            "    chunk = read(handle, remaining)\n",
            "  File \"/usr/local/lib/python3.7/dist-packages/multiprocess/queues.py\", line 354, in get\n",
            "    with self._rlock:\n",
            "  File \"/usr/local/lib/python3.7/dist-packages/multiprocess/queues.py\", line 354, in get\n",
            "    with self._rlock:\n",
            "  File \"/usr/local/lib/python3.7/dist-packages/multiprocess/connection.py\", line 382, in _recv\n",
            "    chunk = read(handle, remaining)\n",
            "  File \"/usr/local/lib/python3.7/dist-packages/multiprocess/connection.py\", line 382, in _recv\n",
            "    chunk = read(handle, remaining)\n",
            "  File \"/usr/local/lib/python3.7/dist-packages/multiprocess/connection.py\", line 382, in _recv\n",
            "    chunk = read(handle, remaining)\n",
            "Traceback (most recent call last):\n",
            "  File \"/usr/local/lib/python3.7/dist-packages/multiprocess/queues.py\", line 354, in get\n",
            "    with self._rlock:\n",
            "  File \"/usr/local/lib/python3.7/dist-packages/multiprocess/pool.py\", line 110, in worker\n",
            "    task = get()\n",
            "  File \"/usr/local/lib/python3.7/dist-packages/multiprocess/process.py\", line 297, in _bootstrap\n",
            "    self.run()\n",
            "KeyboardInterrupt\n",
            "KeyboardInterrupt\n",
            "KeyboardInterrupt\n",
            "  File \"/usr/local/lib/python3.7/dist-packages/multiprocess/synchronize.py\", line 102, in __enter__\n",
            "    return self._semlock.__enter__()\n",
            "KeyboardInterrupt\n",
            "  File \"/usr/local/lib/python3.7/dist-packages/multiprocess/synchronize.py\", line 102, in __enter__\n",
            "    return self._semlock.__enter__()\n",
            "  File \"/usr/local/lib/python3.7/dist-packages/multiprocess/synchronize.py\", line 102, in __enter__\n",
            "    return self._semlock.__enter__()\n",
            "KeyboardInterrupt\n",
            "\n",
            "During handling of the above exception, another exception occurred:\n",
            "\n",
            "KeyboardInterrupt\n",
            "\n",
            "During handling of the above exception, another exception occurred:\n",
            "\n",
            "\n",
            "During handling of the above exception, another exception occurred:\n",
            "\n",
            "\n",
            "During handling of the above exception, another exception occurred:\n",
            "\n",
            "KeyboardInterrupt\n",
            "KeyboardInterrupt\n",
            "  File \"/usr/local/lib/python3.7/dist-packages/multiprocess/process.py\", line 99, in run\n",
            "    self._target(*self._args, **self._kwargs)\n",
            "\n",
            "During handling of the above exception, another exception occurred:\n",
            "\n",
            "  File \"/usr/local/lib/python3.7/dist-packages/multiprocess/synchronize.py\", line 105, in __exit__\n",
            "    return self._semlock.__exit__(*args)\n",
            "  File \"/usr/local/lib/python3.7/dist-packages/multiprocess/connection.py\", line 382, in _recv\n",
            "    chunk = read(handle, remaining)\n",
            "  File \"/usr/local/lib/python3.7/dist-packages/multiprocess/queues.py\", line 354, in get\n",
            "    with self._rlock:\n",
            "  File \"/usr/local/lib/python3.7/dist-packages/multiprocess/queues.py\", line 354, in get\n",
            "    with self._rlock:\n",
            "  File \"/usr/local/lib/python3.7/dist-packages/multiprocess/connection.py\", line 382, in _recv\n",
            "    chunk = read(handle, remaining)\n",
            "  File \"/usr/local/lib/python3.7/dist-packages/multiprocess/connection.py\", line 382, in _recv\n",
            "    chunk = read(handle, remaining)\n",
            "  File \"/usr/local/lib/python3.7/dist-packages/multiprocess/connection.py\", line 382, in _recv\n",
            "    chunk = read(handle, remaining)\n",
            "  File \"/usr/local/lib/python3.7/dist-packages/multiprocess/connection.py\", line 382, in _recv\n",
            "    chunk = read(handle, remaining)\n",
            "  File \"/usr/local/lib/python3.7/dist-packages/multiprocess/connection.py\", line 382, in _recv\n",
            "    chunk = read(handle, remaining)\n",
            "Traceback (most recent call last):\n",
            "Traceback (most recent call last):\n",
            "Traceback (most recent call last):\n",
            "Traceback (most recent call last):\n",
            "  File \"/usr/local/lib/python3.7/dist-packages/multiprocess/pool.py\", line 110, in worker\n",
            "    task = get()\n",
            "Traceback (most recent call last):\n",
            "  File \"/usr/local/lib/python3.7/dist-packages/multiprocess/connection.py\", line 382, in _recv\n",
            "    chunk = read(handle, remaining)\n",
            "KeyboardInterrupt\n",
            "  File \"/usr/local/lib/python3.7/dist-packages/multiprocess/process.py\", line 297, in _bootstrap\n",
            "    self.run()\n",
            "KeyboardInterrupt\n",
            "KeyboardInterrupt\n",
            "  File \"/usr/local/lib/python3.7/dist-packages/multiprocess/synchronize.py\", line 102, in __enter__\n",
            "    return self._semlock.__enter__()\n",
            "  File \"/usr/local/lib/python3.7/dist-packages/multiprocess/synchronize.py\", line 102, in __enter__\n",
            "    return self._semlock.__enter__()\n",
            "KeyboardInterrupt\n",
            "KeyboardInterrupt\n",
            "KeyboardInterrupt\n",
            "KeyboardInterrupt\n",
            "  File \"/usr/local/lib/python3.7/dist-packages/multiprocess/process.py\", line 297, in _bootstrap\n",
            "    self.run()\n",
            "  File \"/usr/local/lib/python3.7/dist-packages/multiprocess/connection.py\", line 382, in _recv\n",
            "    chunk = read(handle, remaining)\n",
            "  File \"/usr/local/lib/python3.7/dist-packages/multiprocess/connection.py\", line 382, in _recv\n",
            "    chunk = read(handle, remaining)\n",
            "  File \"/usr/local/lib/python3.7/dist-packages/multiprocess/queues.py\", line 355, in get\n",
            "    res = self._reader.recv_bytes()\n",
            "  File \"/usr/local/lib/python3.7/dist-packages/multiprocess/process.py\", line 297, in _bootstrap\n",
            "    self.run()\n",
            "KeyboardInterrupt\n",
            "  File \"/usr/local/lib/python3.7/dist-packages/multiprocess/process.py\", line 297, in _bootstrap\n",
            "    self.run()\n",
            "  File \"/usr/local/lib/python3.7/dist-packages/multiprocess/process.py\", line 297, in _bootstrap\n",
            "    self.run()\n",
            "\n",
            "During handling of the above exception, another exception occurred:\n",
            "\n",
            "  File \"/usr/local/lib/python3.7/dist-packages/multiprocess/process.py\", line 99, in run\n",
            "    self._target(*self._args, **self._kwargs)\n",
            "KeyboardInterrupt\n",
            "KeyboardInterrupt\n",
            "\n",
            "During handling of the above exception, another exception occurred:\n",
            "\n",
            "\n",
            "During handling of the above exception, another exception occurred:\n",
            "\n",
            "\n",
            "During handling of the above exception, another exception occurred:\n",
            "\n",
            "\n",
            "During handling of the above exception, another exception occurred:\n",
            "\n",
            "\n",
            "During handling of the above exception, another exception occurred:\n",
            "\n",
            "  File \"/usr/local/lib/python3.7/dist-packages/multiprocess/process.py\", line 99, in run\n",
            "    self._target(*self._args, **self._kwargs)\n",
            "KeyboardInterrupt\n",
            "KeyboardInterrupt\n",
            "  File \"/usr/local/lib/python3.7/dist-packages/multiprocess/synchronize.py\", line 105, in __exit__\n",
            "    return self._semlock.__exit__(*args)\n",
            "  File \"/usr/local/lib/python3.7/dist-packages/multiprocess/process.py\", line 99, in run\n",
            "    self._target(*self._args, **self._kwargs)\n",
            "  File \"/usr/local/lib/python3.7/dist-packages/multiprocess/process.py\", line 99, in run\n",
            "    self._target(*self._args, **self._kwargs)\n",
            "  File \"/usr/local/lib/python3.7/dist-packages/multiprocess/pool.py\", line 110, in worker\n",
            "    task = get()\n",
            "Traceback (most recent call last):\n",
            "\n",
            "During handling of the above exception, another exception occurred:\n",
            "\n",
            "  File \"/usr/local/lib/python3.7/dist-packages/multiprocess/process.py\", line 99, in run\n",
            "    self._target(*self._args, **self._kwargs)\n",
            "Traceback (most recent call last):\n",
            "Traceback (most recent call last):\n",
            "Traceback (most recent call last):\n",
            "Traceback (most recent call last):\n",
            "Traceback (most recent call last):\n",
            "  File \"/usr/local/lib/python3.7/dist-packages/multiprocess/pool.py\", line 110, in worker\n",
            "    task = get()\n",
            "\n",
            "During handling of the above exception, another exception occurred:\n",
            "\n",
            "\n",
            "During handling of the above exception, another exception occurred:\n",
            "\n",
            "KeyboardInterrupt\n",
            "  File \"/usr/local/lib/python3.7/dist-packages/multiprocess/pool.py\", line 110, in worker\n",
            "    task = get()\n",
            "  File \"/usr/local/lib/python3.7/dist-packages/multiprocess/pool.py\", line 110, in worker\n",
            "    task = get()\n",
            "  File \"/usr/local/lib/python3.7/dist-packages/multiprocess/queues.py\", line 355, in get\n",
            "    res = self._reader.recv_bytes()\n",
            "  File \"/usr/local/lib/python3.7/dist-packages/multiprocess/pool.py\", line 110, in worker\n",
            "    task = get()\n",
            "  File \"/usr/local/lib/python3.7/dist-packages/multiprocess/process.py\", line 297, in _bootstrap\n",
            "    self.run()\n",
            "  File \"/usr/local/lib/python3.7/dist-packages/multiprocess/process.py\", line 297, in _bootstrap\n",
            "    self.run()\n",
            "  File \"/usr/local/lib/python3.7/dist-packages/multiprocess/process.py\", line 297, in _bootstrap\n",
            "    self.run()\n",
            "  File \"/usr/local/lib/python3.7/dist-packages/multiprocess/process.py\", line 297, in _bootstrap\n",
            "    self.run()\n",
            "  File \"/usr/local/lib/python3.7/dist-packages/multiprocess/process.py\", line 297, in _bootstrap\n",
            "    self.run()\n",
            "  File \"/usr/local/lib/python3.7/dist-packages/multiprocess/queues.py\", line 355, in get\n",
            "    res = self._reader.recv_bytes()\n",
            "Traceback (most recent call last):\n",
            "Traceback (most recent call last):\n",
            "  File \"/usr/local/lib/python3.7/dist-packages/multiprocess/process.py\", line 297, in _bootstrap\n",
            "    self.run()\n",
            "  File \"/usr/local/lib/python3.7/dist-packages/multiprocess/queues.py\", line 355, in get\n",
            "    res = self._reader.recv_bytes()\n",
            "Traceback (most recent call last):\n",
            "  File \"/usr/local/lib/python3.7/dist-packages/multiprocess/queues.py\", line 355, in get\n",
            "    res = self._reader.recv_bytes()\n",
            "  File \"/usr/local/lib/python3.7/dist-packages/multiprocess/synchronize.py\", line 105, in __exit__\n",
            "    return self._semlock.__exit__(*args)\n",
            "  File \"/usr/local/lib/python3.7/dist-packages/multiprocess/process.py\", line 99, in run\n",
            "    self._target(*self._args, **self._kwargs)\n",
            "  File \"/usr/local/lib/python3.7/dist-packages/multiprocess/process.py\", line 99, in run\n",
            "    self._target(*self._args, **self._kwargs)\n",
            "  File \"/usr/local/lib/python3.7/dist-packages/multiprocess/process.py\", line 99, in run\n",
            "    self._target(*self._args, **self._kwargs)\n",
            "  File \"/usr/local/lib/python3.7/dist-packages/multiprocess/process.py\", line 99, in run\n",
            "    self._target(*self._args, **self._kwargs)\n",
            "  File \"/usr/local/lib/python3.7/dist-packages/multiprocess/synchronize.py\", line 105, in __exit__\n",
            "    return self._semlock.__exit__(*args)\n",
            "  File \"/usr/local/lib/python3.7/dist-packages/multiprocess/process.py\", line 297, in _bootstrap\n",
            "    self.run()\n",
            "  File \"/usr/local/lib/python3.7/dist-packages/multiprocess/process.py\", line 297, in _bootstrap\n",
            "    self.run()\n",
            "  File \"/usr/local/lib/python3.7/dist-packages/multiprocess/queues.py\", line 355, in get\n",
            "    res = self._reader.recv_bytes()\n",
            "  File \"/usr/local/lib/python3.7/dist-packages/multiprocess/process.py\", line 99, in run\n",
            "    self._target(*self._args, **self._kwargs)\n",
            "  File \"/usr/local/lib/python3.7/dist-packages/multiprocess/synchronize.py\", line 105, in __exit__\n",
            "    return self._semlock.__exit__(*args)\n",
            "  File \"/usr/local/lib/python3.7/dist-packages/multiprocess/process.py\", line 297, in _bootstrap\n",
            "    self.run()\n",
            "  File \"/usr/local/lib/python3.7/dist-packages/multiprocess/process.py\", line 99, in run\n",
            "    self._target(*self._args, **self._kwargs)\n",
            "  File \"/usr/local/lib/python3.7/dist-packages/multiprocess/synchronize.py\", line 105, in __exit__\n",
            "    return self._semlock.__exit__(*args)\n",
            "KeyboardInterrupt\n",
            "  File \"/usr/local/lib/python3.7/dist-packages/multiprocess/pool.py\", line 110, in worker\n",
            "    task = get()\n",
            "  File \"/usr/local/lib/python3.7/dist-packages/multiprocess/pool.py\", line 110, in worker\n",
            "    task = get()\n",
            "  File \"/usr/local/lib/python3.7/dist-packages/multiprocess/pool.py\", line 110, in worker\n",
            "    task = get()\n",
            "  File \"/usr/local/lib/python3.7/dist-packages/multiprocess/pool.py\", line 110, in worker\n",
            "    task = get()\n",
            "KeyboardInterrupt\n",
            "  File \"/usr/local/lib/python3.7/dist-packages/multiprocess/process.py\", line 99, in run\n",
            "    self._target(*self._args, **self._kwargs)\n",
            "  File \"/usr/local/lib/python3.7/dist-packages/multiprocess/process.py\", line 99, in run\n",
            "    self._target(*self._args, **self._kwargs)\n",
            "  File \"/usr/local/lib/python3.7/dist-packages/multiprocess/pool.py\", line 110, in worker\n",
            "    task = get()\n",
            "  File \"/usr/local/lib/python3.7/dist-packages/multiprocess/process.py\", line 99, in run\n",
            "    self._target(*self._args, **self._kwargs)\n",
            "KeyboardInterrupt\n",
            "KeyboardInterrupt\n",
            "  File \"/usr/local/lib/python3.7/dist-packages/multiprocess/queues.py\", line 355, in get\n",
            "    res = self._reader.recv_bytes()\n",
            "  File \"/usr/local/lib/python3.7/dist-packages/multiprocess/queues.py\", line 355, in get\n",
            "    res = self._reader.recv_bytes()\n",
            "  File \"/usr/local/lib/python3.7/dist-packages/multiprocess/queues.py\", line 355, in get\n",
            "    res = self._reader.recv_bytes()\n",
            "  File \"/usr/local/lib/python3.7/dist-packages/multiprocess/queues.py\", line 355, in get\n",
            "    res = self._reader.recv_bytes()\n",
            "  File \"/usr/local/lib/python3.7/dist-packages/multiprocess/pool.py\", line 110, in worker\n",
            "    task = get()\n",
            "  File \"/usr/local/lib/python3.7/dist-packages/multiprocess/synchronize.py\", line 105, in __exit__\n",
            "    return self._semlock.__exit__(*args)\n",
            "  File \"/usr/local/lib/python3.7/dist-packages/multiprocess/pool.py\", line 110, in worker\n",
            "    task = get()\n",
            "  File \"/usr/local/lib/python3.7/dist-packages/multiprocess/pool.py\", line 110, in worker\n",
            "    task = get()\n",
            "  File \"/usr/local/lib/python3.7/dist-packages/multiprocess/queues.py\", line 355, in get\n",
            "    res = self._reader.recv_bytes()\n",
            "  File \"/usr/local/lib/python3.7/dist-packages/multiprocess/pool.py\", line 110, in worker\n",
            "    task = get()\n",
            "  File \"/usr/local/lib/python3.7/dist-packages/multiprocess/synchronize.py\", line 105, in __exit__\n",
            "    return self._semlock.__exit__(*args)\n",
            "  File \"/usr/local/lib/python3.7/dist-packages/multiprocess/synchronize.py\", line 105, in __exit__\n",
            "    return self._semlock.__exit__(*args)\n",
            "  File \"/usr/local/lib/python3.7/dist-packages/multiprocess/synchronize.py\", line 105, in __exit__\n",
            "    return self._semlock.__exit__(*args)\n",
            "  File \"/usr/local/lib/python3.7/dist-packages/multiprocess/synchronize.py\", line 105, in __exit__\n",
            "    return self._semlock.__exit__(*args)\n",
            "KeyboardInterrupt\n",
            "  File \"/usr/local/lib/python3.7/dist-packages/multiprocess/queues.py\", line 355, in get\n",
            "    res = self._reader.recv_bytes()\n",
            "  File \"/usr/local/lib/python3.7/dist-packages/multiprocess/queues.py\", line 355, in get\n",
            "    res = self._reader.recv_bytes()\n",
            "  File \"/usr/local/lib/python3.7/dist-packages/multiprocess/queues.py\", line 355, in get\n",
            "    res = self._reader.recv_bytes()\n",
            "  File \"/usr/local/lib/python3.7/dist-packages/multiprocess/synchronize.py\", line 105, in __exit__\n",
            "    return self._semlock.__exit__(*args)\n",
            "  File \"/usr/local/lib/python3.7/dist-packages/multiprocess/queues.py\", line 355, in get\n",
            "    res = self._reader.recv_bytes()\n",
            "KeyboardInterrupt\n",
            "KeyboardInterrupt\n",
            "KeyboardInterrupt\n",
            "KeyboardInterrupt\n",
            "  File \"/usr/local/lib/python3.7/dist-packages/multiprocess/synchronize.py\", line 105, in __exit__\n",
            "    return self._semlock.__exit__(*args)\n",
            "  File \"/usr/local/lib/python3.7/dist-packages/multiprocess/synchronize.py\", line 105, in __exit__\n",
            "    return self._semlock.__exit__(*args)\n",
            "  File \"/usr/local/lib/python3.7/dist-packages/multiprocess/synchronize.py\", line 105, in __exit__\n",
            "    return self._semlock.__exit__(*args)\n",
            "KeyboardInterrupt\n",
            "  File \"/usr/local/lib/python3.7/dist-packages/multiprocess/synchronize.py\", line 105, in __exit__\n",
            "    return self._semlock.__exit__(*args)\n",
            "KeyboardInterrupt\n",
            "KeyboardInterrupt\n",
            "KeyboardInterrupt\n",
            "KeyboardInterrupt\n"
          ],
          "name": "stderr"
        }
      ]
    },
    {
      "cell_type": "markdown",
      "metadata": {
        "id": "DeSWPHq1-bSV"
      },
      "source": [
        "#### Корреляция пирсона "
      ]
    },
    {
      "cell_type": "code",
      "metadata": {
        "id": "RfaOo3Tf_fco"
      },
      "source": [
        ""
      ],
      "execution_count": null,
      "outputs": []
    }
  ]
}