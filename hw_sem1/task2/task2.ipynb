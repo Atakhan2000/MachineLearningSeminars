{
  "nbformat": 4,
  "nbformat_minor": 0,
  "metadata": {
    "kernelspec": {
      "display_name": "Python 3",
      "language": "python",
      "name": "python3"
    },
    "language_info": {
      "codemirror_mode": {
        "name": "ipython",
        "version": 3
      },
      "file_extension": ".py",
      "mimetype": "text/x-python",
      "name": "python",
      "nbconvert_exporter": "python",
      "pygments_lexer": "ipython3",
      "version": "3.7.4"
    },
    "colab": {
      "provenance": []
    }
  },
  "cells": [
    {
      "cell_type": "markdown",
      "source": [
        "#Второе задание"
      ],
      "metadata": {
        "id": "baFxjJDk7BSD"
      }
    },
    {
      "cell_type": "code",
      "metadata": {
        "id": "SQIrka7yEEYu",
        "outputId": "a32e1f5d-b5fa-4f9b-de29-031f175da154",
        "colab": {
          "base_uri": "https://localhost:8080/"
        }
      },
      "source": [
        "from sklearn.metrics import roc_auc_score\n",
        "\n",
        "y_true = [\n",
        "    0,\n",
        "    1,\n",
        "    1,\n",
        "    0,\n",
        "    1\n",
        "]\n",
        "\n",
        "y_predictions = [\n",
        "    0.1,\n",
        "    0.9,\n",
        "    0.4,\n",
        "    0.6,\n",
        "    0.61\n",
        "]\n",
        "\n",
        "roc_auc_score(y_true, y_predictions)"
      ],
      "execution_count": null,
      "outputs": [
        {
          "output_type": "execute_result",
          "data": {
            "text/plain": [
              "0.8333333333333333"
            ]
          },
          "metadata": {},
          "execution_count": 1
        }
      ]
    },
    {
      "cell_type": "markdown",
      "metadata": {
        "id": "IrDNNkNTEEYz"
      },
      "source": [
        "# Первая часть. Исследование"
      ]
    },
    {
      "cell_type": "code",
      "metadata": {
        "id": "lzLqEeZKEEYz"
      },
      "source": [
        "import pandas as pd\n",
        "import numpy as np\n",
        "from matplotlib import pyplot as plt"
      ],
      "execution_count": null,
      "outputs": []
    },
    {
      "cell_type": "markdown",
      "metadata": {
        "id": "LOlxdURSEEY3"
      },
      "source": [
        "## Загрузка данных (2 балла)\n",
        "\n",
        "1) Посмотрите на случайные строчки. \n",
        "\n",
        "2) Посмотрите, есть ли в датасете незаполненные значения (nan'ы) с помощью data.isna() или data.info() и, если нужно, замените их на что-то. Будет хорошо, если вы построите табличку с количеством nan в каждой колонке."
      ]
    },
    {
      "cell_type": "code",
      "source": [
        "from google.colab import drive\n",
        "drive.mount ('/content/gdrive/',force_remount=True) # монтируем свой GoogleDisc к виртуальной машине"
      ],
      "metadata": {
        "colab": {
          "base_uri": "https://localhost:8080/"
        },
        "id": "PBW2z0hzudWU",
        "outputId": "091c1342-52e6-474b-ab05-d0e6d9afeff8"
      },
      "execution_count": null,
      "outputs": [
        {
          "output_type": "stream",
          "name": "stdout",
          "text": [
            "Mounted at /content/gdrive/\n"
          ]
        }
      ]
    },
    {
      "cell_type": "code",
      "metadata": {
        "id": "pw-Brue9EEY3"
      },
      "source": [
        "data = pd.read_csv('/content/gdrive/MyDrive/hw_ML_task/train.csv')"
      ],
      "execution_count": null,
      "outputs": []
    },
    {
      "cell_type": "code",
      "metadata": {
        "id": "KgnkkF5bEEY9"
      },
      "source": [
        "# Для вашего удобства списки с именами разных колонок\n",
        "\n",
        "# Числовые признаки\n",
        "num_cols = [\n",
        "    'ClientPeriod',\n",
        "    'MonthlySpending',\n",
        "    'TotalSpent'\n",
        "]\n",
        "\n",
        "# Категориальные признаки\n",
        "cat_cols = [\n",
        "    'Sex',\n",
        "    'IsSeniorCitizen',\n",
        "    'HasPartner',\n",
        "    'HasChild',\n",
        "    'HasPhoneService',\n",
        "    'HasMultiplePhoneNumbers',\n",
        "    'HasInternetService',\n",
        "    'HasOnlineSecurityService',\n",
        "    'HasOnlineBackup',\n",
        "    'HasDeviceProtection',\n",
        "    'HasTechSupportAccess',\n",
        "    'HasOnlineTV',\n",
        "    'HasMovieSubscription',\n",
        "    'HasContractPhone',\n",
        "    'IsBillingPaperless',\n",
        "    'PaymentMethod'\n",
        "]\n",
        "\n",
        "feature_cols = num_cols + cat_cols\n",
        "target_col = 'Churn'"
      ],
      "execution_count": null,
      "outputs": []
    },
    {
      "cell_type": "code",
      "source": [
        "data.shape"
      ],
      "metadata": {
        "colab": {
          "base_uri": "https://localhost:8080/"
        },
        "id": "u4eTvequw0lr",
        "outputId": "e16e8032-d713-4c79-a5ce-b25ed2622c49"
      },
      "execution_count": null,
      "outputs": [
        {
          "output_type": "execute_result",
          "data": {
            "text/plain": [
              "(5282, 20)"
            ]
          },
          "metadata": {},
          "execution_count": 21
        }
      ]
    },
    {
      "cell_type": "code",
      "metadata": {
        "id": "tHC6gWabEEZA",
        "colab": {
          "base_uri": "https://localhost:8080/",
          "height": 496
        },
        "outputId": "9cab35fb-92c7-4e34-f977-1bb825eed267"
      },
      "source": [
        "# YOUR CODE \n",
        "data.sample(10) #Посмотрим на случайные 10 строчек"
      ],
      "execution_count": null,
      "outputs": [
        {
          "output_type": "execute_result",
          "data": {
            "text/plain": [
              "      ClientPeriod  MonthlySpending TotalSpent     Sex  IsSeniorCitizen  \\\n",
              "2019            32            74.90    2303.35    Male                1   \n",
              "2241            28            89.95    2625.55  Female                0   \n",
              "2046            12            26.40     314.95    Male                0   \n",
              "3433             7            51.00     354.05    Male                0   \n",
              "2091             3            96.60      291.9  Female                0   \n",
              "5018             3            69.15        235  Female                0   \n",
              "2343             5            75.60      402.5  Female                0   \n",
              "1565            19            78.25    1490.95    Male                0   \n",
              "3127            20            76.00    1588.75  Female                0   \n",
              "2516            71            95.50    6707.15    Male                1   \n",
              "\n",
              "     HasPartner HasChild HasPhoneService HasMultiplePhoneNumbers  \\\n",
              "2019        Yes       No             Yes                     Yes   \n",
              "2241         No       No             Yes                     Yes   \n",
              "2046        Yes      Yes             Yes                     Yes   \n",
              "3433         No       No             Yes                      No   \n",
              "2091         No       No             Yes                     Yes   \n",
              "5018        Yes      Yes             Yes                     Yes   \n",
              "2343         No       No             Yes                     Yes   \n",
              "1565         No       No             Yes                      No   \n",
              "3127        Yes      Yes             Yes                     Yes   \n",
              "2516        Yes       No             Yes                      No   \n",
              "\n",
              "     HasInternetService HasOnlineSecurityService      HasOnlineBackup  \\\n",
              "2019        Fiber optic                       No                   No   \n",
              "2241        Fiber optic                       No                  Yes   \n",
              "2046                 No      No internet service  No internet service   \n",
              "3433                DSL                      Yes                   No   \n",
              "2091        Fiber optic                       No                   No   \n",
              "5018                DSL                       No                  Yes   \n",
              "2343        Fiber optic                       No                   No   \n",
              "1565        Fiber optic                       No                  Yes   \n",
              "3127                DSL                      Yes                   No   \n",
              "2516        Fiber optic                       No                  Yes   \n",
              "\n",
              "      HasDeviceProtection HasTechSupportAccess          HasOnlineTV  \\\n",
              "2019                   No                   No                   No   \n",
              "2241                   No                   No                   No   \n",
              "2046  No internet service  No internet service  No internet service   \n",
              "3433                   No                   No                   No   \n",
              "2091                   No                   No                  Yes   \n",
              "5018                  Yes                   No                  Yes   \n",
              "2343                   No                   No                   No   \n",
              "1565                  Yes                   No                   No   \n",
              "3127                   No                   No                  Yes   \n",
              "2516                  Yes                  Yes                   No   \n",
              "\n",
              "     HasMovieSubscription HasContractPhone IsBillingPaperless  \\\n",
              "2019                   No   Month-to-month                Yes   \n",
              "2241                  Yes   Month-to-month                Yes   \n",
              "2046  No internet service         One year                 No   \n",
              "3433                   No   Month-to-month                Yes   \n",
              "2091                  Yes   Month-to-month                Yes   \n",
              "5018                   No   Month-to-month                Yes   \n",
              "2343                   No   Month-to-month                 No   \n",
              "1565                   No   Month-to-month                Yes   \n",
              "3127                  Yes         One year                 No   \n",
              "2516                  Yes         Two year                Yes   \n",
              "\n",
              "                  PaymentMethod  Churn  \n",
              "2019           Electronic check      1  \n",
              "2241           Electronic check      1  \n",
              "2046               Mailed check      0  \n",
              "3433               Mailed check      1  \n",
              "2091           Electronic check      1  \n",
              "5018  Bank transfer (automatic)      0  \n",
              "2343           Electronic check      0  \n",
              "1565           Electronic check      1  \n",
              "3127  Bank transfer (automatic)      0  \n",
              "2516    Credit card (automatic)      0  "
            ],
            "text/html": [
              "\n",
              "  <div id=\"df-5742b8e8-9d15-404d-a6e9-cc3c584ef1ad\">\n",
              "    <div class=\"colab-df-container\">\n",
              "      <div>\n",
              "<style scoped>\n",
              "    .dataframe tbody tr th:only-of-type {\n",
              "        vertical-align: middle;\n",
              "    }\n",
              "\n",
              "    .dataframe tbody tr th {\n",
              "        vertical-align: top;\n",
              "    }\n",
              "\n",
              "    .dataframe thead th {\n",
              "        text-align: right;\n",
              "    }\n",
              "</style>\n",
              "<table border=\"1\" class=\"dataframe\">\n",
              "  <thead>\n",
              "    <tr style=\"text-align: right;\">\n",
              "      <th></th>\n",
              "      <th>ClientPeriod</th>\n",
              "      <th>MonthlySpending</th>\n",
              "      <th>TotalSpent</th>\n",
              "      <th>Sex</th>\n",
              "      <th>IsSeniorCitizen</th>\n",
              "      <th>HasPartner</th>\n",
              "      <th>HasChild</th>\n",
              "      <th>HasPhoneService</th>\n",
              "      <th>HasMultiplePhoneNumbers</th>\n",
              "      <th>HasInternetService</th>\n",
              "      <th>HasOnlineSecurityService</th>\n",
              "      <th>HasOnlineBackup</th>\n",
              "      <th>HasDeviceProtection</th>\n",
              "      <th>HasTechSupportAccess</th>\n",
              "      <th>HasOnlineTV</th>\n",
              "      <th>HasMovieSubscription</th>\n",
              "      <th>HasContractPhone</th>\n",
              "      <th>IsBillingPaperless</th>\n",
              "      <th>PaymentMethod</th>\n",
              "      <th>Churn</th>\n",
              "    </tr>\n",
              "  </thead>\n",
              "  <tbody>\n",
              "    <tr>\n",
              "      <th>2019</th>\n",
              "      <td>32</td>\n",
              "      <td>74.90</td>\n",
              "      <td>2303.35</td>\n",
              "      <td>Male</td>\n",
              "      <td>1</td>\n",
              "      <td>Yes</td>\n",
              "      <td>No</td>\n",
              "      <td>Yes</td>\n",
              "      <td>Yes</td>\n",
              "      <td>Fiber optic</td>\n",
              "      <td>No</td>\n",
              "      <td>No</td>\n",
              "      <td>No</td>\n",
              "      <td>No</td>\n",
              "      <td>No</td>\n",
              "      <td>No</td>\n",
              "      <td>Month-to-month</td>\n",
              "      <td>Yes</td>\n",
              "      <td>Electronic check</td>\n",
              "      <td>1</td>\n",
              "    </tr>\n",
              "    <tr>\n",
              "      <th>2241</th>\n",
              "      <td>28</td>\n",
              "      <td>89.95</td>\n",
              "      <td>2625.55</td>\n",
              "      <td>Female</td>\n",
              "      <td>0</td>\n",
              "      <td>No</td>\n",
              "      <td>No</td>\n",
              "      <td>Yes</td>\n",
              "      <td>Yes</td>\n",
              "      <td>Fiber optic</td>\n",
              "      <td>No</td>\n",
              "      <td>Yes</td>\n",
              "      <td>No</td>\n",
              "      <td>No</td>\n",
              "      <td>No</td>\n",
              "      <td>Yes</td>\n",
              "      <td>Month-to-month</td>\n",
              "      <td>Yes</td>\n",
              "      <td>Electronic check</td>\n",
              "      <td>1</td>\n",
              "    </tr>\n",
              "    <tr>\n",
              "      <th>2046</th>\n",
              "      <td>12</td>\n",
              "      <td>26.40</td>\n",
              "      <td>314.95</td>\n",
              "      <td>Male</td>\n",
              "      <td>0</td>\n",
              "      <td>Yes</td>\n",
              "      <td>Yes</td>\n",
              "      <td>Yes</td>\n",
              "      <td>Yes</td>\n",
              "      <td>No</td>\n",
              "      <td>No internet service</td>\n",
              "      <td>No internet service</td>\n",
              "      <td>No internet service</td>\n",
              "      <td>No internet service</td>\n",
              "      <td>No internet service</td>\n",
              "      <td>No internet service</td>\n",
              "      <td>One year</td>\n",
              "      <td>No</td>\n",
              "      <td>Mailed check</td>\n",
              "      <td>0</td>\n",
              "    </tr>\n",
              "    <tr>\n",
              "      <th>3433</th>\n",
              "      <td>7</td>\n",
              "      <td>51.00</td>\n",
              "      <td>354.05</td>\n",
              "      <td>Male</td>\n",
              "      <td>0</td>\n",
              "      <td>No</td>\n",
              "      <td>No</td>\n",
              "      <td>Yes</td>\n",
              "      <td>No</td>\n",
              "      <td>DSL</td>\n",
              "      <td>Yes</td>\n",
              "      <td>No</td>\n",
              "      <td>No</td>\n",
              "      <td>No</td>\n",
              "      <td>No</td>\n",
              "      <td>No</td>\n",
              "      <td>Month-to-month</td>\n",
              "      <td>Yes</td>\n",
              "      <td>Mailed check</td>\n",
              "      <td>1</td>\n",
              "    </tr>\n",
              "    <tr>\n",
              "      <th>2091</th>\n",
              "      <td>3</td>\n",
              "      <td>96.60</td>\n",
              "      <td>291.9</td>\n",
              "      <td>Female</td>\n",
              "      <td>0</td>\n",
              "      <td>No</td>\n",
              "      <td>No</td>\n",
              "      <td>Yes</td>\n",
              "      <td>Yes</td>\n",
              "      <td>Fiber optic</td>\n",
              "      <td>No</td>\n",
              "      <td>No</td>\n",
              "      <td>No</td>\n",
              "      <td>No</td>\n",
              "      <td>Yes</td>\n",
              "      <td>Yes</td>\n",
              "      <td>Month-to-month</td>\n",
              "      <td>Yes</td>\n",
              "      <td>Electronic check</td>\n",
              "      <td>1</td>\n",
              "    </tr>\n",
              "    <tr>\n",
              "      <th>5018</th>\n",
              "      <td>3</td>\n",
              "      <td>69.15</td>\n",
              "      <td>235</td>\n",
              "      <td>Female</td>\n",
              "      <td>0</td>\n",
              "      <td>Yes</td>\n",
              "      <td>Yes</td>\n",
              "      <td>Yes</td>\n",
              "      <td>Yes</td>\n",
              "      <td>DSL</td>\n",
              "      <td>No</td>\n",
              "      <td>Yes</td>\n",
              "      <td>Yes</td>\n",
              "      <td>No</td>\n",
              "      <td>Yes</td>\n",
              "      <td>No</td>\n",
              "      <td>Month-to-month</td>\n",
              "      <td>Yes</td>\n",
              "      <td>Bank transfer (automatic)</td>\n",
              "      <td>0</td>\n",
              "    </tr>\n",
              "    <tr>\n",
              "      <th>2343</th>\n",
              "      <td>5</td>\n",
              "      <td>75.60</td>\n",
              "      <td>402.5</td>\n",
              "      <td>Female</td>\n",
              "      <td>0</td>\n",
              "      <td>No</td>\n",
              "      <td>No</td>\n",
              "      <td>Yes</td>\n",
              "      <td>Yes</td>\n",
              "      <td>Fiber optic</td>\n",
              "      <td>No</td>\n",
              "      <td>No</td>\n",
              "      <td>No</td>\n",
              "      <td>No</td>\n",
              "      <td>No</td>\n",
              "      <td>No</td>\n",
              "      <td>Month-to-month</td>\n",
              "      <td>No</td>\n",
              "      <td>Electronic check</td>\n",
              "      <td>0</td>\n",
              "    </tr>\n",
              "    <tr>\n",
              "      <th>1565</th>\n",
              "      <td>19</td>\n",
              "      <td>78.25</td>\n",
              "      <td>1490.95</td>\n",
              "      <td>Male</td>\n",
              "      <td>0</td>\n",
              "      <td>No</td>\n",
              "      <td>No</td>\n",
              "      <td>Yes</td>\n",
              "      <td>No</td>\n",
              "      <td>Fiber optic</td>\n",
              "      <td>No</td>\n",
              "      <td>Yes</td>\n",
              "      <td>Yes</td>\n",
              "      <td>No</td>\n",
              "      <td>No</td>\n",
              "      <td>No</td>\n",
              "      <td>Month-to-month</td>\n",
              "      <td>Yes</td>\n",
              "      <td>Electronic check</td>\n",
              "      <td>1</td>\n",
              "    </tr>\n",
              "    <tr>\n",
              "      <th>3127</th>\n",
              "      <td>20</td>\n",
              "      <td>76.00</td>\n",
              "      <td>1588.75</td>\n",
              "      <td>Female</td>\n",
              "      <td>0</td>\n",
              "      <td>Yes</td>\n",
              "      <td>Yes</td>\n",
              "      <td>Yes</td>\n",
              "      <td>Yes</td>\n",
              "      <td>DSL</td>\n",
              "      <td>Yes</td>\n",
              "      <td>No</td>\n",
              "      <td>No</td>\n",
              "      <td>No</td>\n",
              "      <td>Yes</td>\n",
              "      <td>Yes</td>\n",
              "      <td>One year</td>\n",
              "      <td>No</td>\n",
              "      <td>Bank transfer (automatic)</td>\n",
              "      <td>0</td>\n",
              "    </tr>\n",
              "    <tr>\n",
              "      <th>2516</th>\n",
              "      <td>71</td>\n",
              "      <td>95.50</td>\n",
              "      <td>6707.15</td>\n",
              "      <td>Male</td>\n",
              "      <td>1</td>\n",
              "      <td>Yes</td>\n",
              "      <td>No</td>\n",
              "      <td>Yes</td>\n",
              "      <td>No</td>\n",
              "      <td>Fiber optic</td>\n",
              "      <td>No</td>\n",
              "      <td>Yes</td>\n",
              "      <td>Yes</td>\n",
              "      <td>Yes</td>\n",
              "      <td>No</td>\n",
              "      <td>Yes</td>\n",
              "      <td>Two year</td>\n",
              "      <td>Yes</td>\n",
              "      <td>Credit card (automatic)</td>\n",
              "      <td>0</td>\n",
              "    </tr>\n",
              "  </tbody>\n",
              "</table>\n",
              "</div>\n",
              "      <button class=\"colab-df-convert\" onclick=\"convertToInteractive('df-5742b8e8-9d15-404d-a6e9-cc3c584ef1ad')\"\n",
              "              title=\"Convert this dataframe to an interactive table.\"\n",
              "              style=\"display:none;\">\n",
              "        \n",
              "  <svg xmlns=\"http://www.w3.org/2000/svg\" height=\"24px\"viewBox=\"0 0 24 24\"\n",
              "       width=\"24px\">\n",
              "    <path d=\"M0 0h24v24H0V0z\" fill=\"none\"/>\n",
              "    <path d=\"M18.56 5.44l.94 2.06.94-2.06 2.06-.94-2.06-.94-.94-2.06-.94 2.06-2.06.94zm-11 1L8.5 8.5l.94-2.06 2.06-.94-2.06-.94L8.5 2.5l-.94 2.06-2.06.94zm10 10l.94 2.06.94-2.06 2.06-.94-2.06-.94-.94-2.06-.94 2.06-2.06.94z\"/><path d=\"M17.41 7.96l-1.37-1.37c-.4-.4-.92-.59-1.43-.59-.52 0-1.04.2-1.43.59L10.3 9.45l-7.72 7.72c-.78.78-.78 2.05 0 2.83L4 21.41c.39.39.9.59 1.41.59.51 0 1.02-.2 1.41-.59l7.78-7.78 2.81-2.81c.8-.78.8-2.07 0-2.86zM5.41 20L4 18.59l7.72-7.72 1.47 1.35L5.41 20z\"/>\n",
              "  </svg>\n",
              "      </button>\n",
              "      \n",
              "  <style>\n",
              "    .colab-df-container {\n",
              "      display:flex;\n",
              "      flex-wrap:wrap;\n",
              "      gap: 12px;\n",
              "    }\n",
              "\n",
              "    .colab-df-convert {\n",
              "      background-color: #E8F0FE;\n",
              "      border: none;\n",
              "      border-radius: 50%;\n",
              "      cursor: pointer;\n",
              "      display: none;\n",
              "      fill: #1967D2;\n",
              "      height: 32px;\n",
              "      padding: 0 0 0 0;\n",
              "      width: 32px;\n",
              "    }\n",
              "\n",
              "    .colab-df-convert:hover {\n",
              "      background-color: #E2EBFA;\n",
              "      box-shadow: 0px 1px 2px rgba(60, 64, 67, 0.3), 0px 1px 3px 1px rgba(60, 64, 67, 0.15);\n",
              "      fill: #174EA6;\n",
              "    }\n",
              "\n",
              "    [theme=dark] .colab-df-convert {\n",
              "      background-color: #3B4455;\n",
              "      fill: #D2E3FC;\n",
              "    }\n",
              "\n",
              "    [theme=dark] .colab-df-convert:hover {\n",
              "      background-color: #434B5C;\n",
              "      box-shadow: 0px 1px 3px 1px rgba(0, 0, 0, 0.15);\n",
              "      filter: drop-shadow(0px 1px 2px rgba(0, 0, 0, 0.3));\n",
              "      fill: #FFFFFF;\n",
              "    }\n",
              "  </style>\n",
              "\n",
              "      <script>\n",
              "        const buttonEl =\n",
              "          document.querySelector('#df-5742b8e8-9d15-404d-a6e9-cc3c584ef1ad button.colab-df-convert');\n",
              "        buttonEl.style.display =\n",
              "          google.colab.kernel.accessAllowed ? 'block' : 'none';\n",
              "\n",
              "        async function convertToInteractive(key) {\n",
              "          const element = document.querySelector('#df-5742b8e8-9d15-404d-a6e9-cc3c584ef1ad');\n",
              "          const dataTable =\n",
              "            await google.colab.kernel.invokeFunction('convertToInteractive',\n",
              "                                                     [key], {});\n",
              "          if (!dataTable) return;\n",
              "\n",
              "          const docLinkHtml = 'Like what you see? Visit the ' +\n",
              "            '<a target=\"_blank\" href=https://colab.research.google.com/notebooks/data_table.ipynb>data table notebook</a>'\n",
              "            + ' to learn more about interactive tables.';\n",
              "          element.innerHTML = '';\n",
              "          dataTable['output_type'] = 'display_data';\n",
              "          await google.colab.output.renderOutput(dataTable, element);\n",
              "          const docLink = document.createElement('div');\n",
              "          docLink.innerHTML = docLinkHtml;\n",
              "          element.appendChild(docLink);\n",
              "        }\n",
              "      </script>\n",
              "    </div>\n",
              "  </div>\n",
              "  "
            ]
          },
          "metadata": {},
          "execution_count": 24
        }
      ]
    },
    {
      "cell_type": "code",
      "source": [
        "data.info()"
      ],
      "metadata": {
        "colab": {
          "base_uri": "https://localhost:8080/"
        },
        "id": "cK2wcC-exdUY",
        "outputId": "41ff1e60-46a0-47e3-9ca5-84146c6cc5d9"
      },
      "execution_count": null,
      "outputs": [
        {
          "output_type": "stream",
          "name": "stdout",
          "text": [
            "<class 'pandas.core.frame.DataFrame'>\n",
            "RangeIndex: 5282 entries, 0 to 5281\n",
            "Data columns (total 20 columns):\n",
            " #   Column                    Non-Null Count  Dtype  \n",
            "---  ------                    --------------  -----  \n",
            " 0   ClientPeriod              5282 non-null   int64  \n",
            " 1   MonthlySpending           5282 non-null   float64\n",
            " 2   TotalSpent                5282 non-null   object \n",
            " 3   Sex                       5282 non-null   object \n",
            " 4   IsSeniorCitizen           5282 non-null   int64  \n",
            " 5   HasPartner                5282 non-null   object \n",
            " 6   HasChild                  5282 non-null   object \n",
            " 7   HasPhoneService           5282 non-null   object \n",
            " 8   HasMultiplePhoneNumbers   5282 non-null   object \n",
            " 9   HasInternetService        5282 non-null   object \n",
            " 10  HasOnlineSecurityService  5282 non-null   object \n",
            " 11  HasOnlineBackup           5282 non-null   object \n",
            " 12  HasDeviceProtection       5282 non-null   object \n",
            " 13  HasTechSupportAccess      5282 non-null   object \n",
            " 14  HasOnlineTV               5282 non-null   object \n",
            " 15  HasMovieSubscription      5282 non-null   object \n",
            " 16  HasContractPhone          5282 non-null   object \n",
            " 17  IsBillingPaperless        5282 non-null   object \n",
            " 18  PaymentMethod             5282 non-null   object \n",
            " 19  Churn                     5282 non-null   int64  \n",
            "dtypes: float64(1), int64(3), object(16)\n",
            "memory usage: 825.4+ KB\n"
          ]
        }
      ]
    },
    {
      "cell_type": "code",
      "source": [
        "# Построим табличку с количеством nan в каждой колонке\n",
        "data.isna().sum()"
      ],
      "metadata": {
        "colab": {
          "base_uri": "https://localhost:8080/"
        },
        "id": "-fxl23LtySKG",
        "outputId": "43887f01-367f-4a8f-a993-285af422ae51"
      },
      "execution_count": null,
      "outputs": [
        {
          "output_type": "execute_result",
          "data": {
            "text/plain": [
              "ClientPeriod                0\n",
              "MonthlySpending             0\n",
              "TotalSpent                  0\n",
              "Sex                         0\n",
              "IsSeniorCitizen             0\n",
              "HasPartner                  0\n",
              "HasChild                    0\n",
              "HasPhoneService             0\n",
              "HasMultiplePhoneNumbers     0\n",
              "HasInternetService          0\n",
              "HasOnlineSecurityService    0\n",
              "HasOnlineBackup             0\n",
              "HasDeviceProtection         0\n",
              "HasTechSupportAccess        0\n",
              "HasOnlineTV                 0\n",
              "HasMovieSubscription        0\n",
              "HasContractPhone            0\n",
              "IsBillingPaperless          0\n",
              "PaymentMethod               0\n",
              "Churn                       0\n",
              "dtype: int64"
            ]
          },
          "metadata": {},
          "execution_count": 27
        }
      ]
    },
    {
      "cell_type": "markdown",
      "metadata": {
        "id": "dK370bPCEEZD"
      },
      "source": [
        "## Анализ данных (3 балла)\n",
        "\n",
        "1) Для численных призанков постройте гистограмму (*plt.hist(...)*) или boxplot (*plt.boxplot(...)*). Для категориальных посчитайте количество каждого значения для каждого признака. Для каждой колонки надо сделать *data.value_counts()* и построить bar диаграммы *plt.bar(...)* или круговые диаграммы *plt.pie(...)* (хорошо, елси вы сможете это сделать на одном гарфике с помощью *plt.subplots(...)*). \n",
        "\n",
        "2) Посмотрите на распределение целевой переменной и скажите, являются ли классы несбалансированными.\n",
        "\n",
        "3) (Если будет желание) Поиграйте с разными библиотеками для визуализации - *sns*, *pandas_visual_analysis*, etc.\n",
        "\n",
        "Второй пункт очень важен, потому что существуют задачи классификации с несбалансированными классами. Например, это может значить, что в датасете намного больше примеров 0 класса. В таких случаях нужно 1) не использовать accuracy как метрику 2) использовать методы борьбы с imbalanced dataset (обычно если датасет сильно несбалансирован, т.е. класса 1 в 20 раз меньше класса 0)."
      ]
    },
    {
      "cell_type": "code",
      "metadata": {
        "id": "NZkbgFJZEEZE",
        "colab": {
          "base_uri": "https://localhost:8080/",
          "height": 519
        },
        "outputId": "af3f3084-d92b-4e79-b2bf-f4b2d84b0155"
      },
      "source": [
        "# YOUR CODE\n",
        "%matplotlib inline \n",
        "\n",
        "# Выведем гистограммы численных признаков по отдельности. \n",
        "plt.figure(figsize=(25,8))\n",
        "\n",
        "for i, v in enumerate(num_cols):\n",
        "  plt.subplot(1, 3, i+1)\n",
        "  plt.hist(data[num_cols[i]], facecolor='b')\n",
        "  plt.title(v)\n",
        "plt.show()"
      ],
      "execution_count": null,
      "outputs": [
        {
          "output_type": "display_data",
          "data": {
            "text/plain": [
              "<Figure size 1800x576 with 3 Axes>"
            ],
            "image/png": "[encoded data removed]"
          },
          "metadata": {
            "needs_background": "light"
          }
        }
      ]
    },
    {
      "cell_type": "code",
      "source": [
        "data[cat_cols[6]].value_counts() #.reset_index().iloc[:,0] #Пример работы value_counts()"
      ],
      "metadata": {
        "colab": {
          "base_uri": "https://localhost:8080/"
        },
        "id": "sfOiXgTZzwq-",
        "outputId": "1fa87873-77d8-4a5d-9dfb-0455f614f9b0"
      },
      "execution_count": null,
      "outputs": [
        {
          "output_type": "execute_result",
          "data": {
            "text/plain": [
              "Fiber optic    2341\n",
              "DSL            1800\n",
              "No             1141\n",
              "Name: HasInternetService, dtype: int64"
            ]
          },
          "metadata": {},
          "execution_count": 29
        }
      ]
    },
    {
      "cell_type": "code",
      "source": [
        "for name in cat_cols:\n",
        "    print(data[name].value_counts())\n",
        "    print('--------------------------------------')"
      ],
      "metadata": {
        "colab": {
          "base_uri": "https://localhost:8080/"
        },
        "id": "i8gP4CT30SvP",
        "outputId": "dfbc180b-57d8-488e-a851-69515ef61c14"
      },
      "execution_count": null,
      "outputs": [
        {
          "output_type": "stream",
          "name": "stdout",
          "text": [
            "Male      2655\n",
            "Female    2627\n",
            "Name: Sex, dtype: int64\n",
            "--------------------------------------\n",
            "0    4440\n",
            "1     842\n",
            "Name: IsSeniorCitizen, dtype: int64\n",
            "--------------------------------------\n",
            "No     2705\n",
            "Yes    2577\n",
            "Name: HasPartner, dtype: int64\n",
            "--------------------------------------\n",
            "No     3676\n",
            "Yes    1606\n",
            "Name: HasChild, dtype: int64\n",
            "--------------------------------------\n",
            "Yes    4761\n",
            "No      521\n",
            "Name: HasPhoneService, dtype: int64\n",
            "--------------------------------------\n",
            "No                  2511\n",
            "Yes                 2250\n",
            "No phone service     521\n",
            "Name: HasMultiplePhoneNumbers, dtype: int64\n",
            "--------------------------------------\n",
            "Fiber optic    2341\n",
            "DSL            1800\n",
            "No             1141\n",
            "Name: HasInternetService, dtype: int64\n",
            "--------------------------------------\n",
            "No                     2612\n",
            "Yes                    1529\n",
            "No internet service    1141\n",
            "Name: HasOnlineSecurityService, dtype: int64\n",
            "--------------------------------------\n",
            "No                     2332\n",
            "Yes                    1809\n",
            "No internet service    1141\n",
            "Name: HasOnlineBackup, dtype: int64\n",
            "--------------------------------------\n",
            "No                     2317\n",
            "Yes                    1824\n",
            "No internet service    1141\n",
            "Name: HasDeviceProtection, dtype: int64\n",
            "--------------------------------------\n",
            "No                     2604\n",
            "Yes                    1537\n",
            "No internet service    1141\n",
            "Name: HasTechSupportAccess, dtype: int64\n",
            "--------------------------------------\n",
            "No                     2099\n",
            "Yes                    2042\n",
            "No internet service    1141\n",
            "Name: HasOnlineTV, dtype: int64\n",
            "--------------------------------------\n",
            "No                     2081\n",
            "Yes                    2060\n",
            "No internet service    1141\n",
            "Name: HasMovieSubscription, dtype: int64\n",
            "--------------------------------------\n",
            "Month-to-month    2920\n",
            "Two year          1280\n",
            "One year          1082\n",
            "Name: HasContractPhone, dtype: int64\n",
            "--------------------------------------\n",
            "Yes    3148\n",
            "No     2134\n",
            "Name: IsBillingPaperless, dtype: int64\n",
            "--------------------------------------\n",
            "Electronic check             1786\n",
            "Mailed check                 1194\n",
            "Bank transfer (automatic)    1159\n",
            "Credit card (automatic)      1143\n",
            "Name: PaymentMethod, dtype: int64\n",
            "--------------------------------------\n"
          ]
        }
      ]
    },
    {
      "cell_type": "code",
      "source": [
        "# Круговые диаграммы для категориальных признаков\n",
        "plt.figure(figsize=(25,15))\n",
        "for i, v in enumerate(cat_cols):\n",
        "  plt.subplot(4, 4, i+1)\n",
        "\n",
        "  plt.pie(data[cat_cols[i]].value_counts(), \n",
        "          autopct='%1.1f%%', \n",
        "          labels=data[cat_cols[i]].value_counts().reset_index().iloc[:,0], \n",
        "          wedgeprops=dict(width=0.5)\n",
        "          ) \n",
        "  # Поясню выражение labels = data[cat_cols[i]].value_counts().reset_index().iloc[:,0] \n",
        "  # К объекту Series, образовавшемуся после применения value_counts(), применим reset_index() - получим датафрейм, \n",
        "  # потом с помощью iloc[:,0] отбираем нулевой столбец в получившемся датафрейме, т.к. в столбце содержататься значения для легенды\n",
        "  # С помощью wedgeprops=dict(width=0.5) превращаем круг в бублик\n",
        "  plt.axis('equal')\n",
        "  plt.legend()\n",
        "  plt.title(v)\n",
        "plt.show()\n"
      ],
      "metadata": {
        "colab": {
          "base_uri": "https://localhost:8080/",
          "height": 527
        },
        "id": "6mKgBuGN0irU",
        "outputId": "9d8b3628-bf82-4deb-d30b-e9f944a9f21f"
      },
      "execution_count": null,
      "outputs": [
        {
          "output_type": "display_data",
          "data": {
            "text/plain": [
              "<Figure size 1800x1080 with 16 Axes>"
            ],
            "image/png": "[encoded data removed]"
          },
          "metadata": {}
        }
      ]
    },
    {
      "cell_type": "code",
      "source": [
        "#Взглянем на распределение целевой переменной, и поймем что значений 0 больше чем значений 1 в два с лишним раза\n",
        "# Следовательно классы в целевой переменной сбалансированы => можно использовать accuracy как метрику\n",
        "plt.pie(data[target_col].value_counts(), \n",
        "        autopct='%1.1f%%', \n",
        "        labels=data[target_col].value_counts().reset_index().iloc[:,0], \n",
        "        wedgeprops=dict(width=0.5)\n",
        "        ) \n",
        "plt.legend()\n",
        "plt.title(v)\n",
        "plt.show()"
      ],
      "metadata": {
        "colab": {
          "base_uri": "https://localhost:8080/",
          "height": 264
        },
        "id": "dO4Od3NJ1XuE",
        "outputId": "e538040f-cf37-4460-e097-28303426786a"
      },
      "execution_count": null,
      "outputs": [
        {
          "output_type": "display_data",
          "data": {
            "text/plain": [
              "<Figure size 432x288 with 1 Axes>"
            ],
            "image/png": "[encoded data removed]"
          },
          "metadata": {}
        }
      ]
    },
    {
      "cell_type": "markdown",
      "metadata": {
        "id": "zg60u3QDEEZH"
      },
      "source": [
        "(Дополнительно) Если вы нашли какие-то ошибки в данных или выбросы, то можете их убрать. Тут можно поэксперементировать с обработкой данных как угодно, но не за баллы."
      ]
    },
    {
      "cell_type": "code",
      "metadata": {
        "id": "fwfksF1gEEZI"
      },
      "source": [
        "# YOUR CODE"
      ],
      "execution_count": null,
      "outputs": []
    },
    {
      "cell_type": "markdown",
      "metadata": {
        "id": "DviiJd8REEZK"
      },
      "source": [
        "## Применение линейных моделей (3 балла)\n",
        "\n",
        "1) Обработайте данные для того, чтобы к ним можно было применить LogisticRegression. Т.е. отнормируйте числовые признаки, а категориальные закодируйте с помощью one-hot-encoding'а. \n",
        "\n",
        "2) С помощью кроссвалидации или разделения на train/valid выборку протестируйте разные значения гиперпараметра C и выберите лучший (можно тестировать С=100, 10, 1, 0.1, 0.01, 0.001) по метрике ROC-AUC. \n",
        "\n",
        "Если вы разделяете на train/valid, то используйте LogisticRegressionCV. Он сам при вызове .fit() подберет параметр С. (не забудьте передать scroing='roc_auc', чтобы при кроссвалидации сравнивались значения этой метрики, и refit=True, чтобы при потом модель обучилась на всем датасете с лучшим параметром C). \n",
        "\n",
        "\n",
        "(более сложный вариант) Если вы будете использовать кроссвалидацию, то преобразования данных и LogisticRegression нужно соединить в один Pipeline с помощью make_pipeline, как это делалось во втором семинаре. Потом pipeline надо передать в GridSearchCV. Для one-hot-encoding'a можно испльзовать комбинацию LabelEncoder + OneHotEncoder (сначала превращаем строчки в числа, а потом числа првращаем в one-hot вектора.)"
      ]
    },
    {
      "cell_type": "code",
      "metadata": {
        "id": "xHCLDmwqEEZL"
      },
      "source": [
        "from sklearn.linear_model import LogisticRegression, LogisticRegressionCV\n",
        "from sklearn.model_selection import train_test_split, GridSearchCV\n",
        "from sklearn.preprocessing import StandardScaler, RobustScaler, LabelEncoder, OneHotEncoder\n",
        "from sklearn.pipeline import make_pipeline\n",
        "\n",
        "random_state = 12345"
      ],
      "execution_count": null,
      "outputs": []
    },
    {
      "cell_type": "code",
      "metadata": {
        "id": "P2Yv3uYtEEZO",
        "colab": {
          "base_uri": "https://localhost:8080/",
          "height": 334
        },
        "outputId": "d3b78215-e704-485e-ba2b-c5ddb2aeec2b"
      },
      "source": [
        "# YOUR CODE\n",
        "# На всякий случай сохраним оригинал фичей\n",
        "X_origin = data[feature_cols] \n",
        "X_origin = X_origin.fillna(0) #Заменим Nan на 0 \n",
        "\n",
        "# Выделим датафреймы числовых и категориальных данных\n",
        "numeric_data = data[num_cols]\n",
        "categorial_data = data[cat_cols]\n",
        "\n",
        "#В некоторых колонках (в каких точно неизвестно) имеются строковые представления чисел (такие как '2094.65'), преобразуем  их к числовму тип\n",
        "numeric_data = numeric_data.apply(pd.to_numeric, errors='coerce')\n",
        "\n",
        "# Для категориальных данных выполним one-hot-encoding \n",
        "dummy_features = pd.get_dummies(categorial_data)\n",
        "\n",
        "#Объединим числовой датафрейм с преобразованным категориальным\n",
        "X = pd.concat((numeric_data, dummy_features), axis=1)\n",
        "\n",
        "# Выделим датафрейм таргетов\n",
        "y = data[target_col]\n",
        "\n",
        "# Найдем и заместим все Nan.\n",
        "X = X.fillna(0)\n",
        "y = y.fillna(0)\n",
        "\n",
        "X.head()"
      ],
      "execution_count": null,
      "outputs": [
        {
          "output_type": "execute_result",
          "data": {
            "text/plain": [
              "   ClientPeriod  MonthlySpending  TotalSpent  IsSeniorCitizen  Sex_Female  \\\n",
              "0            55            19.50     1026.35                0           0   \n",
              "1            72            25.85     1872.20                0           0   \n",
              "2             1            75.90       75.90                0           0   \n",
              "3            32            79.30     2570.00                1           1   \n",
              "4            60           115.25     6758.45                0           1   \n",
              "\n",
              "   Sex_Male  HasPartner_No  HasPartner_Yes  HasChild_No  HasChild_Yes  ...  \\\n",
              "0         1              0               1            0             1  ...   \n",
              "1         1              0               1            1             0  ...   \n",
              "2         1              1               0            1             0  ...   \n",
              "3         0              0               1            1             0  ...   \n",
              "4         0              0               1            0             1  ...   \n",
              "\n",
              "   HasMovieSubscription_Yes  HasContractPhone_Month-to-month  \\\n",
              "0                         0                                0   \n",
              "1                         0                                0   \n",
              "2                         0                                1   \n",
              "3                         0                                1   \n",
              "4                         1                                0   \n",
              "\n",
              "   HasContractPhone_One year  HasContractPhone_Two year  \\\n",
              "0                          1                          0   \n",
              "1                          0                          1   \n",
              "2                          0                          0   \n",
              "3                          0                          0   \n",
              "4                          0                          1   \n",
              "\n",
              "   IsBillingPaperless_No  IsBillingPaperless_Yes  \\\n",
              "0                      1                       0   \n",
              "1                      1                       0   \n",
              "2                      0                       1   \n",
              "3                      1                       0   \n",
              "4                      1                       0   \n",
              "\n",
              "   PaymentMethod_Bank transfer (automatic)  \\\n",
              "0                                        0   \n",
              "1                                        0   \n",
              "2                                        0   \n",
              "3                                        0   \n",
              "4                                        0   \n",
              "\n",
              "   PaymentMethod_Credit card (automatic)  PaymentMethod_Electronic check  \\\n",
              "0                                      0                               0   \n",
              "1                                      1                               0   \n",
              "2                                      0                               1   \n",
              "3                                      0                               0   \n",
              "4                                      1                               0   \n",
              "\n",
              "   PaymentMethod_Mailed check  \n",
              "0                           1  \n",
              "1                           0  \n",
              "2                           0  \n",
              "3                           1  \n",
              "4                           0  \n",
              "\n",
              "[5 rows x 45 columns]"
            ],
            "text/html": [
              "\n",
              "  <div id=\"df-f9c13e9e-592f-43fd-8748-0a46af152c07\">\n",
              "    <div class=\"colab-df-container\">\n",
              "      <div>\n",
              "<style scoped>\n",
              "    .dataframe tbody tr th:only-of-type {\n",
              "        vertical-align: middle;\n",
              "    }\n",
              "\n",
              "    .dataframe tbody tr th {\n",
              "        vertical-align: top;\n",
              "    }\n",
              "\n",
              "    .dataframe thead th {\n",
              "        text-align: right;\n",
              "    }\n",
              "</style>\n",
              "<table border=\"1\" class=\"dataframe\">\n",
              "  <thead>\n",
              "    <tr style=\"text-align: right;\">\n",
              "      <th></th>\n",
              "      <th>ClientPeriod</th>\n",
              "      <th>MonthlySpending</th>\n",
              "      <th>TotalSpent</th>\n",
              "      <th>IsSeniorCitizen</th>\n",
              "      <th>Sex_Female</th>\n",
              "      <th>Sex_Male</th>\n",
              "      <th>HasPartner_No</th>\n",
              "      <th>HasPartner_Yes</th>\n",
              "      <th>HasChild_No</th>\n",
              "      <th>HasChild_Yes</th>\n",
              "      <th>...</th>\n",
              "      <th>HasMovieSubscription_Yes</th>\n",
              "      <th>HasContractPhone_Month-to-month</th>\n",
              "      <th>HasContractPhone_One year</th>\n",
              "      <th>HasContractPhone_Two year</th>\n",
              "      <th>IsBillingPaperless_No</th>\n",
              "      <th>IsBillingPaperless_Yes</th>\n",
              "      <th>PaymentMethod_Bank transfer (automatic)</th>\n",
              "      <th>PaymentMethod_Credit card (automatic)</th>\n",
              "      <th>PaymentMethod_Electronic check</th>\n",
              "      <th>PaymentMethod_Mailed check</th>\n",
              "    </tr>\n",
              "  </thead>\n",
              "  <tbody>\n",
              "    <tr>\n",
              "      <th>0</th>\n",
              "      <td>55</td>\n",
              "      <td>19.50</td>\n",
              "      <td>1026.35</td>\n",
              "      <td>0</td>\n",
              "      <td>0</td>\n",
              "      <td>1</td>\n",
              "      <td>0</td>\n",
              "      <td>1</td>\n",
              "      <td>0</td>\n",
              "      <td>1</td>\n",
              "      <td>...</td>\n",
              "      <td>0</td>\n",
              "      <td>0</td>\n",
              "      <td>1</td>\n",
              "      <td>0</td>\n",
              "      <td>1</td>\n",
              "      <td>0</td>\n",
              "      <td>0</td>\n",
              "      <td>0</td>\n",
              "      <td>0</td>\n",
              "      <td>1</td>\n",
              "    </tr>\n",
              "    <tr>\n",
              "      <th>1</th>\n",
              "      <td>72</td>\n",
              "      <td>25.85</td>\n",
              "      <td>1872.20</td>\n",
              "      <td>0</td>\n",
              "      <td>0</td>\n",
              "      <td>1</td>\n",
              "      <td>0</td>\n",
              "      <td>1</td>\n",
              "      <td>1</td>\n",
              "      <td>0</td>\n",
              "      <td>...</td>\n",
              "      <td>0</td>\n",
              "      <td>0</td>\n",
              "      <td>0</td>\n",
              "      <td>1</td>\n",
              "      <td>1</td>\n",
              "      <td>0</td>\n",
              "      <td>0</td>\n",
              "      <td>1</td>\n",
              "      <td>0</td>\n",
              "      <td>0</td>\n",
              "    </tr>\n",
              "    <tr>\n",
              "      <th>2</th>\n",
              "      <td>1</td>\n",
              "      <td>75.90</td>\n",
              "      <td>75.90</td>\n",
              "      <td>0</td>\n",
              "      <td>0</td>\n",
              "      <td>1</td>\n",
              "      <td>1</td>\n",
              "      <td>0</td>\n",
              "      <td>1</td>\n",
              "      <td>0</td>\n",
              "      <td>...</td>\n",
              "      <td>0</td>\n",
              "      <td>1</td>\n",
              "      <td>0</td>\n",
              "      <td>0</td>\n",
              "      <td>0</td>\n",
              "      <td>1</td>\n",
              "      <td>0</td>\n",
              "      <td>0</td>\n",
              "      <td>1</td>\n",
              "      <td>0</td>\n",
              "    </tr>\n",
              "    <tr>\n",
              "      <th>3</th>\n",
              "      <td>32</td>\n",
              "      <td>79.30</td>\n",
              "      <td>2570.00</td>\n",
              "      <td>1</td>\n",
              "      <td>1</td>\n",
              "      <td>0</td>\n",
              "      <td>0</td>\n",
              "      <td>1</td>\n",
              "      <td>1</td>\n",
              "      <td>0</td>\n",
              "      <td>...</td>\n",
              "      <td>0</td>\n",
              "      <td>1</td>\n",
              "      <td>0</td>\n",
              "      <td>0</td>\n",
              "      <td>1</td>\n",
              "      <td>0</td>\n",
              "      <td>0</td>\n",
              "      <td>0</td>\n",
              "      <td>0</td>\n",
              "      <td>1</td>\n",
              "    </tr>\n",
              "    <tr>\n",
              "      <th>4</th>\n",
              "      <td>60</td>\n",
              "      <td>115.25</td>\n",
              "      <td>6758.45</td>\n",
              "      <td>0</td>\n",
              "      <td>1</td>\n",
              "      <td>0</td>\n",
              "      <td>0</td>\n",
              "      <td>1</td>\n",
              "      <td>0</td>\n",
              "      <td>1</td>\n",
              "      <td>...</td>\n",
              "      <td>1</td>\n",
              "      <td>0</td>\n",
              "      <td>0</td>\n",
              "      <td>1</td>\n",
              "      <td>1</td>\n",
              "      <td>0</td>\n",
              "      <td>0</td>\n",
              "      <td>1</td>\n",
              "      <td>0</td>\n",
              "      <td>0</td>\n",
              "    </tr>\n",
              "  </tbody>\n",
              "</table>\n",
              "<p>5 rows × 45 columns</p>\n",
              "</div>\n",
              "      <button class=\"colab-df-convert\" onclick=\"convertToInteractive('df-f9c13e9e-592f-43fd-8748-0a46af152c07')\"\n",
              "              title=\"Convert this dataframe to an interactive table.\"\n",
              "              style=\"display:none;\">\n",
              "        \n",
              "  <svg xmlns=\"http://www.w3.org/2000/svg\" height=\"24px\"viewBox=\"0 0 24 24\"\n",
              "       width=\"24px\">\n",
              "    <path d=\"M0 0h24v24H0V0z\" fill=\"none\"/>\n",
              "    <path d=\"M18.56 5.44l.94 2.06.94-2.06 2.06-.94-2.06-.94-.94-2.06-.94 2.06-2.06.94zm-11 1L8.5 8.5l.94-2.06 2.06-.94-2.06-.94L8.5 2.5l-.94 2.06-2.06.94zm10 10l.94 2.06.94-2.06 2.06-.94-2.06-.94-.94-2.06-.94 2.06-2.06.94z\"/><path d=\"M17.41 7.96l-1.37-1.37c-.4-.4-.92-.59-1.43-.59-.52 0-1.04.2-1.43.59L10.3 9.45l-7.72 7.72c-.78.78-.78 2.05 0 2.83L4 21.41c.39.39.9.59 1.41.59.51 0 1.02-.2 1.41-.59l7.78-7.78 2.81-2.81c.8-.78.8-2.07 0-2.86zM5.41 20L4 18.59l7.72-7.72 1.47 1.35L5.41 20z\"/>\n",
              "  </svg>\n",
              "      </button>\n",
              "      \n",
              "  <style>\n",
              "    .colab-df-container {\n",
              "      display:flex;\n",
              "      flex-wrap:wrap;\n",
              "      gap: 12px;\n",
              "    }\n",
              "\n",
              "    .colab-df-convert {\n",
              "      background-color: #E8F0FE;\n",
              "      border: none;\n",
              "      border-radius: 50%;\n",
              "      cursor: pointer;\n",
              "      display: none;\n",
              "      fill: #1967D2;\n",
              "      height: 32px;\n",
              "      padding: 0 0 0 0;\n",
              "      width: 32px;\n",
              "    }\n",
              "\n",
              "    .colab-df-convert:hover {\n",
              "      background-color: #E2EBFA;\n",
              "      box-shadow: 0px 1px 2px rgba(60, 64, 67, 0.3), 0px 1px 3px 1px rgba(60, 64, 67, 0.15);\n",
              "      fill: #174EA6;\n",
              "    }\n",
              "\n",
              "    [theme=dark] .colab-df-convert {\n",
              "      background-color: #3B4455;\n",
              "      fill: #D2E3FC;\n",
              "    }\n",
              "\n",
              "    [theme=dark] .colab-df-convert:hover {\n",
              "      background-color: #434B5C;\n",
              "      box-shadow: 0px 1px 3px 1px rgba(0, 0, 0, 0.15);\n",
              "      filter: drop-shadow(0px 1px 2px rgba(0, 0, 0, 0.3));\n",
              "      fill: #FFFFFF;\n",
              "    }\n",
              "  </style>\n",
              "\n",
              "      <script>\n",
              "        const buttonEl =\n",
              "          document.querySelector('#df-f9c13e9e-592f-43fd-8748-0a46af152c07 button.colab-df-convert');\n",
              "        buttonEl.style.display =\n",
              "          google.colab.kernel.accessAllowed ? 'block' : 'none';\n",
              "\n",
              "        async function convertToInteractive(key) {\n",
              "          const element = document.querySelector('#df-f9c13e9e-592f-43fd-8748-0a46af152c07');\n",
              "          const dataTable =\n",
              "            await google.colab.kernel.invokeFunction('convertToInteractive',\n",
              "                                                     [key], {});\n",
              "          if (!dataTable) return;\n",
              "\n",
              "          const docLinkHtml = 'Like what you see? Visit the ' +\n",
              "            '<a target=\"_blank\" href=https://colab.research.google.com/notebooks/data_table.ipynb>data table notebook</a>'\n",
              "            + ' to learn more about interactive tables.';\n",
              "          element.innerHTML = '';\n",
              "          dataTable['output_type'] = 'display_data';\n",
              "          await google.colab.output.renderOutput(dataTable, element);\n",
              "          const docLink = document.createElement('div');\n",
              "          docLink.innerHTML = docLinkHtml;\n",
              "          element.appendChild(docLink);\n",
              "        }\n",
              "      </script>\n",
              "    </div>\n",
              "  </div>\n",
              "  "
            ]
          },
          "metadata": {},
          "execution_count": 68
        }
      ]
    },
    {
      "cell_type": "code",
      "source": [
        "# Используя values на выходе получаем np массив, а иначе получили бы датафреймы.  Попутно перемешали датасет\n",
        "X_train, X_test, y_train, y_test = train_test_split(X.values, y.values, \n",
        "                                                    train_size=0.8,\n",
        "                                                    random_state=42)"
      ],
      "metadata": {
        "id": "DXIUfIVJ5mps"
      },
      "execution_count": null,
      "outputs": []
    },
    {
      "cell_type": "code",
      "source": [
        "# Нормируем признаки\n",
        "scaler = StandardScaler()\n",
        "\n",
        "X_train = scaler.fit_transform(X_train)\n",
        "X_test = scaler.transform(X_test)"
      ],
      "metadata": {
        "id": "hN65n2eM55WK"
      },
      "execution_count": null,
      "outputs": []
    },
    {
      "cell_type": "code",
      "source": [
        "# Т.к. target содержит лишь 0 и 1 типа int64 нормировать целевую колонку небудем\n",
        "y.value_counts()"
      ],
      "metadata": {
        "colab": {
          "base_uri": "https://localhost:8080/"
        },
        "id": "xLmujMuJ5zyj",
        "outputId": "576c913a-e090-4c0d-9bc3-02293eec24eb"
      },
      "execution_count": null,
      "outputs": [
        {
          "output_type": "execute_result",
          "data": {
            "text/plain": [
              "0    3898\n",
              "1    1384\n",
              "Name: Churn, dtype: int64"
            ]
          },
          "metadata": {},
          "execution_count": 71
        }
      ]
    },
    {
      "cell_type": "code",
      "source": [
        "\"\"\"\n",
        "1) Обработайте данные для того, чтобы к ним можно было применить LogisticRegression. Т.е. отнормируйте числовые признаки, а категориальные закодируйте с помощью one-hot-encoding'а.\n",
        "\n",
        "2) С помощью кроссвалидации или разделения на train/valid выборку протестируйте разные значения гиперпараметра C и выберите лучший (можно тестировать С=100, 10, 1, 0.1, 0.01, 0.001) по метрике ROC-AUC.\n",
        "\n",
        "Если вы разделяете на train/valid, то используйте LogisticRegressionCV. Он сам при вызове .fit() подберет параметр С. \n",
        "(не забудьте передать scroing='roc_auc', чтобы при кроссвалидации сравнивались значения этой метрики, и refit=True, чтобы при потом модель обучилась на всем датасете с лучшим параметром C).\n",
        "\n",
        "(более сложный вариант) Если вы будете использовать кроссвалидацию, то преобразования данных и LogisticRegression нужно соединить в один Pipeline с помощью make_pipeline,\n",
        " как это делалось во втором семинаре. Потом pipeline надо передать в GridSearchCV. Для one-hot-encoding'a можно испльзовать комбинацию LabelEncoder + OneHotEncoder \n",
        " (сначала превращаем строчки в числа, а потом числа првращаем в one-hot вектора.)\n",
        "\"\"\"\n",
        "scaler = StandardScaler()\n",
        "\n",
        "X_norm = scaler.fit_transform(X) # отнормируем числовые признаки без дробления на train и test\n",
        "\n",
        "# Используем кросс-валидацию. Cоздадим модель логистической регрессии\n",
        "LR = LogisticRegression(solver='saga')\n",
        "\n",
        "# опишем сетку, по которой будем искать\n",
        "param_grid = {\n",
        "    'C': [100, 10, 1, 0.1, 0.01, 0.001],\n",
        "    'penalty': ['l1', 'l2', 'elasticnet'],\n",
        "    }\n",
        "\n",
        "# создадим объект GridSearchCV\n",
        "search = GridSearchCV(LR, param_grid, n_jobs=-1, cv=5, refit=True, scoring='roc_auc')\n",
        "\n",
        "search.fit(X_norm, y)\n",
        "\n",
        "# выведем наилучшие параметры\n",
        "\n",
        "print('----------------Параметры логистической регрессии:-------------------- ', search.best_params_)\n",
        "print('----------------Качество ROC_AUC:-------------------- ', search.best_score_)"
      ],
      "metadata": {
        "colab": {
          "base_uri": "https://localhost:8080/"
        },
        "id": "UxcYPyqC6FF0",
        "outputId": "6d8a01f5-cabb-4806-e8e7-04cb68f11027"
      },
      "execution_count": null,
      "outputs": [
        {
          "output_type": "stream",
          "name": "stderr",
          "text": [
            "/usr/local/lib/python3.7/dist-packages/sklearn/model_selection/_validation.py:372: FitFailedWarning: \n",
            "30 fits failed out of a total of 90.\n",
            "The score on these train-test partitions for these parameters will be set to nan.\n",
            "If these failures are not expected, you can try to debug them by setting error_score='raise'.\n",
            "\n",
            "Below are more details about the failures:\n",
            "--------------------------------------------------------------------------------\n",
            "30 fits failed with the following error:\n",
            "Traceback (most recent call last):\n",
            "  File \"/usr/local/lib/python3.7/dist-packages/sklearn/model_selection/_validation.py\", line 680, in _fit_and_score\n",
            "    estimator.fit(X_train, y_train, **fit_params)\n",
            "  File \"/usr/local/lib/python3.7/dist-packages/sklearn/linear_model/_logistic.py\", line 1473, in fit\n",
            "    % self.l1_ratio\n",
            "ValueError: l1_ratio must be between 0 and 1; got (l1_ratio=None)\n",
            "\n",
            "  warnings.warn(some_fits_failed_message, FitFailedWarning)\n",
            "/usr/local/lib/python3.7/dist-packages/sklearn/model_selection/_search.py:972: UserWarning: One or more of the test scores are non-finite: [0.84509263 0.84508521        nan 0.84507962 0.84512232        nan\n",
            " 0.84490647 0.84504729        nan 0.84373877 0.84412837        nan\n",
            " 0.83894513 0.84201397        nan 0.5        0.83759792        nan]\n",
            "  category=UserWarning,\n"
          ]
        },
        {
          "output_type": "stream",
          "name": "stdout",
          "text": [
            "----------------Параметры логистической регрессии:--------------------  {'C': 10, 'penalty': 'l2'}\n",
            "----------------Качество ROC_AUC:--------------------  0.8451223233615826\n"
          ]
        },
        {
          "output_type": "stream",
          "name": "stderr",
          "text": [
            "/usr/local/lib/python3.7/dist-packages/sklearn/linear_model/_sag.py:354: ConvergenceWarning: The max_iter was reached which means the coef_ did not converge\n",
            "  ConvergenceWarning,\n"
          ]
        }
      ]
    },
    {
      "cell_type": "code",
      "source": [
        "#Попробуем LogisticRegressionCV и разделение на train/valid\n",
        "\n",
        "from sklearn.metrics import roc_auc_score\n",
        "\n",
        "LR_cv = LogisticRegressionCV(cv = 5, scoring='roc_auc', penalty = 'l2') # В качестве параметров можно передать явно Cs=[100, 10, 1, 0.1, 0.01, 0.001], но так работает дольше\n",
        "LR_cv.fit(X_train, y_train)    \n",
        " \n",
        "print('Наилучшие параметры:', LR_cv.scores_)\n",
        "\n",
        "y_pred = LR_cv.predict_proba(X_test)[:, 1]\n",
        "test_auc = roc_auc_score(y_test, y_pred)\n",
        "print('ROC_AUC на тесте:', test_auc)\n",
        "\n",
        "# LogisticRegressionCV быстрее работает, чем GridSearchCV"
      ],
      "metadata": {
        "colab": {
          "base_uri": "https://localhost:8080/"
        },
        "id": "ZN3jFsiE6luM",
        "outputId": "3bb65c84-3e0f-44b2-f9b5-003470a10d84"
      },
      "execution_count": null,
      "outputs": [
        {
          "output_type": "stream",
          "name": "stdout",
          "text": [
            "Наилучшие параметры: {1: array([[0.80622752, 0.81501624, 0.8226955 , 0.82615443, 0.82896073,\n",
            "        0.82995417, 0.82977289, 0.82954084, 0.82954084, 0.82953359],\n",
            "       [0.8135442 , 0.82370345, 0.83146972, 0.83249217, 0.83455882,\n",
            "        0.83574081, 0.83641519, 0.83656747, 0.83657472, 0.83656022],\n",
            "       [0.8400554 , 0.84651642, 0.8509978 , 0.85376059, 0.85581999,\n",
            "        0.85558795, 0.85458725, 0.8543552 , 0.85436246, 0.85436246],\n",
            "       [0.84424672, 0.85265837, 0.85897436, 0.8604464 , 0.86160662,\n",
            "        0.86236802, 0.8630134 , 0.86328895, 0.86328895, 0.86329621],\n",
            "       [0.84996674, 0.85725493, 0.86136176, 0.8615859 , 0.86071826,\n",
            "        0.86032059, 0.86030613, 0.86032782, 0.86032782, 0.86032782]])}\n",
            "ROC_AUC на тесте: 0.8270148964268893\n"
          ]
        }
      ]
    },
    {
      "cell_type": "markdown",
      "metadata": {
        "id": "uVahy6JKEEZQ"
      },
      "source": [
        "Выпишите какое лучшее качество и с какими параметрами вам удалось получить"
      ]
    },
    {
      "cell_type": "markdown",
      "source": [
        "**ROC_AUC = 0.845. С параметрами С=10, penalty = 'l2'**"
      ],
      "metadata": {
        "id": "fTM6YW-o7-lu"
      }
    },
    {
      "cell_type": "markdown",
      "metadata": {
        "id": "BlTeVy7fEEZR"
      },
      "source": [
        "## Применение градиентного бустинга (2 балла)\n",
        "\n",
        "Если вы хотите получить баллы за точный ответ, то стоит попробовать градиентный бустинг. Часто градиентный бустинг с дефолтными параметрами даст вам 80% результата за 0% усилий.\n",
        "\n",
        "Мы будем использовать catboost, поэтому нам не надо кодировать категориальные признаки. catboost сделает это сам (в .fit() надо передать cat_features=cat_cols). А численные признаки нормировать для моделей, основанных на деревьях не нужно.\n",
        "\n",
        "1) Разделите выборку на train/valid. Протестируйте catboost cо стандартными параметрами.\n",
        "\n",
        "2) Протестируйте разные занчения параметроа количества деревьев и learning_rate'а и выберите лучшую по метрике ROC-AUC комбинацию. \n",
        "\n",
        "(Дополнительно) Есть некоторые сложности с тем, чтобы использовать CatBoostClassifier вместе с GridSearchCV, поэтому мы не просим использовать кроссвалидацию. Но можете попробовать)"
      ]
    },
    {
      "cell_type": "code",
      "metadata": {
        "id": "Fioxxlp-EEZS",
        "colab": {
          "base_uri": "https://localhost:8080/"
        },
        "outputId": "ff7c0357-4788-44ee-8749-db2725f6335e"
      },
      "source": [
        "# YOUR CODE\n",
        "!pip install catboost #Установим модуль CatBoost от Яндекса"
      ],
      "execution_count": null,
      "outputs": [
        {
          "output_type": "stream",
          "name": "stdout",
          "text": [
            "Looking in indexes: https://pypi.org/simple, https://us-python.pkg.dev/colab-wheels/public/simple/\n",
            "Collecting catboost\n",
            "  Downloading catboost-1.1-cp37-none-manylinux1_x86_64.whl (76.8 MB)\n",
            "\u001b[K     |████████████████████████████████| 76.8 MB 1.1 MB/s \n",
            "\u001b[?25hRequirement already satisfied: plotly in /usr/local/lib/python3.7/dist-packages (from catboost) (5.5.0)\n",
            "Requirement already satisfied: numpy>=1.16.0 in /usr/local/lib/python3.7/dist-packages (from catboost) (1.21.6)\n",
            "Requirement already satisfied: six in /usr/local/lib/python3.7/dist-packages (from catboost) (1.15.0)\n",
            "Requirement already satisfied: scipy in /usr/local/lib/python3.7/dist-packages (from catboost) (1.7.3)\n",
            "Requirement already satisfied: graphviz in /usr/local/lib/python3.7/dist-packages (from catboost) (0.10.1)\n",
            "Requirement already satisfied: matplotlib in /usr/local/lib/python3.7/dist-packages (from catboost) (3.2.2)\n",
            "Requirement already satisfied: pandas>=0.24.0 in /usr/local/lib/python3.7/dist-packages (from catboost) (1.3.5)\n",
            "Requirement already satisfied: python-dateutil>=2.7.3 in /usr/local/lib/python3.7/dist-packages (from pandas>=0.24.0->catboost) (2.8.2)\n",
            "Requirement already satisfied: pytz>=2017.3 in /usr/local/lib/python3.7/dist-packages (from pandas>=0.24.0->catboost) (2022.4)\n",
            "Requirement already satisfied: pyparsing!=2.0.4,!=2.1.2,!=2.1.6,>=2.0.1 in /usr/local/lib/python3.7/dist-packages (from matplotlib->catboost) (3.0.9)\n",
            "Requirement already satisfied: kiwisolver>=1.0.1 in /usr/local/lib/python3.7/dist-packages (from matplotlib->catboost) (1.4.4)\n",
            "Requirement already satisfied: cycler>=0.10 in /usr/local/lib/python3.7/dist-packages (from matplotlib->catboost) (0.11.0)\n",
            "Requirement already satisfied: typing-extensions in /usr/local/lib/python3.7/dist-packages (from kiwisolver>=1.0.1->matplotlib->catboost) (4.1.1)\n",
            "Requirement already satisfied: tenacity>=6.2.0 in /usr/local/lib/python3.7/dist-packages (from plotly->catboost) (8.1.0)\n",
            "Installing collected packages: catboost\n",
            "Successfully installed catboost-1.1\n"
          ]
        }
      ]
    },
    {
      "cell_type": "code",
      "source": [
        "import catboost # документация: https://catboost.ai/docs"
      ],
      "metadata": {
        "id": "o-lfSkGKCCTC"
      },
      "execution_count": null,
      "outputs": []
    },
    {
      "cell_type": "code",
      "source": [
        "# CatBoost умеет работать с категориальными признаками сам поэтому не заморачиваемся с категориальными признаками, \n",
        "# а численные признаки нормировать для моделей, основанных на деревьях не нужно \n",
        "X_train_origin, X_test_origin, y_train, y_test = train_test_split(X_origin.values, y.values, \n",
        "                                                       train_size=0.7, \n",
        "                                                       random_state=100)"
      ],
      "metadata": {
        "id": "F5iPB51sCFI2"
      },
      "execution_count": null,
      "outputs": []
    },
    {
      "cell_type": "markdown",
      "source": [
        "### Эксперименты"
      ],
      "metadata": {
        "id": "jKaFIG9dHbn-"
      }
    },
    {
      "cell_type": "code",
      "source": [
        "# Т.к в Numpy массивах отсутствуют наименования колонок\n",
        "# создадим массив номеров категориальных признаков, т.е. array([ 3,  4,  5,  6,  7,  8,  9, 10, 11, 12, 13, 14, 15, 16, 17, 18])\n",
        "cat_cols_id = np.arange(3, len(X_origin.columns)) \n",
        "\n",
        "boosting_model = catboost.CatBoostClassifier(n_estimators=100, silent=True, # learning_rate': 0.029999999329447743 по умолчанию; silent=True -не показывать промежуточные вычисления\n",
        "                                             eval_metric='AUC', \n",
        "                                             cat_features=cat_cols_id) # Укажем на категориальные признаки\n",
        "\n",
        "\n",
        "boosting_model.fit(X_train_origin, y_train)\n",
        "\n",
        "y_train_predicted = boosting_model.predict_proba(X_train_origin)[:, 1]\n",
        "y_test_predicted = boosting_model.predict_proba(X_test_origin)[:, 1]\n",
        "\n",
        "#ROC_AUC на тесте и на трене\n",
        "train_auc = roc_auc_score(y_train, y_train_predicted)\n",
        "test_auc = roc_auc_score(y_test, y_test_predicted)\n",
        "\n",
        "print(f'ROC_AUC на трейне: {train_auc}')\n",
        "print(f'ROC_AUC на тесте: {test_auc}')"
      ],
      "metadata": {
        "colab": {
          "base_uri": "https://localhost:8080/"
        },
        "id": "kWv4NWo8Cgcs",
        "outputId": "a6116a40-e4c0-4df3-87bb-814872dbf819"
      },
      "execution_count": null,
      "outputs": [
        {
          "output_type": "stream",
          "name": "stdout",
          "text": [
            "ROC_AUC на трейне: 0.8670455968112293\n",
            "ROC_AUC на тесте: 0.8566506032216755\n"
          ]
        }
      ]
    },
    {
      "cell_type": "code",
      "source": [
        "boosting_model.get_all_params()"
      ],
      "metadata": {
        "colab": {
          "base_uri": "https://localhost:8080/"
        },
        "id": "i9lqPuK0FnfC",
        "outputId": "c9dd6ee7-6fdf-444c-fe8d-fd696640061c"
      },
      "execution_count": null,
      "outputs": [
        {
          "output_type": "execute_result",
          "data": {
            "text/plain": [
              "{'nan_mode': 'Min',\n",
              " 'eval_metric': 'AUC',\n",
              " 'combinations_ctr': ['Borders:CtrBorderCount=15:CtrBorderType=Uniform:TargetBorderCount=1:TargetBorderType=MinEntropy:Prior=0/1:Prior=0.5/1:Prior=1/1',\n",
              "  'Counter:CtrBorderCount=15:CtrBorderType=Uniform:Prior=0/1'],\n",
              " 'iterations': 100,\n",
              " 'sampling_frequency': 'PerTree',\n",
              " 'fold_permutation_block': 0,\n",
              " 'leaf_estimation_method': 'Newton',\n",
              " 'counter_calc_method': 'SkipTest',\n",
              " 'grow_policy': 'SymmetricTree',\n",
              " 'penalties_coefficient': 1,\n",
              " 'boosting_type': 'Plain',\n",
              " 'model_shrink_mode': 'Constant',\n",
              " 'feature_border_type': 'GreedyLogSum',\n",
              " 'ctr_leaf_count_limit': 18446744073709551615,\n",
              " 'bayesian_matrix_reg': 0.10000000149011612,\n",
              " 'one_hot_max_size': 2,\n",
              " 'eval_fraction': 0,\n",
              " 'force_unit_auto_pair_weights': False,\n",
              " 'l2_leaf_reg': 3,\n",
              " 'random_strength': 1,\n",
              " 'rsm': 1,\n",
              " 'boost_from_average': False,\n",
              " 'max_ctr_complexity': 1,\n",
              " 'model_size_reg': 0.5,\n",
              " 'simple_ctr': ['Borders:CtrBorderCount=15:CtrBorderType=Uniform:TargetBorderCount=1:TargetBorderType=MinEntropy:Prior=0/1:Prior=0.5/1:Prior=1/1',\n",
              "  'Counter:CtrBorderCount=15:CtrBorderType=Uniform:Prior=0/1'],\n",
              " 'pool_metainfo_options': {'tags': {}},\n",
              " 'subsample': 0.800000011920929,\n",
              " 'use_best_model': False,\n",
              " 'class_names': [0, 1],\n",
              " 'random_seed': 0,\n",
              " 'depth': 6,\n",
              " 'ctr_target_border_count': 1,\n",
              " 'posterior_sampling': False,\n",
              " 'has_time': False,\n",
              " 'store_all_simple_ctr': False,\n",
              " 'border_count': 254,\n",
              " 'classes_count': 0,\n",
              " 'auto_class_weights': 'None',\n",
              " 'sparse_features_conflict_fraction': 0,\n",
              " 'leaf_estimation_backtracking': 'AnyImprovement',\n",
              " 'best_model_min_trees': 1,\n",
              " 'model_shrink_rate': 0,\n",
              " 'min_data_in_leaf': 1,\n",
              " 'loss_function': 'Logloss',\n",
              " 'learning_rate': 0.029999999329447743,\n",
              " 'score_function': 'Cosine',\n",
              " 'task_type': 'CPU',\n",
              " 'leaf_estimation_iterations': 1,\n",
              " 'bootstrap_type': 'MVS',\n",
              " 'max_leaves': 64,\n",
              " 'permutation_count': 4}"
            ]
          },
          "metadata": {},
          "execution_count": 93
        }
      ]
    },
    {
      "cell_type": "code",
      "source": [
        "boosting_model = catboost.CatBoostClassifier(n_estimators=200, eta=0.03,silent=True, #n_estimators - # деревьев; eta - learning rate; silent=True -не показывать промежуточные вычисления\n",
        "                                             eval_metric='AUC',                     \n",
        "                                             cat_features=cat_cols_id) # Укажем на категориальные признаки\n",
        "\n",
        "\n",
        "boosting_model.fit(X_train_origin, y_train)\n",
        "\n",
        "y_train_predicted = boosting_model.predict_proba(X_train_origin)[:, 1]\n",
        "y_test_predicted = boosting_model.predict_proba(X_test_origin)[:, 1]\n",
        "\n",
        "#ROC_AUC на тесте и на трене\n",
        "train_auc = roc_auc_score(y_train, y_train_predicted)\n",
        "test_auc = roc_auc_score(y_test, y_test_predicted)\n",
        "\n",
        "print(f'ROC_AUC на трейне: {train_auc}')\n",
        "print(f'ROC_AUC на тесте: {test_auc}')"
      ],
      "metadata": {
        "colab": {
          "base_uri": "https://localhost:8080/"
        },
        "id": "POSugPzJDeqv",
        "outputId": "79b84388-440d-432e-dbae-8c5e914f9790"
      },
      "execution_count": null,
      "outputs": [
        {
          "output_type": "stream",
          "name": "stdout",
          "text": [
            "ROC_AUC на трейне: 0.8650126955592157\n",
            "ROC_AUC на тесте: 0.8536481852800432\n"
          ]
        }
      ]
    },
    {
      "cell_type": "code",
      "source": [
        "boosting_model = catboost.CatBoostClassifier(n_estimators=50, eta=0.03,silent=True, #n_estimators - # деревьев; eta - learning rate; silent=True -не показывать промежуточные вычисления\n",
        "                                             eval_metric='AUC',                     \n",
        "                                             cat_features=cat_cols_id) # Укажем на категориальные признаки\n",
        "\n",
        "\n",
        "boosting_model.fit(X_train_origin, y_train)\n",
        "\n",
        "y_train_predicted = boosting_model.predict_proba(X_train_origin)[:, 1]\n",
        "y_test_predicted = boosting_model.predict_proba(X_test_origin)[:, 1]\n",
        "\n",
        "#ROC_AUC на тесте и на трене\n",
        "train_auc = roc_auc_score(y_train, y_train_predicted)\n",
        "test_auc = roc_auc_score(y_test, y_test_predicted)\n",
        "\n",
        "print(f'ROC_AUC на трейне: {train_auc}')\n",
        "print(f'ROC_AUC на тесте: {test_auc}')"
      ],
      "metadata": {
        "colab": {
          "base_uri": "https://localhost:8080/"
        },
        "id": "j1tav0rhHIVC",
        "outputId": "8a7bc7dd-be39-43c7-80b1-e1bc6fa913e5"
      },
      "execution_count": null,
      "outputs": [
        {
          "output_type": "stream",
          "name": "stdout",
          "text": [
            "ROC_AUC на трейне: 0.8381006963628552\n",
            "ROC_AUC на тесте: 0.8477254920132102\n"
          ]
        }
      ]
    },
    {
      "cell_type": "code",
      "source": [
        "boosting_model = catboost.CatBoostClassifier(n_estimators=100, eta=0.02,silent=True, #n_estimators - # деревьев; eta - learning rate; silent=True -не показывать промежуточные вычисления\n",
        "                                             eval_metric='AUC',                     \n",
        "                                             cat_features=cat_cols_id) # Укажем на категориальные признаки\n",
        "\n",
        "\n",
        "boosting_model.fit(X_train_origin, y_train)\n",
        "\n",
        "y_train_predicted = boosting_model.predict_proba(X_train_origin)[:, 1]\n",
        "y_test_predicted = boosting_model.predict_proba(X_test_origin)[:, 1]\n",
        "\n",
        "#ROC_AUC на тесте и на трене\n",
        "train_auc = roc_auc_score(y_train, y_train_predicted)\n",
        "test_auc = roc_auc_score(y_test, y_test_predicted)\n",
        "\n",
        "print(f'ROC_AUC на трейне: {train_auc}')\n",
        "print(f'ROC_AUC на тесте: {test_auc}')"
      ],
      "metadata": {
        "colab": {
          "base_uri": "https://localhost:8080/"
        },
        "id": "h2Trtvh2HEg_",
        "outputId": "e0807c08-2d15-408f-89f3-e9ac47c50872"
      },
      "execution_count": null,
      "outputs": [
        {
          "output_type": "stream",
          "name": "stdout",
          "text": [
            "ROC_AUC на трейне: 0.8423571009295083\n",
            "ROC_AUC на тесте: 0.8497790574240076\n"
          ]
        }
      ]
    },
    {
      "cell_type": "code",
      "source": [
        "boosting_model = catboost.CatBoostClassifier(n_estimators=100, eta=0.04,silent=True, #n_estimators - # деревьев; eta - learning rate; silent=True -не показывать промежуточные вычисления\n",
        "                                             eval_metric='AUC',                     \n",
        "                                             cat_features=cat_cols_id) # Укажем на категориальные признаки\n",
        "\n",
        "\n",
        "boosting_model.fit(X_train_origin, y_train)\n",
        "\n",
        "y_train_predicted = boosting_model.predict_proba(X_train_origin)[:, 1]\n",
        "y_test_predicted = boosting_model.predict_proba(X_test_origin)[:, 1]\n",
        "\n",
        "#ROC_AUC на тесте и на трене\n",
        "train_auc = roc_auc_score(y_train, y_train_predicted)\n",
        "test_auc = roc_auc_score(y_test, y_test_predicted)\n",
        "\n",
        "print(f'ROC_AUC на трейне: {train_auc}')\n",
        "print(f'ROC_AUC на тесте: {test_auc}')"
      ],
      "metadata": {
        "colab": {
          "base_uri": "https://localhost:8080/"
        },
        "id": "V92K0xsKHMk0",
        "outputId": "a3180ac6-f872-4cbd-febd-ab74acf14162"
      },
      "execution_count": null,
      "outputs": [
        {
          "output_type": "stream",
          "name": "stdout",
          "text": [
            "ROC_AUC на трейне: 0.8530868538177763\n",
            "ROC_AUC на тесте: 0.8516851873694143\n"
          ]
        }
      ]
    },
    {
      "cell_type": "markdown",
      "metadata": {
        "id": "rf4Kjt96EEZU"
      },
      "source": [
        "Выпишите какое лучшее качество и с какими параметрами вам удалось получить"
      ]
    },
    {
      "cell_type": "markdown",
      "source": [
        "**ROC_AUC на тесте: 0.857 с параметрами n_estimators=100, eta=0.029999999329447743 (по умолчанию)**"
      ],
      "metadata": {
        "id": "gUACw78uHtcK"
      }
    },
    {
      "cell_type": "markdown",
      "metadata": {
        "id": "dDMXbvNZEEZV"
      },
      "source": [
        "# Предсказания"
      ]
    },
    {
      "cell_type": "code",
      "metadata": {
        "id": "G_P4wFNaEEZW"
      },
      "source": [
        "best_model = boosting_model # какая-то предыдущая модель"
      ],
      "execution_count": null,
      "outputs": []
    },
    {
      "cell_type": "code",
      "metadata": {
        "id": "FfSufx0CEEZZ"
      },
      "source": [
        "X_test = pd.read_csv('/content/gdrive/MyDrive/hw_ML_task/test.csv')\n",
        "submission = pd.read_csv('/content/gdrive/MyDrive/hw_ML_task/submission.csv')\n",
        "\n",
        "submission['Churn'] = best_model.predict_proba(X_test)[:,1] #/ best_model.predict(X_test)\n",
        "submission.to_csv('./my_submission.csv')"
      ],
      "execution_count": null,
      "outputs": []
    },
    {
      "cell_type": "code",
      "source": [
        "submission"
      ],
      "metadata": {
        "colab": {
          "base_uri": "https://localhost:8080/",
          "height": 424
        },
        "id": "j09sMTQZKvgl",
        "outputId": "b76f95a7-02f9-47ec-b9f9-8343994c6fd9"
      },
      "execution_count": null,
      "outputs": [
        {
          "output_type": "execute_result",
          "data": {
            "text/plain": [
              "        Id     Churn\n",
              "0        0  0.063976\n",
              "1        1  0.597478\n",
              "2        2  0.629909\n",
              "3        3  0.046910\n",
              "4        4  0.033614\n",
              "...    ...       ...\n",
              "1756  1756  0.180023\n",
              "1757  1757  0.045249\n",
              "1758  1758  0.740546\n",
              "1759  1759  0.541446\n",
              "1760  1760  0.048324\n",
              "\n",
              "[1761 rows x 2 columns]"
            ],
            "text/html": [
              "\n",
              "  <div id=\"df-d3a62ba7-c09d-4337-be91-e075a5737d8c\">\n",
              "    <div class=\"colab-df-container\">\n",
              "      <div>\n",
              "<style scoped>\n",
              "    .dataframe tbody tr th:only-of-type {\n",
              "        vertical-align: middle;\n",
              "    }\n",
              "\n",
              "    .dataframe tbody tr th {\n",
              "        vertical-align: top;\n",
              "    }\n",
              "\n",
              "    .dataframe thead th {\n",
              "        text-align: right;\n",
              "    }\n",
              "</style>\n",
              "<table border=\"1\" class=\"dataframe\">\n",
              "  <thead>\n",
              "    <tr style=\"text-align: right;\">\n",
              "      <th></th>\n",
              "      <th>Id</th>\n",
              "      <th>Churn</th>\n",
              "    </tr>\n",
              "  </thead>\n",
              "  <tbody>\n",
              "    <tr>\n",
              "      <th>0</th>\n",
              "      <td>0</td>\n",
              "      <td>0.063976</td>\n",
              "    </tr>\n",
              "    <tr>\n",
              "      <th>1</th>\n",
              "      <td>1</td>\n",
              "      <td>0.597478</td>\n",
              "    </tr>\n",
              "    <tr>\n",
              "      <th>2</th>\n",
              "      <td>2</td>\n",
              "      <td>0.629909</td>\n",
              "    </tr>\n",
              "    <tr>\n",
              "      <th>3</th>\n",
              "      <td>3</td>\n",
              "      <td>0.046910</td>\n",
              "    </tr>\n",
              "    <tr>\n",
              "      <th>4</th>\n",
              "      <td>4</td>\n",
              "      <td>0.033614</td>\n",
              "    </tr>\n",
              "    <tr>\n",
              "      <th>...</th>\n",
              "      <td>...</td>\n",
              "      <td>...</td>\n",
              "    </tr>\n",
              "    <tr>\n",
              "      <th>1756</th>\n",
              "      <td>1756</td>\n",
              "      <td>0.180023</td>\n",
              "    </tr>\n",
              "    <tr>\n",
              "      <th>1757</th>\n",
              "      <td>1757</td>\n",
              "      <td>0.045249</td>\n",
              "    </tr>\n",
              "    <tr>\n",
              "      <th>1758</th>\n",
              "      <td>1758</td>\n",
              "      <td>0.740546</td>\n",
              "    </tr>\n",
              "    <tr>\n",
              "      <th>1759</th>\n",
              "      <td>1759</td>\n",
              "      <td>0.541446</td>\n",
              "    </tr>\n",
              "    <tr>\n",
              "      <th>1760</th>\n",
              "      <td>1760</td>\n",
              "      <td>0.048324</td>\n",
              "    </tr>\n",
              "  </tbody>\n",
              "</table>\n",
              "<p>1761 rows × 2 columns</p>\n",
              "</div>\n",
              "      <button class=\"colab-df-convert\" onclick=\"convertToInteractive('df-d3a62ba7-c09d-4337-be91-e075a5737d8c')\"\n",
              "              title=\"Convert this dataframe to an interactive table.\"\n",
              "              style=\"display:none;\">\n",
              "        \n",
              "  <svg xmlns=\"http://www.w3.org/2000/svg\" height=\"24px\"viewBox=\"0 0 24 24\"\n",
              "       width=\"24px\">\n",
              "    <path d=\"M0 0h24v24H0V0z\" fill=\"none\"/>\n",
              "    <path d=\"M18.56 5.44l.94 2.06.94-2.06 2.06-.94-2.06-.94-.94-2.06-.94 2.06-2.06.94zm-11 1L8.5 8.5l.94-2.06 2.06-.94-2.06-.94L8.5 2.5l-.94 2.06-2.06.94zm10 10l.94 2.06.94-2.06 2.06-.94-2.06-.94-.94-2.06-.94 2.06-2.06.94z\"/><path d=\"M17.41 7.96l-1.37-1.37c-.4-.4-.92-.59-1.43-.59-.52 0-1.04.2-1.43.59L10.3 9.45l-7.72 7.72c-.78.78-.78 2.05 0 2.83L4 21.41c.39.39.9.59 1.41.59.51 0 1.02-.2 1.41-.59l7.78-7.78 2.81-2.81c.8-.78.8-2.07 0-2.86zM5.41 20L4 18.59l7.72-7.72 1.47 1.35L5.41 20z\"/>\n",
              "  </svg>\n",
              "      </button>\n",
              "      \n",
              "  <style>\n",
              "    .colab-df-container {\n",
              "      display:flex;\n",
              "      flex-wrap:wrap;\n",
              "      gap: 12px;\n",
              "    }\n",
              "\n",
              "    .colab-df-convert {\n",
              "      background-color: #E8F0FE;\n",
              "      border: none;\n",
              "      border-radius: 50%;\n",
              "      cursor: pointer;\n",
              "      display: none;\n",
              "      fill: #1967D2;\n",
              "      height: 32px;\n",
              "      padding: 0 0 0 0;\n",
              "      width: 32px;\n",
              "    }\n",
              "\n",
              "    .colab-df-convert:hover {\n",
              "      background-color: #E2EBFA;\n",
              "      box-shadow: 0px 1px 2px rgba(60, 64, 67, 0.3), 0px 1px 3px 1px rgba(60, 64, 67, 0.15);\n",
              "      fill: #174EA6;\n",
              "    }\n",
              "\n",
              "    [theme=dark] .colab-df-convert {\n",
              "      background-color: #3B4455;\n",
              "      fill: #D2E3FC;\n",
              "    }\n",
              "\n",
              "    [theme=dark] .colab-df-convert:hover {\n",
              "      background-color: #434B5C;\n",
              "      box-shadow: 0px 1px 3px 1px rgba(0, 0, 0, 0.15);\n",
              "      filter: drop-shadow(0px 1px 2px rgba(0, 0, 0, 0.3));\n",
              "      fill: #FFFFFF;\n",
              "    }\n",
              "  </style>\n",
              "\n",
              "      <script>\n",
              "        const buttonEl =\n",
              "          document.querySelector('#df-d3a62ba7-c09d-4337-be91-e075a5737d8c button.colab-df-convert');\n",
              "        buttonEl.style.display =\n",
              "          google.colab.kernel.accessAllowed ? 'block' : 'none';\n",
              "\n",
              "        async function convertToInteractive(key) {\n",
              "          const element = document.querySelector('#df-d3a62ba7-c09d-4337-be91-e075a5737d8c');\n",
              "          const dataTable =\n",
              "            await google.colab.kernel.invokeFunction('convertToInteractive',\n",
              "                                                     [key], {});\n",
              "          if (!dataTable) return;\n",
              "\n",
              "          const docLinkHtml = 'Like what you see? Visit the ' +\n",
              "            '<a target=\"_blank\" href=https://colab.research.google.com/notebooks/data_table.ipynb>data table notebook</a>'\n",
              "            + ' to learn more about interactive tables.';\n",
              "          element.innerHTML = '';\n",
              "          dataTable['output_type'] = 'display_data';\n",
              "          await google.colab.output.renderOutput(dataTable, element);\n",
              "          const docLink = document.createElement('div');\n",
              "          docLink.innerHTML = docLinkHtml;\n",
              "          element.appendChild(docLink);\n",
              "        }\n",
              "      </script>\n",
              "    </div>\n",
              "  </div>\n",
              "  "
            ]
          },
          "metadata": {},
          "execution_count": 108
        }
      ]
    }
  ]
}