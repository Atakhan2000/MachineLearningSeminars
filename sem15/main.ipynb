{
  "nbformat": 4,
  "nbformat_minor": 0,
  "metadata": {
    "accelerator": "GPU",
    "colab": {
      "name": "main.ipynb",
      "provenance": []
    },
    "kernelspec": {
      "display_name": "Python 3",
      "language": "python",
      "name": "python3"
    },
    "language_info": {
      "codemirror_mode": {
        "name": "ipython",
        "version": 3
      },
      "file_extension": ".py",
      "mimetype": "text/x-python",
      "name": "python",
      "nbconvert_exporter": "python",
      "pygments_lexer": "ipython3",
      "version": "3.7.3"
    },
    "widgets": {
      "application/vnd.jupyter.widget-state+json": {
        "2c4547b37d644d2c875c57afff038685": {
          "model_module": "@jupyter-widgets/controls",
          "model_name": "HBoxModel",
          "state": {
            "_view_name": "HBoxView",
            "_dom_classes": [],
            "_model_name": "HBoxModel",
            "_view_module": "@jupyter-widgets/controls",
            "_model_module_version": "1.5.0",
            "_view_count": null,
            "_view_module_version": "1.5.0",
            "box_style": "",
            "layout": "IPY_MODEL_566af644888d4c6483284fdda45a4816",
            "_model_module": "@jupyter-widgets/controls",
            "children": [
              "IPY_MODEL_a05bbbdedf5240bfacad1c6ed5b04113",
              "IPY_MODEL_81712b7b3e8e45ca83d010c7136a503e"
            ]
          }
        },
        "566af644888d4c6483284fdda45a4816": {
          "model_module": "@jupyter-widgets/base",
          "model_name": "LayoutModel",
          "state": {
            "_view_name": "LayoutView",
            "grid_template_rows": null,
            "right": null,
            "justify_content": null,
            "_view_module": "@jupyter-widgets/base",
            "overflow": null,
            "_model_module_version": "1.2.0",
            "_view_count": null,
            "flex_flow": null,
            "width": null,
            "min_width": null,
            "border": null,
            "align_items": null,
            "bottom": null,
            "_model_module": "@jupyter-widgets/base",
            "top": null,
            "grid_column": null,
            "overflow_y": null,
            "overflow_x": null,
            "grid_auto_flow": null,
            "grid_area": null,
            "grid_template_columns": null,
            "flex": null,
            "_model_name": "LayoutModel",
            "justify_items": null,
            "grid_row": null,
            "max_height": null,
            "align_content": null,
            "visibility": null,
            "align_self": null,
            "height": null,
            "min_height": null,
            "padding": null,
            "grid_auto_rows": null,
            "grid_gap": null,
            "max_width": null,
            "order": null,
            "_view_module_version": "1.2.0",
            "grid_template_areas": null,
            "object_position": null,
            "object_fit": null,
            "grid_auto_columns": null,
            "margin": null,
            "display": null,
            "left": null
          }
        },
        "a05bbbdedf5240bfacad1c6ed5b04113": {
          "model_module": "@jupyter-widgets/controls",
          "model_name": "FloatProgressModel",
          "state": {
            "_view_name": "ProgressView",
            "style": "IPY_MODEL_e404da1db9ad4e4680ece4e9a113945f",
            "_dom_classes": [],
            "description": "",
            "_model_name": "FloatProgressModel",
            "bar_style": "info",
            "max": 1,
            "_view_module": "@jupyter-widgets/controls",
            "_model_module_version": "1.5.0",
            "value": 1,
            "_view_count": null,
            "_view_module_version": "1.5.0",
            "orientation": "horizontal",
            "min": 0,
            "description_tooltip": null,
            "_model_module": "@jupyter-widgets/controls",
            "layout": "IPY_MODEL_152c86e6af1945b4adb1a733353c5a8c"
          }
        },
        "81712b7b3e8e45ca83d010c7136a503e": {
          "model_module": "@jupyter-widgets/controls",
          "model_name": "HTMLModel",
          "state": {
            "_view_name": "HTMLView",
            "style": "IPY_MODEL_66268bd7d6f445a591535241132dc877",
            "_dom_classes": [],
            "description": "",
            "_model_name": "HTMLModel",
            "placeholder": "​",
            "_view_module": "@jupyter-widgets/controls",
            "_model_module_version": "1.5.0",
            "value": " 9920512/? [00:20&lt;00:00, 808595.74it/s]",
            "_view_count": null,
            "_view_module_version": "1.5.0",
            "description_tooltip": null,
            "_model_module": "@jupyter-widgets/controls",
            "layout": "IPY_MODEL_f626b97c84c842dfb441d77f2d30df99"
          }
        },
        "e404da1db9ad4e4680ece4e9a113945f": {
          "model_module": "@jupyter-widgets/controls",
          "model_name": "ProgressStyleModel",
          "state": {
            "_view_name": "StyleView",
            "_model_name": "ProgressStyleModel",
            "description_width": "initial",
            "_view_module": "@jupyter-widgets/base",
            "_model_module_version": "1.5.0",
            "_view_count": null,
            "_view_module_version": "1.2.0",
            "bar_color": null,
            "_model_module": "@jupyter-widgets/controls"
          }
        },
        "152c86e6af1945b4adb1a733353c5a8c": {
          "model_module": "@jupyter-widgets/base",
          "model_name": "LayoutModel",
          "state": {
            "_view_name": "LayoutView",
            "grid_template_rows": null,
            "right": null,
            "justify_content": null,
            "_view_module": "@jupyter-widgets/base",
            "overflow": null,
            "_model_module_version": "1.2.0",
            "_view_count": null,
            "flex_flow": null,
            "width": null,
            "min_width": null,
            "border": null,
            "align_items": null,
            "bottom": null,
            "_model_module": "@jupyter-widgets/base",
            "top": null,
            "grid_column": null,
            "overflow_y": null,
            "overflow_x": null,
            "grid_auto_flow": null,
            "grid_area": null,
            "grid_template_columns": null,
            "flex": null,
            "_model_name": "LayoutModel",
            "justify_items": null,
            "grid_row": null,
            "max_height": null,
            "align_content": null,
            "visibility": null,
            "align_self": null,
            "height": null,
            "min_height": null,
            "padding": null,
            "grid_auto_rows": null,
            "grid_gap": null,
            "max_width": null,
            "order": null,
            "_view_module_version": "1.2.0",
            "grid_template_areas": null,
            "object_position": null,
            "object_fit": null,
            "grid_auto_columns": null,
            "margin": null,
            "display": null,
            "left": null
          }
        },
        "66268bd7d6f445a591535241132dc877": {
          "model_module": "@jupyter-widgets/controls",
          "model_name": "DescriptionStyleModel",
          "state": {
            "_view_name": "StyleView",
            "_model_name": "DescriptionStyleModel",
            "description_width": "",
            "_view_module": "@jupyter-widgets/base",
            "_model_module_version": "1.5.0",
            "_view_count": null,
            "_view_module_version": "1.2.0",
            "_model_module": "@jupyter-widgets/controls"
          }
        },
        "f626b97c84c842dfb441d77f2d30df99": {
          "model_module": "@jupyter-widgets/base",
          "model_name": "LayoutModel",
          "state": {
            "_view_name": "LayoutView",
            "grid_template_rows": null,
            "right": null,
            "justify_content": null,
            "_view_module": "@jupyter-widgets/base",
            "overflow": null,
            "_model_module_version": "1.2.0",
            "_view_count": null,
            "flex_flow": null,
            "width": null,
            "min_width": null,
            "border": null,
            "align_items": null,
            "bottom": null,
            "_model_module": "@jupyter-widgets/base",
            "top": null,
            "grid_column": null,
            "overflow_y": null,
            "overflow_x": null,
            "grid_auto_flow": null,
            "grid_area": null,
            "grid_template_columns": null,
            "flex": null,
            "_model_name": "LayoutModel",
            "justify_items": null,
            "grid_row": null,
            "max_height": null,
            "align_content": null,
            "visibility": null,
            "align_self": null,
            "height": null,
            "min_height": null,
            "padding": null,
            "grid_auto_rows": null,
            "grid_gap": null,
            "max_width": null,
            "order": null,
            "_view_module_version": "1.2.0",
            "grid_template_areas": null,
            "object_position": null,
            "object_fit": null,
            "grid_auto_columns": null,
            "margin": null,
            "display": null,
            "left": null
          }
        },
        "2b713d4e76d948208c2dbe9940e8f502": {
          "model_module": "@jupyter-widgets/controls",
          "model_name": "HBoxModel",
          "state": {
            "_view_name": "HBoxView",
            "_dom_classes": [],
            "_model_name": "HBoxModel",
            "_view_module": "@jupyter-widgets/controls",
            "_model_module_version": "1.5.0",
            "_view_count": null,
            "_view_module_version": "1.5.0",
            "box_style": "",
            "layout": "IPY_MODEL_3b8002a3c2094ea1b7431db24ec3fa27",
            "_model_module": "@jupyter-widgets/controls",
            "children": [
              "IPY_MODEL_e9fc00d2ba874cc985fa6279315d4696",
              "IPY_MODEL_1387ed4731f64bacb5d3c8643574a6ef"
            ]
          }
        },
        "3b8002a3c2094ea1b7431db24ec3fa27": {
          "model_module": "@jupyter-widgets/base",
          "model_name": "LayoutModel",
          "state": {
            "_view_name": "LayoutView",
            "grid_template_rows": null,
            "right": null,
            "justify_content": null,
            "_view_module": "@jupyter-widgets/base",
            "overflow": null,
            "_model_module_version": "1.2.0",
            "_view_count": null,
            "flex_flow": null,
            "width": null,
            "min_width": null,
            "border": null,
            "align_items": null,
            "bottom": null,
            "_model_module": "@jupyter-widgets/base",
            "top": null,
            "grid_column": null,
            "overflow_y": null,
            "overflow_x": null,
            "grid_auto_flow": null,
            "grid_area": null,
            "grid_template_columns": null,
            "flex": null,
            "_model_name": "LayoutModel",
            "justify_items": null,
            "grid_row": null,
            "max_height": null,
            "align_content": null,
            "visibility": null,
            "align_self": null,
            "height": null,
            "min_height": null,
            "padding": null,
            "grid_auto_rows": null,
            "grid_gap": null,
            "max_width": null,
            "order": null,
            "_view_module_version": "1.2.0",
            "grid_template_areas": null,
            "object_position": null,
            "object_fit": null,
            "grid_auto_columns": null,
            "margin": null,
            "display": null,
            "left": null
          }
        },
        "e9fc00d2ba874cc985fa6279315d4696": {
          "model_module": "@jupyter-widgets/controls",
          "model_name": "FloatProgressModel",
          "state": {
            "_view_name": "ProgressView",
            "style": "IPY_MODEL_7c75e76a26bf46b285d90922e41311c1",
            "_dom_classes": [],
            "description": "  0%",
            "_model_name": "FloatProgressModel",
            "bar_style": "info",
            "max": 1,
            "_view_module": "@jupyter-widgets/controls",
            "_model_module_version": "1.5.0",
            "value": 0,
            "_view_count": null,
            "_view_module_version": "1.5.0",
            "orientation": "horizontal",
            "min": 0,
            "description_tooltip": null,
            "_model_module": "@jupyter-widgets/controls",
            "layout": "IPY_MODEL_dc2ee5503d084185904ce7959f4f3516"
          }
        },
        "1387ed4731f64bacb5d3c8643574a6ef": {
          "model_module": "@jupyter-widgets/controls",
          "model_name": "HTMLModel",
          "state": {
            "_view_name": "HTMLView",
            "style": "IPY_MODEL_e995c832a9c94f3badbbddcbc0cf5055",
            "_dom_classes": [],
            "description": "",
            "_model_name": "HTMLModel",
            "placeholder": "​",
            "_view_module": "@jupyter-widgets/controls",
            "_model_module_version": "1.5.0",
            "value": " 0/28881 [00:00&lt;?, ?it/s]",
            "_view_count": null,
            "_view_module_version": "1.5.0",
            "description_tooltip": null,
            "_model_module": "@jupyter-widgets/controls",
            "layout": "IPY_MODEL_f2716ee698ab403f965f92dfe6e182b2"
          }
        },
        "7c75e76a26bf46b285d90922e41311c1": {
          "model_module": "@jupyter-widgets/controls",
          "model_name": "ProgressStyleModel",
          "state": {
            "_view_name": "StyleView",
            "_model_name": "ProgressStyleModel",
            "description_width": "initial",
            "_view_module": "@jupyter-widgets/base",
            "_model_module_version": "1.5.0",
            "_view_count": null,
            "_view_module_version": "1.2.0",
            "bar_color": null,
            "_model_module": "@jupyter-widgets/controls"
          }
        },
        "dc2ee5503d084185904ce7959f4f3516": {
          "model_module": "@jupyter-widgets/base",
          "model_name": "LayoutModel",
          "state": {
            "_view_name": "LayoutView",
            "grid_template_rows": null,
            "right": null,
            "justify_content": null,
            "_view_module": "@jupyter-widgets/base",
            "overflow": null,
            "_model_module_version": "1.2.0",
            "_view_count": null,
            "flex_flow": null,
            "width": null,
            "min_width": null,
            "border": null,
            "align_items": null,
            "bottom": null,
            "_model_module": "@jupyter-widgets/base",
            "top": null,
            "grid_column": null,
            "overflow_y": null,
            "overflow_x": null,
            "grid_auto_flow": null,
            "grid_area": null,
            "grid_template_columns": null,
            "flex": null,
            "_model_name": "LayoutModel",
            "justify_items": null,
            "grid_row": null,
            "max_height": null,
            "align_content": null,
            "visibility": null,
            "align_self": null,
            "height": null,
            "min_height": null,
            "padding": null,
            "grid_auto_rows": null,
            "grid_gap": null,
            "max_width": null,
            "order": null,
            "_view_module_version": "1.2.0",
            "grid_template_areas": null,
            "object_position": null,
            "object_fit": null,
            "grid_auto_columns": null,
            "margin": null,
            "display": null,
            "left": null
          }
        },
        "e995c832a9c94f3badbbddcbc0cf5055": {
          "model_module": "@jupyter-widgets/controls",
          "model_name": "DescriptionStyleModel",
          "state": {
            "_view_name": "StyleView",
            "_model_name": "DescriptionStyleModel",
            "description_width": "",
            "_view_module": "@jupyter-widgets/base",
            "_model_module_version": "1.5.0",
            "_view_count": null,
            "_view_module_version": "1.2.0",
            "_model_module": "@jupyter-widgets/controls"
          }
        },
        "f2716ee698ab403f965f92dfe6e182b2": {
          "model_module": "@jupyter-widgets/base",
          "model_name": "LayoutModel",
          "state": {
            "_view_name": "LayoutView",
            "grid_template_rows": null,
            "right": null,
            "justify_content": null,
            "_view_module": "@jupyter-widgets/base",
            "overflow": null,
            "_model_module_version": "1.2.0",
            "_view_count": null,
            "flex_flow": null,
            "width": null,
            "min_width": null,
            "border": null,
            "align_items": null,
            "bottom": null,
            "_model_module": "@jupyter-widgets/base",
            "top": null,
            "grid_column": null,
            "overflow_y": null,
            "overflow_x": null,
            "grid_auto_flow": null,
            "grid_area": null,
            "grid_template_columns": null,
            "flex": null,
            "_model_name": "LayoutModel",
            "justify_items": null,
            "grid_row": null,
            "max_height": null,
            "align_content": null,
            "visibility": null,
            "align_self": null,
            "height": null,
            "min_height": null,
            "padding": null,
            "grid_auto_rows": null,
            "grid_gap": null,
            "max_width": null,
            "order": null,
            "_view_module_version": "1.2.0",
            "grid_template_areas": null,
            "object_position": null,
            "object_fit": null,
            "grid_auto_columns": null,
            "margin": null,
            "display": null,
            "left": null
          }
        },
        "d2a90afab4c8473189001452ac9e9130": {
          "model_module": "@jupyter-widgets/controls",
          "model_name": "HBoxModel",
          "state": {
            "_view_name": "HBoxView",
            "_dom_classes": [],
            "_model_name": "HBoxModel",
            "_view_module": "@jupyter-widgets/controls",
            "_model_module_version": "1.5.0",
            "_view_count": null,
            "_view_module_version": "1.5.0",
            "box_style": "",
            "layout": "IPY_MODEL_b197744b57854030ad735acc8bcdcd66",
            "_model_module": "@jupyter-widgets/controls",
            "children": [
              "IPY_MODEL_5d5a406e3ca74328958760557e4c50c4",
              "IPY_MODEL_99ab45eb6a4f4f75a48ca45b60a96e75"
            ]
          }
        },
        "b197744b57854030ad735acc8bcdcd66": {
          "model_module": "@jupyter-widgets/base",
          "model_name": "LayoutModel",
          "state": {
            "_view_name": "LayoutView",
            "grid_template_rows": null,
            "right": null,
            "justify_content": null,
            "_view_module": "@jupyter-widgets/base",
            "overflow": null,
            "_model_module_version": "1.2.0",
            "_view_count": null,
            "flex_flow": null,
            "width": null,
            "min_width": null,
            "border": null,
            "align_items": null,
            "bottom": null,
            "_model_module": "@jupyter-widgets/base",
            "top": null,
            "grid_column": null,
            "overflow_y": null,
            "overflow_x": null,
            "grid_auto_flow": null,
            "grid_area": null,
            "grid_template_columns": null,
            "flex": null,
            "_model_name": "LayoutModel",
            "justify_items": null,
            "grid_row": null,
            "max_height": null,
            "align_content": null,
            "visibility": null,
            "align_self": null,
            "height": null,
            "min_height": null,
            "padding": null,
            "grid_auto_rows": null,
            "grid_gap": null,
            "max_width": null,
            "order": null,
            "_view_module_version": "1.2.0",
            "grid_template_areas": null,
            "object_position": null,
            "object_fit": null,
            "grid_auto_columns": null,
            "margin": null,
            "display": null,
            "left": null
          }
        },
        "5d5a406e3ca74328958760557e4c50c4": {
          "model_module": "@jupyter-widgets/controls",
          "model_name": "FloatProgressModel",
          "state": {
            "_view_name": "ProgressView",
            "style": "IPY_MODEL_29119cd7ddde4707bf01372571e5e200",
            "_dom_classes": [],
            "description": "",
            "_model_name": "FloatProgressModel",
            "bar_style": "info",
            "max": 1,
            "_view_module": "@jupyter-widgets/controls",
            "_model_module_version": "1.5.0",
            "value": 1,
            "_view_count": null,
            "_view_module_version": "1.5.0",
            "orientation": "horizontal",
            "min": 0,
            "description_tooltip": null,
            "_model_module": "@jupyter-widgets/controls",
            "layout": "IPY_MODEL_5595b29fbe214304b975f9f7aa663749"
          }
        },
        "99ab45eb6a4f4f75a48ca45b60a96e75": {
          "model_module": "@jupyter-widgets/controls",
          "model_name": "HTMLModel",
          "state": {
            "_view_name": "HTMLView",
            "style": "IPY_MODEL_dcf50fbe155c4db0b79675b36cf7039a",
            "_dom_classes": [],
            "description": "",
            "_model_name": "HTMLModel",
            "placeholder": "​",
            "_view_module": "@jupyter-widgets/controls",
            "_model_module_version": "1.5.0",
            "value": " 1654784/? [00:18&lt;00:00, 529784.78it/s]",
            "_view_count": null,
            "_view_module_version": "1.5.0",
            "description_tooltip": null,
            "_model_module": "@jupyter-widgets/controls",
            "layout": "IPY_MODEL_31312c5c25894ec0a58935b3eec33f05"
          }
        },
        "29119cd7ddde4707bf01372571e5e200": {
          "model_module": "@jupyter-widgets/controls",
          "model_name": "ProgressStyleModel",
          "state": {
            "_view_name": "StyleView",
            "_model_name": "ProgressStyleModel",
            "description_width": "initial",
            "_view_module": "@jupyter-widgets/base",
            "_model_module_version": "1.5.0",
            "_view_count": null,
            "_view_module_version": "1.2.0",
            "bar_color": null,
            "_model_module": "@jupyter-widgets/controls"
          }
        },
        "5595b29fbe214304b975f9f7aa663749": {
          "model_module": "@jupyter-widgets/base",
          "model_name": "LayoutModel",
          "state": {
            "_view_name": "LayoutView",
            "grid_template_rows": null,
            "right": null,
            "justify_content": null,
            "_view_module": "@jupyter-widgets/base",
            "overflow": null,
            "_model_module_version": "1.2.0",
            "_view_count": null,
            "flex_flow": null,
            "width": null,
            "min_width": null,
            "border": null,
            "align_items": null,
            "bottom": null,
            "_model_module": "@jupyter-widgets/base",
            "top": null,
            "grid_column": null,
            "overflow_y": null,
            "overflow_x": null,
            "grid_auto_flow": null,
            "grid_area": null,
            "grid_template_columns": null,
            "flex": null,
            "_model_name": "LayoutModel",
            "justify_items": null,
            "grid_row": null,
            "max_height": null,
            "align_content": null,
            "visibility": null,
            "align_self": null,
            "height": null,
            "min_height": null,
            "padding": null,
            "grid_auto_rows": null,
            "grid_gap": null,
            "max_width": null,
            "order": null,
            "_view_module_version": "1.2.0",
            "grid_template_areas": null,
            "object_position": null,
            "object_fit": null,
            "grid_auto_columns": null,
            "margin": null,
            "display": null,
            "left": null
          }
        },
        "dcf50fbe155c4db0b79675b36cf7039a": {
          "model_module": "@jupyter-widgets/controls",
          "model_name": "DescriptionStyleModel",
          "state": {
            "_view_name": "StyleView",
            "_model_name": "DescriptionStyleModel",
            "description_width": "",
            "_view_module": "@jupyter-widgets/base",
            "_model_module_version": "1.5.0",
            "_view_count": null,
            "_view_module_version": "1.2.0",
            "_model_module": "@jupyter-widgets/controls"
          }
        },
        "31312c5c25894ec0a58935b3eec33f05": {
          "model_module": "@jupyter-widgets/base",
          "model_name": "LayoutModel",
          "state": {
            "_view_name": "LayoutView",
            "grid_template_rows": null,
            "right": null,
            "justify_content": null,
            "_view_module": "@jupyter-widgets/base",
            "overflow": null,
            "_model_module_version": "1.2.0",
            "_view_count": null,
            "flex_flow": null,
            "width": null,
            "min_width": null,
            "border": null,
            "align_items": null,
            "bottom": null,
            "_model_module": "@jupyter-widgets/base",
            "top": null,
            "grid_column": null,
            "overflow_y": null,
            "overflow_x": null,
            "grid_auto_flow": null,
            "grid_area": null,
            "grid_template_columns": null,
            "flex": null,
            "_model_name": "LayoutModel",
            "justify_items": null,
            "grid_row": null,
            "max_height": null,
            "align_content": null,
            "visibility": null,
            "align_self": null,
            "height": null,
            "min_height": null,
            "padding": null,
            "grid_auto_rows": null,
            "grid_gap": null,
            "max_width": null,
            "order": null,
            "_view_module_version": "1.2.0",
            "grid_template_areas": null,
            "object_position": null,
            "object_fit": null,
            "grid_auto_columns": null,
            "margin": null,
            "display": null,
            "left": null
          }
        },
        "a33e168651da452198c02dbcb8cf944f": {
          "model_module": "@jupyter-widgets/controls",
          "model_name": "HBoxModel",
          "state": {
            "_view_name": "HBoxView",
            "_dom_classes": [],
            "_model_name": "HBoxModel",
            "_view_module": "@jupyter-widgets/controls",
            "_model_module_version": "1.5.0",
            "_view_count": null,
            "_view_module_version": "1.5.0",
            "box_style": "",
            "layout": "IPY_MODEL_d93ff95820e2497b9f417d33a0f6d119",
            "_model_module": "@jupyter-widgets/controls",
            "children": [
              "IPY_MODEL_ee0124c2304b4ebb81ba221f2d642578",
              "IPY_MODEL_1335a4a671544943bd9caa39c26b811a"
            ]
          }
        },
        "d93ff95820e2497b9f417d33a0f6d119": {
          "model_module": "@jupyter-widgets/base",
          "model_name": "LayoutModel",
          "state": {
            "_view_name": "LayoutView",
            "grid_template_rows": null,
            "right": null,
            "justify_content": null,
            "_view_module": "@jupyter-widgets/base",
            "overflow": null,
            "_model_module_version": "1.2.0",
            "_view_count": null,
            "flex_flow": null,
            "width": null,
            "min_width": null,
            "border": null,
            "align_items": null,
            "bottom": null,
            "_model_module": "@jupyter-widgets/base",
            "top": null,
            "grid_column": null,
            "overflow_y": null,
            "overflow_x": null,
            "grid_auto_flow": null,
            "grid_area": null,
            "grid_template_columns": null,
            "flex": null,
            "_model_name": "LayoutModel",
            "justify_items": null,
            "grid_row": null,
            "max_height": null,
            "align_content": null,
            "visibility": null,
            "align_self": null,
            "height": null,
            "min_height": null,
            "padding": null,
            "grid_auto_rows": null,
            "grid_gap": null,
            "max_width": null,
            "order": null,
            "_view_module_version": "1.2.0",
            "grid_template_areas": null,
            "object_position": null,
            "object_fit": null,
            "grid_auto_columns": null,
            "margin": null,
            "display": null,
            "left": null
          }
        },
        "ee0124c2304b4ebb81ba221f2d642578": {
          "model_module": "@jupyter-widgets/controls",
          "model_name": "FloatProgressModel",
          "state": {
            "_view_name": "ProgressView",
            "style": "IPY_MODEL_188cdc427ca8497e9f33d2b8fc552910",
            "_dom_classes": [],
            "description": "  0%",
            "_model_name": "FloatProgressModel",
            "bar_style": "info",
            "max": 1,
            "_view_module": "@jupyter-widgets/controls",
            "_model_module_version": "1.5.0",
            "value": 0,
            "_view_count": null,
            "_view_module_version": "1.5.0",
            "orientation": "horizontal",
            "min": 0,
            "description_tooltip": null,
            "_model_module": "@jupyter-widgets/controls",
            "layout": "IPY_MODEL_2c56a80856904394a14e800da3b994de"
          }
        },
        "1335a4a671544943bd9caa39c26b811a": {
          "model_module": "@jupyter-widgets/controls",
          "model_name": "HTMLModel",
          "state": {
            "_view_name": "HTMLView",
            "style": "IPY_MODEL_8375ab0b444741b492a6543d457a596d",
            "_dom_classes": [],
            "description": "",
            "_model_name": "HTMLModel",
            "placeholder": "​",
            "_view_module": "@jupyter-widgets/controls",
            "_model_module_version": "1.5.0",
            "value": " 0/4542 [00:00&lt;?, ?it/s]",
            "_view_count": null,
            "_view_module_version": "1.5.0",
            "description_tooltip": null,
            "_model_module": "@jupyter-widgets/controls",
            "layout": "IPY_MODEL_5423fe53dbcf4f89a307ae0c4c21563c"
          }
        },
        "188cdc427ca8497e9f33d2b8fc552910": {
          "model_module": "@jupyter-widgets/controls",
          "model_name": "ProgressStyleModel",
          "state": {
            "_view_name": "StyleView",
            "_model_name": "ProgressStyleModel",
            "description_width": "initial",
            "_view_module": "@jupyter-widgets/base",
            "_model_module_version": "1.5.0",
            "_view_count": null,
            "_view_module_version": "1.2.0",
            "bar_color": null,
            "_model_module": "@jupyter-widgets/controls"
          }
        },
        "2c56a80856904394a14e800da3b994de": {
          "model_module": "@jupyter-widgets/base",
          "model_name": "LayoutModel",
          "state": {
            "_view_name": "LayoutView",
            "grid_template_rows": null,
            "right": null,
            "justify_content": null,
            "_view_module": "@jupyter-widgets/base",
            "overflow": null,
            "_model_module_version": "1.2.0",
            "_view_count": null,
            "flex_flow": null,
            "width": null,
            "min_width": null,
            "border": null,
            "align_items": null,
            "bottom": null,
            "_model_module": "@jupyter-widgets/base",
            "top": null,
            "grid_column": null,
            "overflow_y": null,
            "overflow_x": null,
            "grid_auto_flow": null,
            "grid_area": null,
            "grid_template_columns": null,
            "flex": null,
            "_model_name": "LayoutModel",
            "justify_items": null,
            "grid_row": null,
            "max_height": null,
            "align_content": null,
            "visibility": null,
            "align_self": null,
            "height": null,
            "min_height": null,
            "padding": null,
            "grid_auto_rows": null,
            "grid_gap": null,
            "max_width": null,
            "order": null,
            "_view_module_version": "1.2.0",
            "grid_template_areas": null,
            "object_position": null,
            "object_fit": null,
            "grid_auto_columns": null,
            "margin": null,
            "display": null,
            "left": null
          }
        },
        "8375ab0b444741b492a6543d457a596d": {
          "model_module": "@jupyter-widgets/controls",
          "model_name": "DescriptionStyleModel",
          "state": {
            "_view_name": "StyleView",
            "_model_name": "DescriptionStyleModel",
            "description_width": "",
            "_view_module": "@jupyter-widgets/base",
            "_model_module_version": "1.5.0",
            "_view_count": null,
            "_view_module_version": "1.2.0",
            "_model_module": "@jupyter-widgets/controls"
          }
        },
        "5423fe53dbcf4f89a307ae0c4c21563c": {
          "model_module": "@jupyter-widgets/base",
          "model_name": "LayoutModel",
          "state": {
            "_view_name": "LayoutView",
            "grid_template_rows": null,
            "right": null,
            "justify_content": null,
            "_view_module": "@jupyter-widgets/base",
            "overflow": null,
            "_model_module_version": "1.2.0",
            "_view_count": null,
            "flex_flow": null,
            "width": null,
            "min_width": null,
            "border": null,
            "align_items": null,
            "bottom": null,
            "_model_module": "@jupyter-widgets/base",
            "top": null,
            "grid_column": null,
            "overflow_y": null,
            "overflow_x": null,
            "grid_auto_flow": null,
            "grid_area": null,
            "grid_template_columns": null,
            "flex": null,
            "_model_name": "LayoutModel",
            "justify_items": null,
            "grid_row": null,
            "max_height": null,
            "align_content": null,
            "visibility": null,
            "align_self": null,
            "height": null,
            "min_height": null,
            "padding": null,
            "grid_auto_rows": null,
            "grid_gap": null,
            "max_width": null,
            "order": null,
            "_view_module_version": "1.2.0",
            "grid_template_areas": null,
            "object_position": null,
            "object_fit": null,
            "grid_auto_columns": null,
            "margin": null,
            "display": null,
            "left": null
          }
        },
        "092bf3fcddec473d8cdb8730d6e02135": {
          "model_module": "@jupyter-widgets/controls",
          "model_name": "HBoxModel",
          "state": {
            "_view_name": "HBoxView",
            "_dom_classes": [],
            "_model_name": "HBoxModel",
            "_view_module": "@jupyter-widgets/controls",
            "_model_module_version": "1.5.0",
            "_view_count": null,
            "_view_module_version": "1.5.0",
            "box_style": "",
            "layout": "IPY_MODEL_774706d8023a4cdaa9813b214018cc79",
            "_model_module": "@jupyter-widgets/controls",
            "children": [
              "IPY_MODEL_c6ee05810d47402386e32a2b0ecff68a",
              "IPY_MODEL_b9e32ffb61f9465aac210d51bff6bd93"
            ]
          }
        },
        "774706d8023a4cdaa9813b214018cc79": {
          "model_module": "@jupyter-widgets/base",
          "model_name": "LayoutModel",
          "state": {
            "_view_name": "LayoutView",
            "grid_template_rows": null,
            "right": null,
            "justify_content": null,
            "_view_module": "@jupyter-widgets/base",
            "overflow": null,
            "_model_module_version": "1.2.0",
            "_view_count": null,
            "flex_flow": null,
            "width": null,
            "min_width": null,
            "border": null,
            "align_items": null,
            "bottom": null,
            "_model_module": "@jupyter-widgets/base",
            "top": null,
            "grid_column": null,
            "overflow_y": null,
            "overflow_x": null,
            "grid_auto_flow": null,
            "grid_area": null,
            "grid_template_columns": null,
            "flex": null,
            "_model_name": "LayoutModel",
            "justify_items": null,
            "grid_row": null,
            "max_height": null,
            "align_content": null,
            "visibility": null,
            "align_self": null,
            "height": null,
            "min_height": null,
            "padding": null,
            "grid_auto_rows": null,
            "grid_gap": null,
            "max_width": null,
            "order": null,
            "_view_module_version": "1.2.0",
            "grid_template_areas": null,
            "object_position": null,
            "object_fit": null,
            "grid_auto_columns": null,
            "margin": null,
            "display": null,
            "left": null
          }
        },
        "c6ee05810d47402386e32a2b0ecff68a": {
          "model_module": "@jupyter-widgets/controls",
          "model_name": "FloatProgressModel",
          "state": {
            "_view_name": "ProgressView",
            "style": "IPY_MODEL_f161e4f4f5744ea5bdb3ad810b133f94",
            "_dom_classes": [],
            "description": "epoch:   0%",
            "_model_name": "FloatProgressModel",
            "bar_style": "danger",
            "max": 1,
            "_view_module": "@jupyter-widgets/controls",
            "_model_module_version": "1.5.0",
            "value": 0,
            "_view_count": null,
            "_view_module_version": "1.5.0",
            "orientation": "horizontal",
            "min": 0,
            "description_tooltip": null,
            "_model_module": "@jupyter-widgets/controls",
            "layout": "IPY_MODEL_fd287b331db84f95aeb6ff78159a9526"
          }
        },
        "b9e32ffb61f9465aac210d51bff6bd93": {
          "model_module": "@jupyter-widgets/controls",
          "model_name": "HTMLModel",
          "state": {
            "_view_name": "HTMLView",
            "style": "IPY_MODEL_b1b7536ca57e4e5783e2e1590fe5a804",
            "_dom_classes": [],
            "description": "",
            "_model_name": "HTMLModel",
            "placeholder": "​",
            "_view_module": "@jupyter-widgets/controls",
            "_model_module_version": "1.5.0",
            "value": " 0/1 [00:20&lt;?, ?it/s, epoch loss=nan]",
            "_view_count": null,
            "_view_module_version": "1.5.0",
            "description_tooltip": null,
            "_model_module": "@jupyter-widgets/controls",
            "layout": "IPY_MODEL_10f5d0aaaf1b4239b913faabd31c9a96"
          }
        },
        "f161e4f4f5744ea5bdb3ad810b133f94": {
          "model_module": "@jupyter-widgets/controls",
          "model_name": "ProgressStyleModel",
          "state": {
            "_view_name": "StyleView",
            "_model_name": "ProgressStyleModel",
            "description_width": "initial",
            "_view_module": "@jupyter-widgets/base",
            "_model_module_version": "1.5.0",
            "_view_count": null,
            "_view_module_version": "1.2.0",
            "bar_color": null,
            "_model_module": "@jupyter-widgets/controls"
          }
        },
        "fd287b331db84f95aeb6ff78159a9526": {
          "model_module": "@jupyter-widgets/base",
          "model_name": "LayoutModel",
          "state": {
            "_view_name": "LayoutView",
            "grid_template_rows": null,
            "right": null,
            "justify_content": null,
            "_view_module": "@jupyter-widgets/base",
            "overflow": null,
            "_model_module_version": "1.2.0",
            "_view_count": null,
            "flex_flow": null,
            "width": null,
            "min_width": null,
            "border": null,
            "align_items": null,
            "bottom": null,
            "_model_module": "@jupyter-widgets/base",
            "top": null,
            "grid_column": null,
            "overflow_y": null,
            "overflow_x": null,
            "grid_auto_flow": null,
            "grid_area": null,
            "grid_template_columns": null,
            "flex": null,
            "_model_name": "LayoutModel",
            "justify_items": null,
            "grid_row": null,
            "max_height": null,
            "align_content": null,
            "visibility": null,
            "align_self": null,
            "height": null,
            "min_height": null,
            "padding": null,
            "grid_auto_rows": null,
            "grid_gap": null,
            "max_width": null,
            "order": null,
            "_view_module_version": "1.2.0",
            "grid_template_areas": null,
            "object_position": null,
            "object_fit": null,
            "grid_auto_columns": null,
            "margin": null,
            "display": null,
            "left": null
          }
        },
        "b1b7536ca57e4e5783e2e1590fe5a804": {
          "model_module": "@jupyter-widgets/controls",
          "model_name": "DescriptionStyleModel",
          "state": {
            "_view_name": "StyleView",
            "_model_name": "DescriptionStyleModel",
            "description_width": "",
            "_view_module": "@jupyter-widgets/base",
            "_model_module_version": "1.5.0",
            "_view_count": null,
            "_view_module_version": "1.2.0",
            "_model_module": "@jupyter-widgets/controls"
          }
        },
        "10f5d0aaaf1b4239b913faabd31c9a96": {
          "model_module": "@jupyter-widgets/base",
          "model_name": "LayoutModel",
          "state": {
            "_view_name": "LayoutView",
            "grid_template_rows": null,
            "right": null,
            "justify_content": null,
            "_view_module": "@jupyter-widgets/base",
            "overflow": null,
            "_model_module_version": "1.2.0",
            "_view_count": null,
            "flex_flow": null,
            "width": null,
            "min_width": null,
            "border": null,
            "align_items": null,
            "bottom": null,
            "_model_module": "@jupyter-widgets/base",
            "top": null,
            "grid_column": null,
            "overflow_y": null,
            "overflow_x": null,
            "grid_auto_flow": null,
            "grid_area": null,
            "grid_template_columns": null,
            "flex": null,
            "_model_name": "LayoutModel",
            "justify_items": null,
            "grid_row": null,
            "max_height": null,
            "align_content": null,
            "visibility": null,
            "align_self": null,
            "height": null,
            "min_height": null,
            "padding": null,
            "grid_auto_rows": null,
            "grid_gap": null,
            "max_width": null,
            "order": null,
            "_view_module_version": "1.2.0",
            "grid_template_areas": null,
            "object_position": null,
            "object_fit": null,
            "grid_auto_columns": null,
            "margin": null,
            "display": null,
            "left": null
          }
        },
        "f833649a994a47329bb704f2bf4198bc": {
          "model_module": "@jupyter-widgets/controls",
          "model_name": "HBoxModel",
          "state": {
            "_view_name": "HBoxView",
            "_dom_classes": [],
            "_model_name": "HBoxModel",
            "_view_module": "@jupyter-widgets/controls",
            "_model_module_version": "1.5.0",
            "_view_count": null,
            "_view_module_version": "1.5.0",
            "box_style": "",
            "layout": "IPY_MODEL_a2ce38d379484c78ac674dcc63eed00a",
            "_model_module": "@jupyter-widgets/controls",
            "children": [
              "IPY_MODEL_c25b63df0f434d7785fb722aeacddaf0",
              "IPY_MODEL_74de0604f58e4a5a855657cc527e347c"
            ]
          }
        },
        "a2ce38d379484c78ac674dcc63eed00a": {
          "model_module": "@jupyter-widgets/base",
          "model_name": "LayoutModel",
          "state": {
            "_view_name": "LayoutView",
            "grid_template_rows": null,
            "right": null,
            "justify_content": null,
            "_view_module": "@jupyter-widgets/base",
            "overflow": null,
            "_model_module_version": "1.2.0",
            "_view_count": null,
            "flex_flow": null,
            "width": null,
            "min_width": null,
            "border": null,
            "align_items": null,
            "bottom": null,
            "_model_module": "@jupyter-widgets/base",
            "top": null,
            "grid_column": null,
            "overflow_y": null,
            "overflow_x": null,
            "grid_auto_flow": null,
            "grid_area": null,
            "grid_template_columns": null,
            "flex": null,
            "_model_name": "LayoutModel",
            "justify_items": null,
            "grid_row": null,
            "max_height": null,
            "align_content": null,
            "visibility": null,
            "align_self": null,
            "height": null,
            "min_height": null,
            "padding": null,
            "grid_auto_rows": null,
            "grid_gap": null,
            "max_width": null,
            "order": null,
            "_view_module_version": "1.2.0",
            "grid_template_areas": null,
            "object_position": null,
            "object_fit": null,
            "grid_auto_columns": null,
            "margin": null,
            "display": null,
            "left": null
          }
        },
        "c25b63df0f434d7785fb722aeacddaf0": {
          "model_module": "@jupyter-widgets/controls",
          "model_name": "FloatProgressModel",
          "state": {
            "_view_name": "ProgressView",
            "style": "IPY_MODEL_dffc5b5d324f4c50a186406c9cf5bfec",
            "_dom_classes": [],
            "description": "  2%",
            "_model_name": "FloatProgressModel",
            "bar_style": "danger",
            "max": 60000,
            "_view_module": "@jupyter-widgets/controls",
            "_model_module_version": "1.5.0",
            "value": 938,
            "_view_count": null,
            "_view_module_version": "1.5.0",
            "orientation": "horizontal",
            "min": 0,
            "description_tooltip": null,
            "_model_module": "@jupyter-widgets/controls",
            "layout": "IPY_MODEL_b2ad613b23e549788433280d075d8458"
          }
        },
        "74de0604f58e4a5a855657cc527e347c": {
          "model_module": "@jupyter-widgets/controls",
          "model_name": "HTMLModel",
          "state": {
            "_view_name": "HTMLView",
            "style": "IPY_MODEL_17be3c93d2d543ad82439c66701515b1",
            "_dom_classes": [],
            "description": "",
            "_model_name": "HTMLModel",
            "placeholder": "​",
            "_view_module": "@jupyter-widgets/controls",
            "_model_module_version": "1.5.0",
            "value": " 938/60000 [00:20&lt;22:00, 44.73it/s]",
            "_view_count": null,
            "_view_module_version": "1.5.0",
            "description_tooltip": null,
            "_model_module": "@jupyter-widgets/controls",
            "layout": "IPY_MODEL_bcd39cf0dbad4dfaa94f8169fae20d15"
          }
        },
        "dffc5b5d324f4c50a186406c9cf5bfec": {
          "model_module": "@jupyter-widgets/controls",
          "model_name": "ProgressStyleModel",
          "state": {
            "_view_name": "StyleView",
            "_model_name": "ProgressStyleModel",
            "description_width": "initial",
            "_view_module": "@jupyter-widgets/base",
            "_model_module_version": "1.5.0",
            "_view_count": null,
            "_view_module_version": "1.2.0",
            "bar_color": null,
            "_model_module": "@jupyter-widgets/controls"
          }
        },
        "b2ad613b23e549788433280d075d8458": {
          "model_module": "@jupyter-widgets/base",
          "model_name": "LayoutModel",
          "state": {
            "_view_name": "LayoutView",
            "grid_template_rows": null,
            "right": null,
            "justify_content": null,
            "_view_module": "@jupyter-widgets/base",
            "overflow": null,
            "_model_module_version": "1.2.0",
            "_view_count": null,
            "flex_flow": null,
            "width": null,
            "min_width": null,
            "border": null,
            "align_items": null,
            "bottom": null,
            "_model_module": "@jupyter-widgets/base",
            "top": null,
            "grid_column": null,
            "overflow_y": null,
            "overflow_x": null,
            "grid_auto_flow": null,
            "grid_area": null,
            "grid_template_columns": null,
            "flex": null,
            "_model_name": "LayoutModel",
            "justify_items": null,
            "grid_row": null,
            "max_height": null,
            "align_content": null,
            "visibility": null,
            "align_self": null,
            "height": null,
            "min_height": null,
            "padding": null,
            "grid_auto_rows": null,
            "grid_gap": null,
            "max_width": null,
            "order": null,
            "_view_module_version": "1.2.0",
            "grid_template_areas": null,
            "object_position": null,
            "object_fit": null,
            "grid_auto_columns": null,
            "margin": null,
            "display": null,
            "left": null
          }
        },
        "17be3c93d2d543ad82439c66701515b1": {
          "model_module": "@jupyter-widgets/controls",
          "model_name": "DescriptionStyleModel",
          "state": {
            "_view_name": "StyleView",
            "_model_name": "DescriptionStyleModel",
            "description_width": "",
            "_view_module": "@jupyter-widgets/base",
            "_model_module_version": "1.5.0",
            "_view_count": null,
            "_view_module_version": "1.2.0",
            "_model_module": "@jupyter-widgets/controls"
          }
        },
        "bcd39cf0dbad4dfaa94f8169fae20d15": {
          "model_module": "@jupyter-widgets/base",
          "model_name": "LayoutModel",
          "state": {
            "_view_name": "LayoutView",
            "grid_template_rows": null,
            "right": null,
            "justify_content": null,
            "_view_module": "@jupyter-widgets/base",
            "overflow": null,
            "_model_module_version": "1.2.0",
            "_view_count": null,
            "flex_flow": null,
            "width": null,
            "min_width": null,
            "border": null,
            "align_items": null,
            "bottom": null,
            "_model_module": "@jupyter-widgets/base",
            "top": null,
            "grid_column": null,
            "overflow_y": null,
            "overflow_x": null,
            "grid_auto_flow": null,
            "grid_area": null,
            "grid_template_columns": null,
            "flex": null,
            "_model_name": "LayoutModel",
            "justify_items": null,
            "grid_row": null,
            "max_height": null,
            "align_content": null,
            "visibility": null,
            "align_self": null,
            "height": null,
            "min_height": null,
            "padding": null,
            "grid_auto_rows": null,
            "grid_gap": null,
            "max_width": null,
            "order": null,
            "_view_module_version": "1.2.0",
            "grid_template_areas": null,
            "object_position": null,
            "object_fit": null,
            "grid_auto_columns": null,
            "margin": null,
            "display": null,
            "left": null
          }
        }
      }
    }
  },
  "cells": [
    {
      "cell_type": "markdown",
      "metadata": {
        "id": "hf0WGvhDqDUN"
      },
      "source": [
        "# Глубокие Нейронные сети"
      ]
    },
    {
      "cell_type": "markdown",
      "metadata": {
        "id": "s3qWY0M5LA6r"
      },
      "source": [
        "## Библиотеки"
      ]
    },
    {
      "cell_type": "code",
      "metadata": {
        "id": "K2_VhyWeteMB"
      },
      "source": [
        "from copy import deepcopy\n",
        "\n",
        "import matplotlib.pyplot as plt\n",
        "from matplotlib.image import imread\n",
        "from mpl_toolkits import mplot3d\n",
        "from matplotlib import gridspec\n",
        "\n",
        "from tqdm.notebook import tqdm\n",
        "import numpy as np\n",
        "import requests\n",
        "import torch\n",
        "\n",
        "from torchvision import datasets, transforms\n"
      ],
      "execution_count": 2,
      "outputs": []
    },
    {
      "cell_type": "code",
      "metadata": {
        "id": "UCn8xDPhteMB"
      },
      "source": [
        "import warnings\n",
        "warnings.filterwarnings(\"ignore\")"
      ],
      "execution_count": 1,
      "outputs": []
    },
    {
      "cell_type": "markdown",
      "metadata": {
        "id": "h61Q8xrnqDUV"
      },
      "source": [
        "## Зададим устройство исполнения кода (cpu/cuda)"
      ]
    },
    {
      "cell_type": "code",
      "metadata": {
        "colab": {
          "base_uri": "https://localhost:8080/"
        },
        "id": "mkFMQL4RqDUV",
        "outputId": "19c8c682-d2fc-40ac-aaec-aefb3afb6b9f"
      },
      "source": [
        "device = torch.device(\"cuda\" if torch.cuda.is_available() else \"cpu\")\n",
        "device"
      ],
      "execution_count": 3,
      "outputs": [
        {
          "output_type": "execute_result",
          "data": {
            "text/plain": [
              "device(type='cuda')"
            ]
          },
          "metadata": {
            "tags": []
          },
          "execution_count": 3
        }
      ]
    },
    {
      "cell_type": "markdown",
      "metadata": {
        "id": "NkLwyY_dqDUW"
      },
      "source": [
        "## Полезный код для обучения модели"
      ]
    },
    {
      "cell_type": "code",
      "metadata": {
        "id": "ifLgPn2mqDUW"
      },
      "source": [
        "def train_on_batch(model, x_batch, y_batch, optimizer, loss_function):\n",
        "    \"\"\"\n",
        "    x_batch has a shape [batch_size, input_dim]\n",
        "    y_batch has a shape [batch_size]\n",
        "    \"\"\"\n",
        "    model.train()\n",
        "    model.zero_grad()\n",
        "    \n",
        "    output = model(x_batch.to(device))\n",
        "    \n",
        "    loss = loss_function(output, y_batch.to(device))\n",
        "    loss.backward()\n",
        "\n",
        "    optimizer.step()\n",
        "    return loss.cpu().item()"
      ],
      "execution_count": null,
      "outputs": []
    },
    {
      "cell_type": "code",
      "metadata": {
        "id": "T0wLbsf2qDUX"
      },
      "source": [
        "def train_epoch(train_generator, model, loss_function, optimizer, callback = None):\n",
        "    epoch_loss = 0\n",
        "    total = 0\n",
        "    for it, (batch_of_x, batch_of_y) in enumerate(train_generator):\n",
        "        batch_loss = train_on_batch(model, batch_of_x.to(device), batch_of_y.to(device), optimizer, loss_function)\n",
        "        \n",
        "        if callback is not None:\n",
        "            callback(model, batch_loss)\n",
        "            \n",
        "        epoch_loss += batch_loss*len(batch_of_x)\n",
        "        total += len(batch_of_x)\n",
        "    \n",
        "    return epoch_loss/total\n",
        "        "
      ],
      "execution_count": null,
      "outputs": []
    },
    {
      "cell_type": "code",
      "metadata": {
        "id": "xHTvjv9IqDUX"
      },
      "source": [
        "def trainer(count_of_epoch, \n",
        "            batch_size, \n",
        "            dataset,\n",
        "            model, \n",
        "            loss_function,\n",
        "            optimizer,\n",
        "            lr = 0.001,\n",
        "            callback = None):\n",
        "\n",
        "    optima = optimizer(model.parameters(), lr=lr)\n",
        "    \n",
        "    iterations = tqdm(range(count_of_epoch), desc='epoch')\n",
        "    iterations.set_postfix({'train epoch loss': np.nan})\n",
        "    for it in iterations:\n",
        "        batch_generator = tqdm(\n",
        "            torch.utils.data.DataLoader(dataset=dataset, batch_size=batch_size, shuffle=True), \n",
        "            leave=False, total=len(dataset))\n",
        "        \n",
        "        epoch_loss = train_epoch(train_generator=batch_generator, \n",
        "                    model=model, \n",
        "                    loss_function=loss_function, \n",
        "                    optimizer=optima, \n",
        "                    callback=callback)\n",
        "        \n",
        "        iterations.set_postfix({'train epoch loss': epoch_loss})"
      ],
      "execution_count": null,
      "outputs": []
    },
    {
      "cell_type": "markdown",
      "metadata": {
        "id": "jD8a2SnIqDUY"
      },
      "source": [
        "## Сверточная нейронная сеть"
      ]
    },
    {
      "cell_type": "code",
      "metadata": {
        "id": "6tHE1SDRqDUY"
      },
      "source": [
        "class CNN(torch.nn.Module):\n",
        "    @property\n",
        "    def device(self):\n",
        "        for p in self.parameters():\n",
        "            return p.device\n",
        "        \n",
        "    def __init__(self):\n",
        "        super(CNN, self).__init__()\n",
        "        \n",
        "        self.layers = torch.nn.Sequential()\n",
        "        self.layers.add_module('conv1', torch.nn.Conv2d(1, 1*6, kernel_size = 5))\n",
        "        self.layers.add_module('relu1', torch.nn.ReLU())\n",
        "        self.layers.add_module('pool1', torch.nn.MaxPool2d(kernel_size = 2))\n",
        "        self.layers.add_module('conv2', torch.nn.Conv2d(1*6, 1*16, kernel_size = 5))\n",
        "        self.layers.add_module('relu2', torch.nn.ReLU())\n",
        "        self.layers.add_module('pool2', torch.nn.MaxPool2d(kernel_size = 2))\n",
        "        self.layers.add_module('flatten', torch.nn.Flatten())\n",
        "        self.layers.add_module('linear1', torch.nn.Linear(16*4*4, 120))\n",
        "        self.layers.add_module('relu3', torch.nn.ReLU())\n",
        "        self.layers.add_module('linear2', torch.nn.Linear(120, 84))\n",
        "        self.layers.add_module('relu4', torch.nn.ReLU())\n",
        "        self.layers.add_module('linear3', torch.nn.Linear(84, 10))\n",
        "\n",
        "    def forward(self, input):\n",
        "        return self.layers(input)"
      ],
      "execution_count": null,
      "outputs": []
    },
    {
      "cell_type": "markdown",
      "metadata": {
        "id": "-iHDmRZzqDUY"
      },
      "source": [
        "## Выборка"
      ]
    },
    {
      "cell_type": "code",
      "metadata": {
        "colab": {
          "base_uri": "https://localhost:8080/",
          "height": 315,
          "referenced_widgets": [
            "2c4547b37d644d2c875c57afff038685",
            "566af644888d4c6483284fdda45a4816",
            "a05bbbdedf5240bfacad1c6ed5b04113",
            "81712b7b3e8e45ca83d010c7136a503e",
            "e404da1db9ad4e4680ece4e9a113945f",
            "152c86e6af1945b4adb1a733353c5a8c",
            "66268bd7d6f445a591535241132dc877",
            "f626b97c84c842dfb441d77f2d30df99",
            "2b713d4e76d948208c2dbe9940e8f502",
            "3b8002a3c2094ea1b7431db24ec3fa27",
            "e9fc00d2ba874cc985fa6279315d4696",
            "1387ed4731f64bacb5d3c8643574a6ef",
            "7c75e76a26bf46b285d90922e41311c1",
            "dc2ee5503d084185904ce7959f4f3516",
            "e995c832a9c94f3badbbddcbc0cf5055",
            "f2716ee698ab403f965f92dfe6e182b2",
            "d2a90afab4c8473189001452ac9e9130",
            "b197744b57854030ad735acc8bcdcd66",
            "5d5a406e3ca74328958760557e4c50c4",
            "99ab45eb6a4f4f75a48ca45b60a96e75",
            "29119cd7ddde4707bf01372571e5e200",
            "5595b29fbe214304b975f9f7aa663749",
            "dcf50fbe155c4db0b79675b36cf7039a",
            "31312c5c25894ec0a58935b3eec33f05",
            "a33e168651da452198c02dbcb8cf944f",
            "d93ff95820e2497b9f417d33a0f6d119",
            "ee0124c2304b4ebb81ba221f2d642578",
            "1335a4a671544943bd9caa39c26b811a",
            "188cdc427ca8497e9f33d2b8fc552910",
            "2c56a80856904394a14e800da3b994de",
            "8375ab0b444741b492a6543d457a596d",
            "5423fe53dbcf4f89a307ae0c4c21563c"
          ]
        },
        "id": "AxZnfEctqDUZ",
        "outputId": "ba5dd9bb-1a1a-4d6d-da1a-cb37fd696ef6"
      },
      "source": [
        "MNIST_train = datasets.MNIST('./mnist', train=True, download=True, \n",
        "                             transform=transforms.ToTensor())\n",
        "\n",
        "MNIST_test = datasets.MNIST('./mnist', train=False, download=True,\n",
        "                            transform=transforms.ToTensor())"
      ],
      "execution_count": 15,
      "outputs": [
        {
          "output_type": "stream",
          "text": [
            "Downloading http://yann.lecun.com/exdb/mnist/train-images-idx3-ubyte.gz to ./mnist/MNIST/raw/train-images-idx3-ubyte.gz\n"
          ],
          "name": "stdout"
        },
        {
          "output_type": "display_data",
          "data": {
            "application/vnd.jupyter.widget-view+json": {
              "model_id": "2c4547b37d644d2c875c57afff038685",
              "version_minor": 0,
              "version_major": 2
            },
            "text/plain": [
              "HBox(children=(FloatProgress(value=1.0, bar_style='info', max=1.0), HTML(value='')))"
            ]
          },
          "metadata": {
            "tags": []
          }
        },
        {
          "output_type": "stream",
          "text": [
            "Extracting ./mnist/MNIST/raw/train-images-idx3-ubyte.gz to ./mnist/MNIST/raw\n",
            "Downloading http://yann.lecun.com/exdb/mnist/train-labels-idx1-ubyte.gz to ./mnist/MNIST/raw/train-labels-idx1-ubyte.gz\n"
          ],
          "name": "stdout"
        },
        {
          "output_type": "display_data",
          "data": {
            "application/vnd.jupyter.widget-view+json": {
              "model_id": "2b713d4e76d948208c2dbe9940e8f502",
              "version_minor": 0,
              "version_major": 2
            },
            "text/plain": [
              "HBox(children=(FloatProgress(value=1.0, bar_style='info', max=1.0), HTML(value='')))"
            ]
          },
          "metadata": {
            "tags": []
          }
        },
        {
          "output_type": "stream",
          "text": [
            "Extracting ./mnist/MNIST/raw/train-labels-idx1-ubyte.gz to ./mnist/MNIST/raw\n",
            "Downloading http://yann.lecun.com/exdb/mnist/t10k-images-idx3-ubyte.gz to ./mnist/MNIST/raw/t10k-images-idx3-ubyte.gz\n"
          ],
          "name": "stdout"
        },
        {
          "output_type": "display_data",
          "data": {
            "application/vnd.jupyter.widget-view+json": {
              "model_id": "d2a90afab4c8473189001452ac9e9130",
              "version_minor": 0,
              "version_major": 2
            },
            "text/plain": [
              "HBox(children=(FloatProgress(value=1.0, bar_style='info', max=1.0), HTML(value='')))"
            ]
          },
          "metadata": {
            "tags": []
          }
        },
        {
          "output_type": "stream",
          "text": [
            "Extracting ./mnist/MNIST/raw/t10k-images-idx3-ubyte.gz to ./mnist/MNIST/raw\n",
            "Downloading http://yann.lecun.com/exdb/mnist/t10k-labels-idx1-ubyte.gz to ./mnist/MNIST/raw/t10k-labels-idx1-ubyte.gz\n"
          ],
          "name": "stdout"
        },
        {
          "output_type": "display_data",
          "data": {
            "application/vnd.jupyter.widget-view+json": {
              "model_id": "a33e168651da452198c02dbcb8cf944f",
              "version_minor": 0,
              "version_major": 2
            },
            "text/plain": [
              "HBox(children=(FloatProgress(value=1.0, bar_style='info', max=1.0), HTML(value='')))"
            ]
          },
          "metadata": {
            "tags": []
          }
        },
        {
          "output_type": "stream",
          "text": [
            "Extracting ./mnist/MNIST/raw/t10k-labels-idx1-ubyte.gz to ./mnist/MNIST/raw\n",
            "Processing...\n",
            "Done!\n"
          ],
          "name": "stdout"
        }
      ]
    },
    {
      "cell_type": "code",
      "metadata": {
        "id": "0icRsJPzqDUZ",
        "scrolled": true
      },
      "source": [
        "loss_function = torch.nn.CrossEntropyLoss()\n",
        "optimizer = torch.optim.Adam\n",
        "\n",
        "model = CNN()\n",
        "model.to(device)"
      ],
      "execution_count": null,
      "outputs": []
    },
    {
      "cell_type": "code",
      "metadata": {
        "id": "wr0vf0ifqDUa"
      },
      "source": [
        "batch_generator = torch.utils.data.DataLoader(dataset = MNIST_test, \n",
        "                                              batch_size=64)\n",
        "            \n",
        "pred = []\n",
        "real = []\n",
        "test_loss = 0\n",
        "for it, (x_batch, y_batch) in enumerate(batch_generator):\n",
        "    x_batch = x_batch.to(device)\n",
        "    y_batch = y_batch.to(device)\n",
        "\n",
        "    output = model(x_batch)\n",
        "\n",
        "    test_loss += loss_function(output, y_batch).cpu().item()*len(x_batch)\n",
        "\n",
        "    pred.extend(torch.argmax(output, dim=-1).cpu().numpy().tolist())\n",
        "    real.extend(y_batch.cpu().numpy().tolist())\n",
        "\n",
        "test_loss /= len(MNIST_test)\n",
        "\n",
        "print('loss: {}'.format(test_loss))"
      ],
      "execution_count": null,
      "outputs": []
    },
    {
      "cell_type": "code",
      "metadata": {
        "id": "5RYIFh1yqDUa"
      },
      "source": [
        "x = x_batch[-10:]\n",
        "y = model.layers.conv1(x)\n",
        "z = model.layers.conv2(model.layers.pool1(model.layers.relu1(y)))\n",
        "\n",
        "fig = plt.figure(figsize=(30, 15))\n",
        "gs = gridspec.GridSpec(10, 23)\n",
        "ax = np.empty([10, 23], dtype=object)\n",
        "for i in range(10):\n",
        "    for j in range(23):\n",
        "        ax[i][j] = fig.add_subplot(gs[i, j])\n",
        "for i in range(len(x)):\n",
        "    ax[i][0].imshow(x.cpu().data[i, 0].numpy())\n",
        "    ax[i][0].axis(\"off\")\n",
        "    for j in range(1, 7):\n",
        "        ax[i][j].imshow(y.cpu().data[i, j-1].numpy())\n",
        "        ax[i][j].axis(\"off\")\n",
        "\n",
        "    for j in range(7, 23):\n",
        "        ax[i][j].imshow(z.cpu().data[i, j-7].numpy())\n",
        "        ax[i][j].axis(\"off\")"
      ],
      "execution_count": null,
      "outputs": []
    },
    {
      "cell_type": "code",
      "metadata": {
        "id": "-eUVlo2bqDUb"
      },
      "source": [
        "trainer(count_of_epoch = 1,\n",
        "        batch_size = 64,\n",
        "        dataset = MNIST_train,\n",
        "        model = model,\n",
        "        loss_function = loss_function,\n",
        "        optimizer = optimizer,\n",
        "        lr = 0.001,\n",
        "        callback = None)"
      ],
      "execution_count": null,
      "outputs": []
    },
    {
      "cell_type": "code",
      "metadata": {
        "id": "BQE5mGppqDUc"
      },
      "source": [
        "batch_generator = torch.utils.data.DataLoader(dataset = MNIST_test, \n",
        "                                              batch_size=64)\n",
        "            \n",
        "pred = []\n",
        "real = []\n",
        "test_loss = 0\n",
        "for it, (x_batch, y_batch) in enumerate(batch_generator):\n",
        "    x_batch = x_batch.to(device)\n",
        "    y_batch = y_batch.to(device)\n",
        "\n",
        "    output = model(x_batch)\n",
        "\n",
        "    test_loss += loss_function(output, y_batch).cpu().item()*len(x_batch)\n",
        "\n",
        "    pred.extend(torch.argmax(output, dim=-1).cpu().numpy().tolist())\n",
        "    real.extend(y_batch.cpu().numpy().tolist())\n",
        "\n",
        "test_loss /= len(MNIST_test)\n",
        "\n",
        "print('loss: {}'.format(test_loss))"
      ],
      "execution_count": null,
      "outputs": []
    },
    {
      "cell_type": "code",
      "metadata": {
        "id": "fAOp6NbDqDUc"
      },
      "source": [
        "x = x_batch[-10:]\n",
        "y = model.layers.conv1(x)\n",
        "z = model.layers.conv2(model.layers.pool1(model.layers.relu1(y)))\n",
        "\n",
        "fig = plt.figure(figsize=(30, 15))\n",
        "gs = gridspec.GridSpec(10, 23)\n",
        "ax = np.empty([10, 23], dtype=object)\n",
        "for i in range(10):\n",
        "    for j in range(23):\n",
        "        ax[i][j] = fig.add_subplot(gs[i, j])\n",
        "for i in range(len(x)):\n",
        "    ax[i][0].imshow(x.cpu().data[i, 0].numpy())\n",
        "    ax[i][0].axis(\"off\")\n",
        "    for j in range(1, 7):\n",
        "        ax[i][j].imshow(y.cpu().data[i, j-1].numpy())\n",
        "        ax[i][j].axis(\"off\")\n",
        "\n",
        "    for j in range(7, 23):\n",
        "        ax[i][j].imshow(z.cpu().data[i, j-7].numpy())\n",
        "        ax[i][j].axis(\"off\")"
      ],
      "execution_count": null,
      "outputs": []
    },
    {
      "cell_type": "markdown",
      "metadata": {
        "id": "8rh0dr4tqDUc"
      },
      "source": [
        "## Рекурентная нейронная сеть (seq2seq архитектура) "
      ]
    },
    {
      "cell_type": "code",
      "metadata": {
        "id": "cHykQdETqDUd"
      },
      "source": [
        "class Encoder(torch.nn.Module):\n",
        "    r'''\n",
        "    Модель энкодера предложения.\n",
        "    '''\n",
        "    @property\n",
        "    def device(self):\n",
        "        return next(self.parameters()).device\n",
        "        \n",
        "    def __init__(self,\n",
        "                 vocab_dim,\n",
        "                 emb_dim = 10, \n",
        "                 hidden_dim = 10,\n",
        "                 num_layers = 3,\n",
        "                 bidirectional = False):\n",
        "        super(Encoder, self).__init__()\n",
        "        \n",
        "        self.num_direction = int(bidirectional + 1)\n",
        "        self.emb_dim = emb_dim\n",
        "        self.hidden_dim = hidden_dim\n",
        "\n",
        "        self.embedding = torch.nn.Embedding(vocab_dim, emb_dim)\n",
        "\n",
        "        self.encoder = torch.nn.LSTM(\n",
        "            emb_dim, hidden_dim, num_layers, bidirectional = bidirectional)\n",
        "        \n",
        "    def forward(self, input):\n",
        "        r'''\n",
        "        Возвращает скрытые состояния всех токенов d, \n",
        "            а также скрытые состояния со всех слоев для последнего токена (h, c).\n",
        "        :param input:\n",
        "            тензор размера batch_size \\times seq_len \\times emb_dim\n",
        "        :type input: tensor\n",
        "        '''\n",
        "        input = self.embedding(input)\n",
        "        input = torch.transpose(input, 0, 1)\n",
        "        d, (h, c) = self.encoder(input)\n",
        "        return d, torch.transpose(h, 0, 1) , torch.transpose(c, 0, 1)\n"
      ],
      "execution_count": null,
      "outputs": []
    },
    {
      "cell_type": "code",
      "metadata": {
        "id": "9ZlLDdTUqDUd"
      },
      "source": [
        "class Decoder(torch.nn.Module):\n",
        "    r'''\n",
        "    Модель декодера (генератора) предложения.\n",
        "    '''\n",
        "    @property\n",
        "    def device(self):\n",
        "        return next(self.parameters()).device\n",
        "\n",
        "    def __init__(self,\n",
        "                 vocab_dim,\n",
        "                 output_dim,\n",
        "                 emb_dim = 10, \n",
        "                 hidden_dim = 10,\n",
        "                 num_layers = 3,\n",
        "                 bidirectional = False):\n",
        "        super(Decoder, self).__init__()\n",
        "        \n",
        "        self.num_direction = int(bidirectional + 1)\n",
        "        self.emb_dim = emb_dim\n",
        "        self.hidden_dim = hidden_dim\n",
        "        self.output_dim = output_dim\n",
        "        self.num_layers = num_layers\n",
        "\n",
        "        self.embedding = torch.nn.Embedding(vocab_dim, self.emb_dim)\n",
        "\n",
        "        self.decoder = torch.nn.LSTM(\n",
        "            emb_dim, hidden_dim, num_layers, bidirectional = bidirectional)\n",
        "\n",
        "        self.linear = torch.nn.Linear(\n",
        "            self.num_direction*hidden_dim, output_dim)\n",
        "\n",
        "    def forward(self, real=None, h = None, c = None, max_len = 50):\n",
        "        r'''\n",
        "        :param real: нужен только для обучения\n",
        "            тензор размера batch_size \\times seq_len \\times emb_dim\n",
        "        :type real: tensor\n",
        "        :param h: скрытое состояния, если не задано, то генерится случайное\n",
        "            тензор размера batch_size \\times num_layer \\times hidden_dim*num_direction\n",
        "        :type h: tensor\n",
        "        :param c: скрытое состояния, если не задано, то генерится случайное\n",
        "            тензор размера batch_size \\times num_layer \\times hidden_dim*num_direction\n",
        "        :type c: tensor\n",
        "        :param max_len: сколько символов сгенерить\n",
        "        :type max_len: int\n",
        "        '''\n",
        "        batch_size = 1\n",
        "        if h is not None:\n",
        "            batch_size = h.shape[0]\n",
        "        if c is not None:\n",
        "            batch_size = c.shape[0]\n",
        "        if real is not None:\n",
        "            batch_size = real.shape[0]\n",
        "\n",
        "\n",
        "        if real is not None:\n",
        "            input = self.embedding(real)\n",
        "\n",
        "            if h is None:\n",
        "                h = torch.randn(\n",
        "                    (batch_size, self.num_layers, self.num_direction*self.hidden_dim)).to(\n",
        "                        self.device\n",
        "                    )\n",
        "            if c is None:\n",
        "                c = torch.randn(\n",
        "                    (batch_size, self.num_layers, self.num_direction*self.hidden_dim)).to(\n",
        "                        self.device\n",
        "                    )\n",
        "\n",
        "            input = torch.transpose(input, 0, 1)\n",
        "            h = torch.transpose(h, 0, 1)\n",
        "            c = torch.transpose(c, 0, 1)\n",
        "            d, _ = self.decoder(input, (h, c))\n",
        "            answers = self.linear(d)\n",
        "        else:\n",
        "            input = self.embedding(\n",
        "                torch.tensor(\n",
        "                    [[char2idx['<START>']] for _ in range(\n",
        "                        batch_size)]).long().to(\n",
        "                        self.device\n",
        "                    )\n",
        "                )\n",
        "\n",
        "            if h is None:\n",
        "                h = torch.randn(\n",
        "                    (batch_size, self.num_layers, self.num_direction*self.hidden_dim)).to(\n",
        "                        self.device\n",
        "                    )\n",
        "            if c is None:\n",
        "                c = torch.randn(\n",
        "                    (batch_size, self.num_layers, self.num_direction*self.hidden_dim)).to(\n",
        "                        self.device\n",
        "                    )\n",
        "\n",
        "            input = torch.transpose(input, 0, 1)\n",
        "            h = torch.transpose(h, 0, 1)\n",
        "            c = torch.transpose(c, 0, 1)\n",
        "\n",
        "            answers = torch.zeros(\n",
        "                (max_len, input.shape[1], self.output_dim)).to(\n",
        "                    self.device)\n",
        "                \n",
        "            for i in range(max_len):\n",
        "                d, (h, c) = self.decoder(input, (h, c))\n",
        "                answers[i, :, :] = self.linear(d)[0]\n",
        "                input = self.embedding(\n",
        "                    torch.argmax(answers[i:i+1, :, :], dim=-1))\n",
        "\n",
        "        return torch.transpose(answers, 0, 1)"
      ],
      "execution_count": null,
      "outputs": []
    },
    {
      "cell_type": "code",
      "metadata": {
        "id": "dbVvmM0mqDUe"
      },
      "source": [
        "def batch_generator(dataset, char2idx, batch_size=64, shuffle=True):\n",
        "    X, Y = dataset[:-1], dataset[1:]\n",
        "    \n",
        "    PAD = char2idx['<PAD>']\n",
        "    n_samples = len(X)\n",
        "\n",
        "# генерим список индексов\n",
        "    list_of_indexes = np.linspace(\n",
        "        0, n_samples - 1, n_samples, dtype=np.int64)\n",
        "    List_X = []\n",
        "    List_Y = []\n",
        "    \n",
        "# если нужно перемешать, то перемешиваем\n",
        "    if shuffle:\n",
        "        np.random.shuffle(list_of_indexes)\n",
        "        \n",
        "\n",
        "# сгенерировал список индексов, по этим индексам, \n",
        "# сделаем новый перемешаный спиисок токенов и тэгов\n",
        "    for indx in list_of_indexes:\n",
        "        List_X.append(X[indx])\n",
        "        List_Y.append(Y[indx])\n",
        "    \n",
        "    n_batches = n_samples//batch_size\n",
        "    if n_samples%batch_size != 0:\n",
        "        n_batches+=1\n",
        "        \n",
        "    # For each k yield pair x and y\n",
        "    for k in range(n_batches):\n",
        "# указываем текущии размер батча\n",
        "        this_batch_size = batch_size\n",
        "    \n",
        "# если мы выдаем последний батч, то его нужно обрезать\n",
        "        if k == n_batches - 1:\n",
        "            if n_samples%batch_size > 0:\n",
        "                this_batch_size = n_samples%batch_size\n",
        "                \n",
        "        This_X = List_X[k*batch_size:k*batch_size + this_batch_size]\n",
        "        This_Y = List_Y[k*batch_size:k*batch_size + this_batch_size]\n",
        "        \n",
        "        This_X_line = [\n",
        "                       [char2idx.get(char, 0) for char in sent]\\\n",
        "                       for sent in This_X]\n",
        "        This_Y_line = [\n",
        "                       [char2idx.get('<START>', 0)]\\\n",
        "                       + [char2idx.get(char, 0) for char in sent]\\\n",
        "                       + [char2idx.get('<FINISH>', 0)]\\\n",
        "                       for sent in This_Y]\n",
        "\n",
        "        List_of_length_x = [len(sent) for sent in This_X_line]\n",
        "        length_of_sentence_x = max(List_of_length_x)\n",
        "        List_of_length_y = [len(sent) for sent in This_Y_line]\n",
        "        length_of_sentence_y = max(List_of_length_y)\n",
        "\n",
        "        x_arr = np.ones(shape=[this_batch_size, length_of_sentence_x])*PAD\n",
        "        y_arr = np.ones(shape=[this_batch_size, length_of_sentence_y])*PAD\n",
        "\n",
        "        for i in range(this_batch_size):\n",
        "            x_arr[i, :len(This_X_line[i])] = This_X_line[i]\n",
        "            y_arr[i, :len(This_Y_line[i])] = This_Y_line[i]\n",
        "\n",
        "        x = torch.LongTensor(x_arr)\n",
        "        y = torch.LongTensor(y_arr)\n",
        "        lengths = torch.LongTensor(List_of_length_x)\n",
        "\n",
        "        yield x, y"
      ],
      "execution_count": null,
      "outputs": []
    },
    {
      "cell_type": "code",
      "metadata": {
        "id": "yJbyhRfzqDUe"
      },
      "source": [
        "def train_on_batch(model, batch_of_x, batch_of_y, optimizer, loss_function):\n",
        "    encoder, decoder = model\n",
        "    encoder.train()\n",
        "    decoder.train()\n",
        "    encoder.zero_grad()\n",
        "    decoder.zero_grad()\n",
        "    \n",
        "    d, h, c = encoder(batch_of_x.to(encoder.device))\n",
        "    output = decoder(\n",
        "        batch_of_y.to(decoder.device), \n",
        "        h=h.to(decoder.device)[:, -decoder.num_layers:, :], \n",
        "        c=c.to(decoder.device)[:, -decoder.num_layers:, :])\n",
        "\n",
        "    loss = loss_function(output[:, :-1, :].transpose(1, 2), batch_of_y.to(decoder.device)[:, 1:])\n",
        "    \n",
        "    loss.backward()\n",
        "    optimizer.step()\n",
        "    \n",
        "    return loss.cpu().item()"
      ],
      "execution_count": null,
      "outputs": []
    },
    {
      "cell_type": "code",
      "metadata": {
        "id": "fdci60aaqDUe"
      },
      "source": [
        "def train_epoch(train_generator, model, loss_function, optimizer):\n",
        "    epoch_loss = 0\n",
        "    total = 0\n",
        "    for it, (batch_of_x, batch_of_y) in enumerate(train_generator):\n",
        "        local_loss = train_on_batch(\n",
        "            model, batch_of_x, batch_of_y, optimizer, loss_function)\n",
        "        train_generator.set_postfix({'train batch loss': local_loss})\n",
        "\n",
        "        epoch_loss += local_loss*len(batch_of_x)\n",
        "        total += len(batch_of_x)\n",
        "    \n",
        "    return epoch_loss/total"
      ],
      "execution_count": null,
      "outputs": []
    },
    {
      "cell_type": "code",
      "metadata": {
        "id": "1k43LkCVqDUf"
      },
      "source": [
        "def trainer(count_of_epoch, \n",
        "            batch_size,\n",
        "            model,\n",
        "            dataset,\n",
        "            char2idx,\n",
        "            loss_function,\n",
        "            optimizer,):\n",
        "    iterations = tqdm(range(count_of_epoch))\n",
        "\n",
        "    for it in iterations:\n",
        "        optima = optimizer\n",
        "\n",
        "        number_of_batch = len(dataset)//batch_size + (len(dataset)%batch_size>0)\n",
        "        generator = tqdm(\n",
        "            batch_generator(dataset, char2idx, batch_size), \n",
        "            leave=False, total=number_of_batch)\n",
        "        \n",
        "        epoch_loss = train_epoch(\n",
        "            train_generator = generator, model = model, \n",
        "            loss_function = loss_function, \n",
        "            optimizer = optima)\n",
        "        \n",
        "        encoder, decoder = model\n",
        "        encoder.eval()\n",
        "        decoder.eval()\n",
        "        \n",
        "        sent = dataset[5].lower()\n",
        "        x = torch.LongTensor([[char2idx[char] for char in sent]]).to(device)\n",
        "        d, h, c = encoder(x)\n",
        "\n",
        "        result =''.join(\n",
        "          [idx2char[index] for index in torch.argmax(\n",
        "              decoder(\n",
        "                  h=torch.zeros_like(h[:, -decoder.num_layers:, :]).float(), \n",
        "                  c=torch.zeros_like(h[:, -decoder.num_layers:, :]).float(), \n",
        "                  max_len=30), dim=-1).detach().cpu().numpy()[0]])\n",
        "\n",
        "        iterations.set_postfix({'train epoch loss': epoch_loss, \n",
        "                                'example': result})"
      ],
      "execution_count": null,
      "outputs": []
    },
    {
      "cell_type": "code",
      "metadata": {
        "id": "vAM9RmjAqDUf"
      },
      "source": [
        "text = requests.get(\n",
        "    'https://raw.githubusercontent.com/andriygav/MachineLearning/master/seq2seq/data/602016.txt').text"
      ],
      "execution_count": null,
      "outputs": []
    },
    {
      "cell_type": "code",
      "metadata": {
        "id": "UtgW1ExSqDUf"
      },
      "source": [
        "char2idx = {'<PAD>':0, '<UNK>': 1, '<START>': 2, '<FINISH>': 3}\n",
        "idx2char = {0: '<PAD>', 1: '<UNK>', 2: '<START>', 3: '<FINISH>'}\n",
        "for item in list(set(text)):\n",
        "    char2idx[item] = len(char2idx)\n",
        "    idx2char[char2idx[item]] = item"
      ],
      "execution_count": null,
      "outputs": []
    },
    {
      "cell_type": "code",
      "metadata": {
        "id": "8J_D3vo8qDUf"
      },
      "source": [
        "dataset = [sent.strip() for sent in text.split('\\n') if len(sent.strip()) > 20 and len(sent.strip()) < 300 ]\n",
        "\n",
        "len(dataset)"
      ],
      "execution_count": null,
      "outputs": []
    },
    {
      "cell_type": "code",
      "metadata": {
        "id": "ePn7fVdCqDUf"
      },
      "source": [
        "encoder = Encoder(vocab_dim=len(char2idx), \n",
        "                  num_layers=2, emb_dim=100, hidden_dim=100)\n",
        "encoder.to(device)\n",
        "decoder = Decoder(vocab_dim=len(char2idx), \n",
        "                  output_dim=len(char2idx), num_layers=2, emb_dim=100, hidden_dim=100)\n",
        "decoder.to(device)\n",
        "\n",
        "optimizer = torch.optim.Adam(\n",
        "    list(encoder.parameters()) + list(decoder.parameters()), lr=1e-3)\n",
        "loss_function = torch.nn.CrossEntropyLoss(ignore_index=char2idx['<PAD>'])"
      ],
      "execution_count": null,
      "outputs": []
    },
    {
      "cell_type": "code",
      "metadata": {
        "id": "2A7wODAGq-lQ"
      },
      "source": [
        "for _ in range(10):\n",
        "    indexes = torch.argmax(\n",
        "        decoder(max_len=100,\n",
        "                h=0.1*torch.randn(\n",
        "                    (1, decoder.num_layers, decoder.num_direction*decoder.hidden_dim)).to(\n",
        "                        decoder.device\n",
        "                ), \n",
        "                c=torch.randn(\n",
        "                    (1, decoder.num_layers, decoder.num_direction*decoder.hidden_dim)).to(\n",
        "                    decoder.device\n",
        "                )), dim=-1).detach().cpu().numpy()[0]\n",
        "    list_of_char = []\n",
        "    for idx in indexes:\n",
        "        if idx == char2idx['<FINISH>']:\n",
        "            break\n",
        "        list_of_char.append(idx2char[idx])\n",
        "    print(''.join(list_of_char))"
      ],
      "execution_count": null,
      "outputs": []
    },
    {
      "cell_type": "code",
      "metadata": {
        "id": "IIH2giImqDUg"
      },
      "source": [
        "trainer(count_of_epoch = 10,\n",
        "        batch_size = 64,\n",
        "        model = (encoder, decoder),\n",
        "        dataset = dataset, \n",
        "        char2idx = char2idx,\n",
        "        loss_function = loss_function,\n",
        "        optimizer = optimizer)"
      ],
      "execution_count": null,
      "outputs": []
    },
    {
      "cell_type": "code",
      "metadata": {
        "id": "Ed8nkY5dqDUg"
      },
      "source": [
        "for _ in range(10):\n",
        "    indexes = torch.argmax(\n",
        "        decoder(max_len=100,\n",
        "                h=0.1*torch.randn(\n",
        "                    (1, decoder.num_layers, decoder.num_direction*decoder.hidden_dim)).to(\n",
        "                        decoder.device\n",
        "                ), \n",
        "                c=torch.randn(\n",
        "                    (1, decoder.num_layers, decoder.num_direction*decoder.hidden_dim)).to(\n",
        "                    decoder.device\n",
        "                )), dim=-1).detach().cpu().numpy()[0]\n",
        "    list_of_char = []\n",
        "    for idx in indexes:\n",
        "        if idx == char2idx['<FINISH>']:\n",
        "            break\n",
        "        list_of_char.append(idx2char[idx])\n",
        "    print(''.join(list_of_char))"
      ],
      "execution_count": null,
      "outputs": []
    },
    {
      "cell_type": "markdown",
      "metadata": {
        "id": "V1COxOqzrHds"
      },
      "source": [
        "## Генеративно состязательные сети"
      ]
    },
    {
      "cell_type": "code",
      "metadata": {
        "id": "CCukR2naTmwH"
      },
      "source": [
        "class Reshape(torch.nn.Module):\n",
        "    @property\n",
        "    def device(self):\n",
        "        return next(self.parameters()).device\n",
        "\n",
        "    def __init__(self, *args):\n",
        "        super(type(self), self).__init__()\n",
        "        self.dims = args\n",
        "\n",
        "    def forward(self, input):\n",
        "        return input.view(input.size(0), *self.dims)\n",
        "\n",
        "class GAN(torch.nn.Module):\n",
        "    @property\n",
        "    def device(self):\n",
        "        return next(self.parameters()).device\n",
        "\n",
        "    def __init__(self, d, D):\n",
        "        super(type(self), self).__init__()\n",
        "        self.d = d\n",
        "        self.discriminator = torch.nn.Sequential(\n",
        "            Reshape(1, D, D),\n",
        "            torch.nn.Conv2d(in_channels=1, out_channels=64, kernel_size=3, stride=2, padding=1, bias=False),\n",
        "            torch.nn.BatchNorm2d(num_features=64),\n",
        "            torch.nn.LeakyReLU(negative_slope=0.2),\n",
        "            torch.nn.Conv2d(in_channels=64, out_channels=32, kernel_size=3, stride=2, padding=0, bias=False),\n",
        "            torch.nn.BatchNorm2d(num_features=32),\n",
        "            torch.nn.LeakyReLU(negative_slope=0.2),\n",
        "            torch.nn.Conv2d(in_channels=32, out_channels=16, kernel_size=3, stride=1, padding=0, bias=False),\n",
        "            torch.nn.BatchNorm2d(num_features=16),\n",
        "            torch.nn.LeakyReLU(negative_slope=0.2),\n",
        "            Reshape(-1),\n",
        "            torch.nn.Linear(in_features=256, out_features=1),\n",
        "            torch.nn.Sigmoid()\n",
        "        )\n",
        "        self.generator = torch.nn.Sequential(\n",
        "            Reshape(self.d, 1, 1),\n",
        "            torch.nn.ConvTranspose2d(self.d, 128, 4, 1, 0, 0, bias=False),\n",
        "            torch.nn.BatchNorm2d(128),\n",
        "            torch.nn.ReLU(),\n",
        "            torch.nn.ConvTranspose2d(128, 64, 3, 2, 1, 0, bias=False),\n",
        "            torch.nn.BatchNorm2d(64),\n",
        "            torch.nn.ReLU(),\n",
        "            torch.nn.ConvTranspose2d(64, 32, 3, 2, 1, 1, bias=False),\n",
        "            torch.nn.BatchNorm2d(32),\n",
        "            torch.nn.ReLU(),\n",
        "            torch.nn.ConvTranspose2d(32, 1, 4, 2, 1, 0, bias=False),\n",
        "            Reshape(-1),\n",
        "            torch.nn.Sigmoid()\n",
        "        )\n",
        "\n",
        "    def generate_noise(self, num_samples):\n",
        "        z = torch.randn([num_samples, self.d], requires_grad=True)\n",
        "        if next(self.parameters()).is_cuda:\n",
        "            z = z.cuda()\n",
        "        return z\n",
        "\n",
        "    def generate_samples(self, num_samples):\n",
        "        return self.generator(self.generate_noise(num_samples))\n",
        "\n",
        "    def discriminator_loss(self, batch):\n",
        "        loss = torch.nn.BCELoss()\n",
        "        \n",
        "        batch_size = batch.shape[0]\n",
        "        \n",
        "        fake_batch = self.discriminator(self.generate_samples(batch_size).detach())\n",
        "        real_batch = self.discriminator(batch)\n",
        "        \n",
        "        if batch.is_cuda:\n",
        "            fake_answ = torch.zeros(batch_size, 1).cuda()\n",
        "            real_answ = torch.ones(batch.shape[0], 1).cuda()\n",
        "        else:\n",
        "            fake_answ = torch.zeros(batch_size, 1)\n",
        "            real_answ = torch.ones(batch.shape[0], 1)\n",
        "        \n",
        "        return 0.5*loss(fake_batch, fake_answ) + 0.5*loss(real_batch, real_answ)\n",
        "\n",
        "    def generator_loss(self, batch_size):\n",
        "        loss = torch.nn.BCELoss()\n",
        "        \n",
        "        fake_batch = self.discriminator(self.generate_samples(batch_size))\n",
        "        \n",
        "        if fake_batch.is_cuda:\n",
        "            real_answ = torch.ones(batch_size, 1).cuda()\n",
        "        else:\n",
        "            real_answ = torch.ones(batch_size, 1)\n",
        "            \n",
        "        return loss(fake_batch, real_answ)\n",
        "    \n",
        "    def init_weight(self, mean, std):\n",
        "        for m in self._modules:\n",
        "            normal_init(self._modules[m], mean, std)\n",
        "\n",
        "    @staticmethod\n",
        "    def _normal_init(m, mean, std):\n",
        "        if isinstance(m, nn.ConvTranspose2d) or isinstance(m, nn.Conv2d):\n",
        "            m.weight.data.normal_(mean, std)\n",
        "            m.bias.data.zero_()\n"
      ],
      "execution_count": 4,
      "outputs": []
    },
    {
      "cell_type": "code",
      "metadata": {
        "id": "0UiLjhK2TmwH"
      },
      "source": [
        "def train_on_batch(model, x_batch, y_batch, optimizer, loss_function):\n",
        "    \"\"\"\n",
        "    x_batch has a shape [batch_size, input_dim]\n",
        "    y_batch has a shape [batch_size]\n",
        "    \"\"\"\n",
        "    optima_generator, optima_discriminator = optimizer\n",
        "    \n",
        "    optima_generator.zero_grad()\n",
        "    optima_discriminator.zero_grad()\n",
        "    discriminator_loss = model.discriminator_loss(x_batch)\n",
        "    discriminator_loss.backward()\n",
        "    optima_discriminator.step()\n",
        "\n",
        "    optima_generator.zero_grad()\n",
        "    optima_discriminator.zero_grad()\n",
        "    generator_loss = model.generator_loss(len(x_batch))\n",
        "    generator_loss.backward()\n",
        "    optima_generator.step()\n",
        "    \n",
        "    return discriminator_loss.cpu().item()+generator_loss.cpu().item()"
      ],
      "execution_count": 5,
      "outputs": []
    },
    {
      "cell_type": "code",
      "metadata": {
        "id": "e9zK81LZTmwH"
      },
      "source": [
        "def train_epoch(train_generator, model, loss_function, optimizer, callback = None):\n",
        "    epoch_loss = 0\n",
        "    total = 0\n",
        "    for it, (batch_of_x, batch_of_y) in enumerate(train_generator):\n",
        "        batch_loss = train_on_batch(model, batch_of_x.to(model.device), batch_of_y.to(model.device), optimizer, loss_function)\n",
        "        \n",
        "        if callback is not None:\n",
        "            callback(model, batch_loss)\n",
        "            \n",
        "        epoch_loss += batch_loss*len(batch_of_x)\n",
        "        total += len(batch_of_x)\n",
        "    \n",
        "    return epoch_loss/total\n",
        "        "
      ],
      "execution_count": 6,
      "outputs": []
    },
    {
      "cell_type": "code",
      "metadata": {
        "id": "Eub4ku9lTmwH"
      },
      "source": [
        "def trainer(count_of_epoch, \n",
        "            batch_size, \n",
        "            dataset,\n",
        "            model, \n",
        "            loss_function,\n",
        "            optimizer,\n",
        "            lr = 0.001,\n",
        "            callback = None):\n",
        "\n",
        "    optima_generator = optimizer(model.generator.parameters(), lr=lr*10, betas=(0.5, 0.999))\n",
        "    optima_discriminator = optimizer(model.discriminator.parameters(), lr=lr, betas=(0.5, 0.999))\n",
        "    \n",
        "    iterations = tqdm(range(count_of_epoch), desc='epoch')\n",
        "    iterations.set_postfix({'epoch loss': np.nan})\n",
        "    for it in iterations:        \n",
        "        batch_generator = tqdm(\n",
        "            torch.utils.data.DataLoader(dataset=dataset, batch_size=batch_size, shuffle=True), \n",
        "            leave=False, total=len(dataset))\n",
        "        epoch_loss = train_epoch(\n",
        "            train_generator=batch_generator, \n",
        "            model=model, \n",
        "            loss_function=loss_function, \n",
        "            optimizer=(optima_generator, optima_discriminator), \n",
        "            callback=callback)\n",
        "        \n",
        "        iterations.set_postfix({'epoch loss': epoch_loss})"
      ],
      "execution_count": 7,
      "outputs": []
    },
    {
      "cell_type": "code",
      "metadata": {
        "id": "VUcXGn0JTmwI",
        "outputId": "f6ddc991-4d9a-4a9f-9027-03bef4756f08",
        "colab": {
          "base_uri": "https://localhost:8080/"
        }
      },
      "source": [
        "loss_function = None\n",
        "optimizer = torch.optim.Adam\n",
        "\n",
        "\n",
        "model = GAN(2, 28)\n",
        "model.to(device)"
      ],
      "execution_count": 8,
      "outputs": [
        {
          "output_type": "execute_result",
          "data": {
            "text/plain": [
              "GAN(\n",
              "  (discriminator): Sequential(\n",
              "    (0): Reshape()\n",
              "    (1): Conv2d(1, 64, kernel_size=(3, 3), stride=(2, 2), padding=(1, 1), bias=False)\n",
              "    (2): BatchNorm2d(64, eps=1e-05, momentum=0.1, affine=True, track_running_stats=True)\n",
              "    (3): LeakyReLU(negative_slope=0.2)\n",
              "    (4): Conv2d(64, 32, kernel_size=(3, 3), stride=(2, 2), bias=False)\n",
              "    (5): BatchNorm2d(32, eps=1e-05, momentum=0.1, affine=True, track_running_stats=True)\n",
              "    (6): LeakyReLU(negative_slope=0.2)\n",
              "    (7): Conv2d(32, 16, kernel_size=(3, 3), stride=(1, 1), bias=False)\n",
              "    (8): BatchNorm2d(16, eps=1e-05, momentum=0.1, affine=True, track_running_stats=True)\n",
              "    (9): LeakyReLU(negative_slope=0.2)\n",
              "    (10): Reshape()\n",
              "    (11): Linear(in_features=256, out_features=1, bias=True)\n",
              "    (12): Sigmoid()\n",
              "  )\n",
              "  (generator): Sequential(\n",
              "    (0): Reshape()\n",
              "    (1): ConvTranspose2d(2, 128, kernel_size=(4, 4), stride=(1, 1), bias=False)\n",
              "    (2): BatchNorm2d(128, eps=1e-05, momentum=0.1, affine=True, track_running_stats=True)\n",
              "    (3): ReLU()\n",
              "    (4): ConvTranspose2d(128, 64, kernel_size=(3, 3), stride=(2, 2), padding=(1, 1), bias=False)\n",
              "    (5): BatchNorm2d(64, eps=1e-05, momentum=0.1, affine=True, track_running_stats=True)\n",
              "    (6): ReLU()\n",
              "    (7): ConvTranspose2d(64, 32, kernel_size=(3, 3), stride=(2, 2), padding=(1, 1), output_padding=(1, 1), bias=False)\n",
              "    (8): BatchNorm2d(32, eps=1e-05, momentum=0.1, affine=True, track_running_stats=True)\n",
              "    (9): ReLU()\n",
              "    (10): ConvTranspose2d(32, 1, kernel_size=(4, 4), stride=(2, 2), padding=(1, 1), bias=False)\n",
              "    (11): Reshape()\n",
              "    (12): Sigmoid()\n",
              "  )\n",
              ")"
            ]
          },
          "metadata": {
            "tags": []
          },
          "execution_count": 8
        }
      ]
    },
    {
      "cell_type": "code",
      "metadata": {
        "id": "NBR6IpTZUYzm"
      },
      "source": [
        "MNIST_train = datasets.MNIST('./mnist', train=True, download=True, \n",
        "                             transform=transforms.ToTensor())\n",
        "\n",
        "MNIST_test = datasets.MNIST('./mnist', train=False, download=True,\n",
        "                            transform=transforms.ToTensor())"
      ],
      "execution_count": 16,
      "outputs": []
    },
    {
      "cell_type": "code",
      "metadata": {
        "id": "UWs6Ph14TmwI"
      },
      "source": [
        "def show_images(x, digit_size=28):\n",
        "    plt.figure(figsize=(12, 12 / 10 * (x.shape[0] // 10 + 1)))\n",
        "    x = x.view(-1, digit_size, digit_size)\n",
        "    for i in range(x.shape[0]):\n",
        "        plt.subplot(x.shape[0] // 10 + 1, 10, i + 1)\n",
        "        plt.imshow(x.data[i].numpy(), cmap='Greys_r', vmin=0, vmax=1, interpolation='lanczos')\n",
        "        plt.axis('off')"
      ],
      "execution_count": 17,
      "outputs": []
    },
    {
      "cell_type": "code",
      "metadata": {
        "id": "K0EiwEJNTmwI"
      },
      "source": [
        "def generate_many_samples(model, num_samples, batch_size):\n",
        "    size = 0\n",
        "    res = []\n",
        "    while size < num_samples:\n",
        "        res.append(model.generate_samples(min(batch_size, num_samples - size)))\n",
        "        size += batch_size\n",
        "    return torch.cat(res, 0).cpu().detach()"
      ],
      "execution_count": 18,
      "outputs": []
    },
    {
      "cell_type": "code",
      "metadata": {
        "id": "6L9QVf-9TmwI",
        "outputId": "29b7c145-1d52-4caa-a458-1458a780c5c2",
        "colab": {
          "base_uri": "https://localhost:8080/",
          "height": 88
        }
      },
      "source": [
        "show_images(generate_many_samples(model, 10, 10))"
      ],
      "execution_count": 19,
      "outputs": [
        {
          "output_type": "display_data",
          "data": {
            "image/png": "[encoded data removed]",
            "text/plain": [
              "<Figure size 864x172.8 with 10 Axes>"
            ]
          },
          "metadata": {
            "tags": [],
            "needs_background": "light"
          }
        }
      ]
    },
    {
      "cell_type": "code",
      "metadata": {
        "id": "g40_ilnoTmwI",
        "outputId": "4302cb03-b21b-4e18-8979-68fa8e80dd24",
        "colab": {
          "base_uri": "https://localhost:8080/",
          "height": 381,
          "referenced_widgets": [
            "092bf3fcddec473d8cdb8730d6e02135",
            "774706d8023a4cdaa9813b214018cc79",
            "c6ee05810d47402386e32a2b0ecff68a",
            "b9e32ffb61f9465aac210d51bff6bd93",
            "f161e4f4f5744ea5bdb3ad810b133f94",
            "fd287b331db84f95aeb6ff78159a9526",
            "b1b7536ca57e4e5783e2e1590fe5a804",
            "10f5d0aaaf1b4239b913faabd31c9a96",
            "f833649a994a47329bb704f2bf4198bc",
            "a2ce38d379484c78ac674dcc63eed00a",
            "c25b63df0f434d7785fb722aeacddaf0",
            "74de0604f58e4a5a855657cc527e347c",
            "dffc5b5d324f4c50a186406c9cf5bfec",
            "b2ad613b23e549788433280d075d8458",
            "17be3c93d2d543ad82439c66701515b1",
            "bcd39cf0dbad4dfaa94f8169fae20d15"
          ]
        }
      },
      "source": [
        "trainer(count_of_epoch=1, \n",
        "        batch_size=64, \n",
        "        dataset=MNIST_train,\n",
        "        model=model, \n",
        "        loss_function=loss_function,\n",
        "        optimizer=optimizer,\n",
        "        lr = 2e-4,\n",
        "        callback = None)"
      ],
      "execution_count": 22,
      "outputs": [
        {
          "output_type": "display_data",
          "data": {
            "application/vnd.jupyter.widget-view+json": {
              "model_id": "092bf3fcddec473d8cdb8730d6e02135",
              "version_minor": 0,
              "version_major": 2
            },
            "text/plain": [
              "HBox(children=(FloatProgress(value=0.0, description='epoch', max=1.0, style=ProgressStyle(description_width='i…"
            ]
          },
          "metadata": {
            "tags": []
          }
        },
        {
          "output_type": "display_data",
          "data": {
            "application/vnd.jupyter.widget-view+json": {
              "model_id": "f833649a994a47329bb704f2bf4198bc",
              "version_minor": 0,
              "version_major": 2
            },
            "text/plain": [
              "HBox(children=(FloatProgress(value=0.0, max=60000.0), HTML(value='')))"
            ]
          },
          "metadata": {
            "tags": []
          }
        },
        {
          "output_type": "error",
          "ename": "TypeError",
          "evalue": "ignored",
          "traceback": [
            "\u001b[0;31m---------------------------------------------------------------------------\u001b[0m",
            "\u001b[0;31mTypeError\u001b[0m                                 Traceback (most recent call last)",
            "\u001b[0;32m<ipython-input-22-505108e4a05f>\u001b[0m in \u001b[0;36m<module>\u001b[0;34m()\u001b[0m\n\u001b[1;32m      6\u001b[0m         \u001b[0moptimizer\u001b[0m\u001b[0;34m=\u001b[0m\u001b[0moptimizer\u001b[0m\u001b[0;34m,\u001b[0m\u001b[0;34m\u001b[0m\u001b[0;34m\u001b[0m\u001b[0m\n\u001b[1;32m      7\u001b[0m         \u001b[0mlr\u001b[0m \u001b[0;34m=\u001b[0m \u001b[0;36m2e-4\u001b[0m\u001b[0;34m,\u001b[0m\u001b[0;34m\u001b[0m\u001b[0;34m\u001b[0m\u001b[0m\n\u001b[0;32m----> 8\u001b[0;31m         callback = None)\n\u001b[0m",
            "\u001b[0;32m<ipython-input-7-57d0baa188f9>\u001b[0m in \u001b[0;36mtrainer\u001b[0;34m(count_of_epoch, batch_size, dataset, model, loss_function, optimizer, lr, callback)\u001b[0m\n\u001b[1;32m     21\u001b[0m                     \u001b[0mloss_function\u001b[0m\u001b[0;34m=\u001b[0m\u001b[0mloss_function\u001b[0m\u001b[0;34m,\u001b[0m\u001b[0;34m\u001b[0m\u001b[0;34m\u001b[0m\u001b[0m\n\u001b[1;32m     22\u001b[0m                     \u001b[0moptimizer\u001b[0m\u001b[0;34m=\u001b[0m\u001b[0;34m(\u001b[0m\u001b[0moptima_generator\u001b[0m\u001b[0;34m,\u001b[0m \u001b[0moptima_discriminator\u001b[0m\u001b[0;34m)\u001b[0m\u001b[0;34m,\u001b[0m\u001b[0;34m\u001b[0m\u001b[0;34m\u001b[0m\u001b[0m\n\u001b[0;32m---> 23\u001b[0;31m                     callback=callback)\n\u001b[0m\u001b[1;32m     24\u001b[0m \u001b[0;34m\u001b[0m\u001b[0m\n\u001b[1;32m     25\u001b[0m         \u001b[0miterations\u001b[0m\u001b[0;34m.\u001b[0m\u001b[0mset_postfix\u001b[0m\u001b[0;34m(\u001b[0m\u001b[0;34m{\u001b[0m\u001b[0;34m'epoch loss'\u001b[0m\u001b[0;34m:\u001b[0m \u001b[0mepoch_loss\u001b[0m\u001b[0;34m}\u001b[0m\u001b[0;34m)\u001b[0m\u001b[0;34m\u001b[0m\u001b[0;34m\u001b[0m\u001b[0m\n",
            "\u001b[0;31mTypeError\u001b[0m: 'float' object is not iterable"
          ]
        }
      ]
    },
    {
      "cell_type": "code",
      "metadata": {
        "id": "6W7NhdM_Uc7n",
        "outputId": "725860c0-c663-41b4-b6c3-6894cbcb8582",
        "colab": {
          "base_uri": "https://localhost:8080/",
          "height": 88
        }
      },
      "source": [
        "show_images(generate_many_samples(model, 10, 10))"
      ],
      "execution_count": 21,
      "outputs": [
        {
          "output_type": "display_data",
          "data": {
            "image/png": "[encoded data removed]",
            "text/plain": [
              "<Figure size 864x172.8 with 10 Axes>"
            ]
          },
          "metadata": {
            "tags": [],
            "needs_background": "light"
          }
        }
      ]
    },
    {
      "cell_type": "code",
      "metadata": {
        "id": "POkS7y4tUTO_"
      },
      "source": [
        ""
      ],
      "execution_count": null,
      "outputs": []
    }
  ]
}