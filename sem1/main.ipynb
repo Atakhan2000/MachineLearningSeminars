{
 "cells": [
  {
   "cell_type": "markdown",
   "metadata": {
    "slideshow": {
     "slide_type": "slide"
    }
   },
   "source": [
    "# Используемые пакеты"
   ]
  },
  {
   "cell_type": "code",
   "execution_count": 1,
   "metadata": {
    "slideshow": {
     "slide_type": "subslide"
    }
   },
   "outputs": [],
   "source": [
    "from sklearn.linear_model import LogisticRegression\n",
    "import matplotlib.pyplot as plt\n",
    "import seaborn as sns\n",
    "import numpy as np\n",
    "import pandas as pd"
   ]
  },
  {
   "cell_type": "markdown",
   "metadata": {
    "slideshow": {
     "slide_type": "slide"
    }
   },
   "source": [
    "# Ирисы Фишера\n",
    "Выборка взята отсюда: https://archive.ics.uci.edu/ml/datasets/iris"
   ]
  },
  {
   "cell_type": "markdown",
   "metadata": {
    "slideshow": {
     "slide_type": "subslide"
    }
   },
   "source": [
    "## Загрузка выборки"
   ]
  },
  {
   "cell_type": "code",
   "execution_count": 2,
   "metadata": {
    "slideshow": {
     "slide_type": "subslide"
    }
   },
   "outputs": [
    {
     "data": {
      "text/html": [
       "<div>\n",
       "<style scoped>\n",
       "    .dataframe tbody tr th:only-of-type {\n",
       "        vertical-align: middle;\n",
       "    }\n",
       "\n",
       "    .dataframe tbody tr th {\n",
       "        vertical-align: top;\n",
       "    }\n",
       "\n",
       "    .dataframe thead th {\n",
       "        text-align: right;\n",
       "    }\n",
       "</style>\n",
       "<table border=\"1\" class=\"dataframe\">\n",
       "  <thead>\n",
       "    <tr style=\"text-align: right;\">\n",
       "      <th></th>\n",
       "      <th>длина чашелистика</th>\n",
       "      <th>ширина чашелистика</th>\n",
       "      <th>длина лепестка</th>\n",
       "      <th>ширина лепестка</th>\n",
       "      <th>класс</th>\n",
       "    </tr>\n",
       "  </thead>\n",
       "  <tbody>\n",
       "    <tr>\n",
       "      <th>114</th>\n",
       "      <td>5.8</td>\n",
       "      <td>2.8</td>\n",
       "      <td>5.1</td>\n",
       "      <td>2.4</td>\n",
       "      <td>Iris-virginica</td>\n",
       "    </tr>\n",
       "    <tr>\n",
       "      <th>62</th>\n",
       "      <td>6.0</td>\n",
       "      <td>2.2</td>\n",
       "      <td>4.0</td>\n",
       "      <td>1.0</td>\n",
       "      <td>Iris-versicolor</td>\n",
       "    </tr>\n",
       "    <tr>\n",
       "      <th>33</th>\n",
       "      <td>5.5</td>\n",
       "      <td>4.2</td>\n",
       "      <td>1.4</td>\n",
       "      <td>0.2</td>\n",
       "      <td>Iris-setosa</td>\n",
       "    </tr>\n",
       "    <tr>\n",
       "      <th>107</th>\n",
       "      <td>7.3</td>\n",
       "      <td>2.9</td>\n",
       "      <td>6.3</td>\n",
       "      <td>1.8</td>\n",
       "      <td>Iris-virginica</td>\n",
       "    </tr>\n",
       "    <tr>\n",
       "      <th>7</th>\n",
       "      <td>5.0</td>\n",
       "      <td>3.4</td>\n",
       "      <td>1.5</td>\n",
       "      <td>0.2</td>\n",
       "      <td>Iris-setosa</td>\n",
       "    </tr>\n",
       "  </tbody>\n",
       "</table>\n",
       "</div>"
      ],
      "text/plain": [
       "     длина чашелистика  ширина чашелистика  длина лепестка  ширина лепестка  \\\n",
       "114                5.8                 2.8             5.1              2.4   \n",
       "62                 6.0                 2.2             4.0              1.0   \n",
       "33                 5.5                 4.2             1.4              0.2   \n",
       "107                7.3                 2.9             6.3              1.8   \n",
       "7                  5.0                 3.4             1.5              0.2   \n",
       "\n",
       "               класс  \n",
       "114   Iris-virginica  \n",
       "62   Iris-versicolor  \n",
       "33       Iris-setosa  \n",
       "107   Iris-virginica  \n",
       "7        Iris-setosa  "
      ]
     },
     "execution_count": 2,
     "metadata": {},
     "output_type": "execute_result"
    }
   ],
   "source": [
    "dataset = pd.read_csv('data/iris.csv', \n",
    "                      header=None, \n",
    "                      names=['длина чашелистика', 'ширина чашелистика', \n",
    "                             'длина лепестка', 'ширина лепестка', 'класс'])\n",
    "dataset.sample(5, random_state=0)"
   ]
  },
  {
   "cell_type": "markdown",
   "metadata": {
    "slideshow": {
     "slide_type": "subslide"
    }
   },
   "source": [
    "## Начало работы с данными\n",
    "1. Определить множество объектов:\n",
    "    * Определить размер выборки\n",
    "    * Определить признаки, которыми описываются объекты\n",
    "2. Определить множество ответов\n",
    "3. Определить тип задачи машинного обучения\n",
    "6. ..."
   ]
  },
  {
   "cell_type": "markdown",
   "metadata": {
    "slideshow": {
     "slide_type": "subslide"
    }
   },
   "source": [
    "### Множество объектов\n",
    "В данной задачи множество объектов описывается $n=4$ признаками:\n",
    "1. Длина чашелистика\n",
    "2. Ширина чашелистика\n",
    "3. Длина лепестка\n",
    "4. Ширина лепестка"
   ]
  },
  {
   "cell_type": "code",
   "execution_count": 3,
   "metadata": {
    "slideshow": {
     "slide_type": "subslide"
    }
   },
   "outputs": [
    {
     "name": "stdout",
     "output_type": "stream",
     "text": [
      "Размер выборки составляет l=150 объектов.\n"
     ]
    }
   ],
   "source": [
    "print('Размер выборки составляет l={} объектов.'.format(len(dataset)))"
   ]
  },
  {
   "cell_type": "markdown",
   "metadata": {
    "slideshow": {
     "slide_type": "subslide"
    }
   },
   "source": [
    "Все признаки являются вещественными признаками. Формально объекты $\\mathbf{X}$ представляються в следующем виде:\n",
    "$$\\mathbf{X} \\in \\mathbb{R}^{l\\times n},$$\n",
    "где $l$ число объектов, а $n$ число признаков.\n",
    "\n",
    "Получаем, что $\\mathbf{X}$ это некоторая вещественная матрица размера $l\\times n$."
   ]
  },
  {
   "cell_type": "markdown",
   "metadata": {
    "slideshow": {
     "slide_type": "subslide"
    }
   },
   "source": [
    "### Множество ответов\n",
    "В данной задаче множество ответов состоит из трех элементов:\n",
    "1. Iris-virginica\n",
    "2. Iris-versicolor\n",
    "3. Iris-setosa"
   ]
  },
  {
   "cell_type": "markdown",
   "metadata": {
    "slideshow": {
     "slide_type": "subslide"
    }
   },
   "source": [
    "### Задача машинного обучения\n",
    "В нашем случае, так как мощность множества $|\\mathbf{y}|=3 \\ll l=150$ получаем задачу классификации на $M=3$ класса."
   ]
  },
  {
   "cell_type": "markdown",
   "metadata": {
    "slideshow": {
     "slide_type": "subslide"
    }
   },
   "source": [
    "## Анализ данных\n",
    "Сначала проэктируем все объекты на двумерные плоскости, для упрощения анализа"
   ]
  },
  {
   "cell_type": "code",
   "execution_count": 4,
   "metadata": {
    "slideshow": {
     "slide_type": "subslide"
    }
   },
   "outputs": [
    {
     "data": {
      "image/png": "[encoded data removed]",
      "text/plain": [
       "<matplotlib.figure.Figure at 0x11e586208>"
      ]
     },
     "metadata": {
      "needs_background": "light"
     },
     "output_type": "display_data"
    }
   ],
   "source": [
    "sns.pairplot(dataset, hue='класс', height=2)\n",
    "plt.show()"
   ]
  },
  {
   "cell_type": "markdown",
   "metadata": {
    "slideshow": {
     "slide_type": "subslide"
    }
   },
   "source": [
    "Из рисунка видно, что класс синих точек (Iris-setosa) легко отделяется от двух других цветов. Оранджевые и зеленные точки отделяются не так просто в каждой из проэкций, но все равно можно провести прямую, которая отделит оранджевые точки от зеленых."
   ]
  },
  {
   "cell_type": "markdown",
   "metadata": {
    "slideshow": {
     "slide_type": "subslide"
    }
   },
   "source": [
    "## Построение модели\n",
    "### Преобразование данных\n",
    "Как было сказано ранее нам требуется решить задачу классификации на 3 класса. Но для наглядноси рассмотрим бинарную классификацию (классификацию на несколько классов рассмотрим в следующей лекции).\n",
    "\n",
    "Чтобы исходную задачу преобразовать в задачу бинарной классификации уберем из выборки все объекта класса Iris-setosa."
   ]
  },
  {
   "cell_type": "code",
   "execution_count": 5,
   "metadata": {
    "slideshow": {
     "slide_type": "subslide"
    }
   },
   "outputs": [],
   "source": [
    "binary_dataset = dataset.drop(index=dataset.index[dataset['класс'] == 'Iris-setosa'])"
   ]
  },
  {
   "cell_type": "markdown",
   "metadata": {
    "slideshow": {
     "slide_type": "subslide"
    }
   },
   "source": [
    "Классы закодируем целыми числами $-1$ и $1$."
   ]
  },
  {
   "cell_type": "code",
   "execution_count": 6,
   "metadata": {
    "slideshow": {
     "slide_type": "subslide"
    }
   },
   "outputs": [],
   "source": [
    "binary_dataset.loc[dataset['класс'] == 'Iris-versicolor', dataset.columns == 'класс'] = -1\n",
    "binary_dataset.loc[dataset['класс'] == 'Iris-virginica', dataset.columns == 'класс'] = 1"
   ]
  },
  {
   "cell_type": "markdown",
   "metadata": {
    "slideshow": {
     "slide_type": "subslide"
    }
   },
   "source": [
    "Получаем задачу бинарной классификации."
   ]
  },
  {
   "cell_type": "markdown",
   "metadata": {
    "slideshow": {
     "slide_type": "subslide"
    }
   },
   "source": [
    "### Модель алгоритмов\n",
    "\n",
    "Модель алгоритмов $\\mathfrak{F}$ в машинном обучении это некоторое множество функций, которые действуют из множества объектов в множество ответов, в нашем случае:\n",
    "$$\\mathfrak{F} = \\{f| f: \\mathbb{R}^n \\to \\{-1, 1\\}, \\text{еще какие-то ограничения}\\},$$\n",
    "обычно $\\mathfrak{F}$ это некоторое параметрическое семество функций, тоесть разные функции $f$ отличаются друг от друга только каким-то параметром. Простым примером параметрическим семейством функций для задачи бинарной классификации является семейство линейный классификатор:\n",
    "$$\\mathfrak{F}_{bcl} = \\left\\{f\\bigr(\\theta, \\mathbf{x}\\bigr)=\\text{sign}\\bigr(\\theta^{\\mathsf{T}}\\mathbf{x}\\bigr)\\bigr| \\theta \\in \\mathbb{R}^{n} \\right\\}.$$\n"
   ]
  },
  {
   "cell_type": "markdown",
   "metadata": {
    "slideshow": {
     "slide_type": "subslide"
    }
   },
   "source": [
    "### Функция потерь\n",
    "\n",
    "Машиное обучение это всегда выбор функции из множества $\\mathfrak{F}$. Чтобы выбрать функцию, нужен некоторый критерий по которому она выбирается, то есть нужно упоррядочить все функции от худшей к лучшей. Для этого построем функционал $\\mathcal{L}$, который каждой функции $f \\in \\mathfrak{F}$ ставит в соответствии число из $\\mathbb{R}_+$. В машинном обучении обычно функционал качества водиться как некоторая ошибка на выборке. В общем виде функционал качества можно представить в следующем виде:\n",
    "$$\\mathcal{L}\\bigr(f, \\mathbf{X}, \\mathbf{y}\\bigr) = \\sum_{i=1}^l\\mathcal{q}\\bigr(f, \\mathbf{x}_i, y_i\\bigr),$$\n",
    "где $q$ некоторая функция ошибки на некотором объекте $\\mathbf{x}$. Функционал качества $\\mathcal{L}$ называется эмперическим риском."
   ]
  },
  {
   "cell_type": "markdown",
   "metadata": {
    "slideshow": {
     "slide_type": "subslide"
    }
   },
   "source": [
    "### Оптимизационная задача\n",
    "\n",
    "Далее нужно поставить задачу оптимизации для выбора $f \\in \\mathfrak{F}$. Здесь все просто, просто минимизируем эмперический риск:\n",
    "$$\\hat{f} = \\arg \\min_{f \\in \\mathfrak{F}} \\mathcal{L}\\bigr(f, \\mathbf{X}, \\mathbf{y}\\bigr).$$\n",
    "\n",
    "Важно! В результе функция $\\hat{f}$ зависит от выборки $\\left(\\mathbf{X}, \\mathbf{y}\\right)$, то есть для разных наборов данных оптимальная функция будет различная."
   ]
  },
  {
   "cell_type": "markdown",
   "metadata": {
    "slideshow": {
     "slide_type": "subslide"
    }
   },
   "source": [
    "Вернемся к нашей задаче. В нашем случае функционал качества будет иметь следующий вид:\n",
    "$$\\mathcal{L}\\bigr(\\theta, \\mathbf{X}, \\mathbf{y}\\bigr) = \\sum_{i=1}^l\\bigr[f\\bigr(\\theta, \\mathbf{x}_i\\bigr) \\not= y_i\\bigr],$$\n",
    "и оптимизационная задача переписывается в виде:\n",
    "$$\\hat{\\theta} = \\arg \\min_{\\theta \\in \\mathbb{R}^n} \\sum_{i=1}^l\\bigr[f\\bigr(\\theta, \\mathbf{x}_i\\bigr) \\not= y_i\\bigr].$$\n",
    "\n",
    "И на самом деле в дальнейшем будем решать иммено такие задачи, на поиск оптимального параметра. Само решение задачи линейной бинарной классификации будет на следующей лекции. Сейчас используемся библиотеками для решения данной задачи. Далее в примере будет найден параметр $\\hat{\\theta}$ не как решение непосредственно этой оптимизационной задачи, а немного измененной, но об этом позже в следующей лекции."
   ]
  },
  {
   "cell_type": "markdown",
   "metadata": {
    "slideshow": {
     "slide_type": "subslide"
    }
   },
   "source": [
    "### Поиск оптимального вектора параметров\n",
    "Перейдем к двум матрицам:\n",
    "1. Матрице объектов $\\mathbf{X} \\in \\mathbb{R}^{l\\times (n+1)}$\n",
    "2. Вектору ответов $\\mathbf{y} \\in \\{-1,1\\}^l$\n",
    "\n",
    "Заметим, что объекты мы погрузили в пространство более большой размерности, добавив еще один признак, который у всех объектов будет равен $1$."
   ]
  },
  {
   "cell_type": "code",
   "execution_count": 7,
   "metadata": {
    "slideshow": {
     "slide_type": "subslide"
    }
   },
   "outputs": [],
   "source": [
    "X = binary_dataset.iloc[:, binary_dataset.columns != 'класс'].values\n",
    "y = binary_dataset.iloc[:, binary_dataset.columns == 'класс'].values.reshape(-1)\n",
    "X = np.array(np.hstack([X, np.ones([len(X), 1])]), dtype=np.float64)\n",
    "y = np.array(y, dtype=np.int64)"
   ]
  },
  {
   "cell_type": "code",
   "execution_count": 8,
   "metadata": {
    "slideshow": {
     "slide_type": "subslide"
    }
   },
   "outputs": [],
   "source": [
    "model = LogisticRegression(random_state=0, max_iter=2000)\n",
    "_ = model.fit(X, y)"
   ]
  },
  {
   "cell_type": "markdown",
   "metadata": {
    "slideshow": {
     "slide_type": "subslide"
    }
   },
   "source": [
    "Получаем вектор оптимальных параметров $\\hat{\\theta}$"
   ]
  },
  {
   "cell_type": "code",
   "execution_count": 9,
   "metadata": {
    "slideshow": {
     "slide_type": "subslide"
    }
   },
   "outputs": [
    {
     "data": {
      "text/plain": [
       "array([[-3.94426322e-01, -5.13378130e-01,  2.93108661e+00,\n",
       "         2.41670685e+00, -5.18829567e-04]])"
      ]
     },
     "execution_count": 9,
     "metadata": {},
     "output_type": "execute_result"
    }
   ],
   "source": [
    "model.coef_"
   ]
  },
  {
   "cell_type": "markdown",
   "metadata": {
    "slideshow": {
     "slide_type": "slide"
    }
   },
   "source": [
    "# Переход от бинарной классификации к многоклассовой\n",
    "Теперь же остается вопрос: как перейти от задачи бинарной классификации к многоклассовой? В качестве бинарного классификатора рассмотрим все ту же модель алгоритмов: \n",
    "$$\\mathfrak{F}_{bcl} = \\left\\{f\\bigr(\\theta, \\mathbf{x}\\bigr)=\\text{sign}\\bigr(\\theta^{\\mathsf{T}}\\mathbf{x}\\bigr)\\bigr| \\theta \\in \\mathbb{R}^{n} \\right\\}.$$\n",
    "\n",
    "Но знак позволяет отделить только два знака. Какие же есть решения?"
   ]
  },
  {
   "cell_type": "markdown",
   "metadata": {
    "slideshow": {
     "slide_type": "subslide"
    }
   },
   "source": [
    "Рассмотрим вариант перехода, который называется Один против всех (One VS All). Для простоты визуализации рассмотрим пример на синтетических данных. "
   ]
  },
  {
   "cell_type": "markdown",
   "metadata": {
    "slideshow": {
     "slide_type": "subslide"
    }
   },
   "source": [
    "## Генерация синтетической выборки"
   ]
  },
  {
   "cell_type": "code",
   "execution_count": 10,
   "metadata": {
    "slideshow": {
     "slide_type": "subslide"
    }
   },
   "outputs": [],
   "source": [
    "np.random.seed(0)\n",
    "l = 100\n",
    "n = 2\n",
    "X1 = np.array([[-1,-1]]) + 0.5*np.random.randn(l, n)\n",
    "X2 = np.array([[1,1]]) + 0.5*np.random.randn(l, n)\n",
    "X3 = np.array([[-1,1]]) + 0.5*np.random.randn(l, n)\n",
    "\n",
    "X = np.vstack([X1, X2, X3])\n",
    "y = np.hstack([[0]*l, [1]*l, [2]*l])\n"
   ]
  },
  {
   "cell_type": "code",
   "execution_count": 11,
   "metadata": {
    "slideshow": {
     "slide_type": "subslide"
    }
   },
   "outputs": [
    {
     "data": {
      "image/png": "[encoded data removed]",
      "text/plain": [
       "<matplotlib.figure.Figure at 0x122ccf898>"
      ]
     },
     "metadata": {
      "needs_background": "light"
     },
     "output_type": "display_data"
    }
   ],
   "source": [
    "cols = ['blue', 'red', 'green']\n",
    "\n",
    "# построение точек\n",
    "for k in np.unique(y):\n",
    "    plt.plot(X[y==k,0], X[y==k,1], 'o', label='класс {}'.format(k), color=cols[k])\n",
    "\n",
    "plt.legend(loc='best')\n",
    "plt.show()"
   ]
  },
  {
   "cell_type": "markdown",
   "metadata": {
    "slideshow": {
     "slide_type": "subslide"
    }
   },
   "source": [
    "## Один против всех\n",
    "\n",
    "Данные метод основан на том, что для классификации на $M>2$ классов нужно построить $M$ линейных классификаторов, которые классифицируют $k$-й класс прорив всех остальных классов."
   ]
  },
  {
   "cell_type": "markdown",
   "metadata": {
    "slideshow": {
     "slide_type": "subslide"
    }
   },
   "source": [
    "Построим $M=3$ классификатора, которые отделяют каждый класс от двух остальных"
   ]
  },
  {
   "cell_type": "code",
   "execution_count": 12,
   "metadata": {
    "slideshow": {
     "slide_type": "subslide"
    }
   },
   "outputs": [],
   "source": [
    "models = []\n",
    "model = LogisticRegression(random_state=0, max_iter=2000)\n",
    "_ = model.fit(X, np.array(y==0, dtype=np.int64))\n",
    "models.append(model)\n",
    "\n",
    "model = LogisticRegression(random_state=0, max_iter=2000)\n",
    "_ = model.fit(X, np.array(y==1, dtype=np.int64))\n",
    "models.append(model)\n",
    "\n",
    "model = LogisticRegression(random_state=0, max_iter=2000)\n",
    "_ = model.fit(X, np.array(y==2, dtype=np.int64))\n",
    "models.append(model)"
   ]
  },
  {
   "cell_type": "code",
   "execution_count": 13,
   "metadata": {
    "slideshow": {
     "slide_type": "subslide"
    }
   },
   "outputs": [
    {
     "data": {
      "image/png": "[encoded data removed]",
      "text/plain": [
       "<matplotlib.figure.Figure at 0x12319ca20>"
      ]
     },
     "metadata": {
      "needs_background": "light"
     },
     "output_type": "display_data"
    }
   ],
   "source": [
    "cols = ['blue', 'red', 'green']\n",
    "plt.xlim((-2.5, 2.5))\n",
    "plt.ylim((-2.5, 2.5))\n",
    "\n",
    "# построение точек\n",
    "for k in np.unique(y):\n",
    "    plt.plot(X[y==k,0], X[y==k,1], 'o', label='класс {}'.format(k), color=cols[k])\n",
    "\n",
    "# построение прямой перпендикулярной к разделяющей\n",
    "for k in np.unique(y):\n",
    "    # нормальный вектор к прямой\n",
    "    x2, y2 = -models[k].coef_[0][1]/models[k].coef_[0][0], 1\n",
    "    \n",
    "    polynomial = np.poly1d(np.polyfit([0, x2], [0, y2], 1))\n",
    "    x_axis = np.linspace(-10, 10)\n",
    "    y_axis = polynomial(x_axis)\n",
    "    plt.plot(x_axis, y_axis, linewidth=2, color=cols[k])\n",
    "\n",
    "plt.legend(loc='best')\n",
    "plt.show()"
   ]
  },
  {
   "cell_type": "markdown",
   "metadata": {
    "slideshow": {
     "slide_type": "subslide"
    }
   },
   "source": [
    "По данному рисунку возьникает сразу несколько вопросов:\n",
    "1. Как видно на рисунке в класс зеленых точек попадает много зеленных и много красных точек. Такое случилось, потому, что мы считали просто скалярное произведени, без добавления адитивной константы, которая грубо говоря приближает разделяющую прямую к истинным точкам или отдаляет. \n",
    "2. Есть точки, которые поадают сразу в несколько областей, что делать с ними? Здесь есть много подходов. Какие есть варианты у вас?"
   ]
  },
  {
   "cell_type": "markdown",
   "metadata": {
    "slideshow": {
     "slide_type": "subslide"
    }
   },
   "source": [
    "Один из вариантов следующий:\n",
    "1. Всего плоскость разделена на 6 областей.\n",
    "2. Считаем в какую область попала точка и получаем нужный класс."
   ]
  },
  {
   "cell_type": "markdown",
   "metadata": {
    "slideshow": {
     "slide_type": "subslide"
    }
   },
   "source": [
    "## Методы анализа качества\n",
    "\n",
    "Самый простой способо это подсчет ошибок, не верных классов:\n",
    "$$\\mathcal{L}\\bigr(\\theta, \\mathbf{X}, \\mathbf{y}\\bigr) = \\sum_{i=1}^l\\bigr[f\\bigr(\\theta, \\mathbf{x}_i\\bigr) \\not= y_i\\bigr].$$\n",
    "\n",
    "Также можно рассмотреть таблицу попарных ошибок:\n",
    "\n",
    "|               | y = 1 | y = 2 | y = 3 |\n",
    "| ------------- | ----- | ----- | ----- |\n",
    "| __f(x) = 1__  |  1-1  |  1-2  |  1-3  |\n",
    "| __f(x) = 2__  |  2-1  |  2-2  |  2-3  |\n",
    "| __f(x) = 3__  |  3-1  |  3-2  |  3-3  |\n",
    "\n",
    "Данная таблица показывает, сколько классификатор сделал ошибок между двумя парами классов. Например:\n",
    "1. 2-3 это число, которое обозначает, сколько объектов класса $3$ объект отнес к классу $2$\n",
    "2. 3-1 это число, которое обозначает, сколько объектов класса $1$ объект отнес к классу $3$"
   ]
  },
  {
   "cell_type": "markdown",
   "metadata": {
    "slideshow": {
     "slide_type": "subslide"
    }
   },
   "source": [
    "Посчитаем данную матрицу для синтетической выборки."
   ]
  },
  {
   "cell_type": "code",
   "execution_count": 14,
   "metadata": {
    "slideshow": {
     "slide_type": "subslide"
    }
   },
   "outputs": [],
   "source": [
    "scores = np.zeros([3,3])\n",
    "for k in range(3):\n",
    "    pred = np.argmax(np.vstack([models[i].predict_proba(X[y==k])[:, 1] for i in range(3)]).T, axis=1)\n",
    "    for i in range(3):\n",
    "        scores[i, k] = sum(pred == i)\n",
    "        "
   ]
  },
  {
   "cell_type": "code",
   "execution_count": 15,
   "metadata": {
    "slideshow": {
     "slide_type": "subslide"
    }
   },
   "outputs": [
    {
     "name": "stdout",
     "output_type": "stream",
     "text": [
      "[[98.  0.  6.]\n",
      " [ 0. 98.  2.]\n",
      " [ 2.  2. 92.]]\n"
     ]
    }
   ],
   "source": [
    "print(scores)"
   ]
  },
  {
   "cell_type": "markdown",
   "metadata": {
    "slideshow": {
     "slide_type": "subslide"
    }
   },
   "source": [
    "Результаты данной таблицы показывают такой же результат как и картинка. Хуже всего от других отделим второй класс."
   ]
  },
  {
   "cell_type": "markdown",
   "metadata": {
    "slideshow": {
     "slide_type": "slide"
    }
   },
   "source": [
    "# Переобучения и контроль качества"
   ]
  },
  {
   "cell_type": "markdown",
   "metadata": {
    "slideshow": {
     "slide_type": "subslide"
    }
   },
   "source": [
    "В предыдущем примере мы указали, что полученная оптимальная функция сильно зависит от данных и от сложности выбранной модели. Банальный пример в качестве функции мы можем взять просто функцию, которая для каждого элемента выборки возвращает ее метку. Качество на выборке будет идеальным, но ни о какой обобщающей способности не может идти речи.\n",
    "\n",
    "Поэтому обычно выделяют этапы обучения и контроля. На этап обучения одни данные, а на этапе контроля другие.\n",
    "Перепишем постановку задачи следующем образом, пусть задана обучающая выборка:\n",
    "$$\\mathbf{X}_{tr} \\in \\mathbb{R}^{l_{tr}\\times n}, \\quad \\mathbf{y}_{tr} \\in \\mathbb{Y}^{l_{tr}},$$\n",
    "и выборка для контроля:\n",
    "$$\\mathbf{X}_{vl} \\in \\mathbb{R}^{l_{vl}\\times n}, \\quad \\mathbf{y}_{vl} \\in \\mathbb{Y}^{l_{vl}}.$$\n",
    "\n",
    "Также еще есть отложенная выборка, которая вообще не используется в подборе каких либо параметров, тестова выборка:\n",
    "$$\\mathbf{X}_{ts} \\in \\mathbb{R}^{l_{ts}\\times n}, \\quad \\mathbf{y}_{ts} \\in \\mathbb{Y}^{l_{ts}}.$$"
   ]
  },
  {
   "cell_type": "markdown",
   "metadata": {
    "slideshow": {
     "slide_type": "subslide"
    }
   },
   "source": [
    "В этом случае оптимальные параметры $\\hat{\\theta}$ находятся из оптимизационной задачи:\n",
    "$$\\hat{\\theta} = \\arg \\min_{\\theta \\in \\mathbb{R}^n} \\mathcal{L}\\bigr(\\theta, \\mathbf{X}_{tr}, \\mathbf{y}_{tr}\\bigr).$$\n",
    "\n",
    "После этапа получения параметров $\\hat{\\theta}$ происходит измерения качества модели на выборке $\\mathbf{X}_{vl}, \\mathbf{y}_{vl}$.\n",
    "\n",
    "И того получаем две ошибки $\\mathcal{L}\\bigr(\\theta, \\mathbf{X}_{tr}, \\mathbf{y}_{tr}\\bigr)$ и $\\mathcal{L}\\bigr(\\theta, \\mathbf{X}_{vl}, \\mathbf{y}_{vl}\\bigr)$ и в случае, если ошибка на обучении много меньше чем ошибка на контроле, то получаем переобучение."
   ]
  },
  {
   "cell_type": "markdown",
   "metadata": {
    "slideshow": {
     "slide_type": "subslide"
    }
   },
   "source": [
    "## Пример переобучения на синтеческих данных"
   ]
  },
  {
   "cell_type": "code",
   "execution_count": 16,
   "metadata": {
    "slideshow": {
     "slide_type": "subslide"
    }
   },
   "outputs": [],
   "source": [
    "np.random.seed(0)\n",
    "l = 6\n",
    "n = 1\n",
    "w = np.random.randn(n)\n",
    "X_tr = np.random.randn(l, n)\n",
    "y_tr = X_tr@w + np.random.randn(l)\n",
    "\n",
    "X_vl = np.random.randn(l, n)\n",
    "y_vl = X_vl@w + np.random.randn(l)\n",
    "\n",
    "X_ts = np.random.randn(l, n)\n",
    "y_ts = X_ts@w + np.random.randn(l)\n",
    "\n"
   ]
  },
  {
   "cell_type": "code",
   "execution_count": 17,
   "metadata": {
    "slideshow": {
     "slide_type": "subslide"
    }
   },
   "outputs": [],
   "source": [
    "x_begin = -1.05\n",
    "x_end = 2.5\n",
    "X_polinom = np.hstack([X_tr**0, X_tr**1, X_tr**2, X_tr**3, X_tr**4, X_tr**5])\n",
    "w_polinom = np.linalg.inv(X_polinom.T@X_polinom)@X_polinom.T@y_tr\n",
    "y_polinom = list(map(lambda x: np.array([x**0, x**1, x**2, x**3, x**4, x**5])@w_polinom, \n",
    "                     np.linspace(x_begin, x_end)))"
   ]
  },
  {
   "cell_type": "code",
   "execution_count": 18,
   "metadata": {
    "slideshow": {
     "slide_type": "subslide"
    }
   },
   "outputs": [
    {
     "data": {
      "image/png": "[encoded data removed]",
      "text/plain": [
       "<matplotlib.figure.Figure at 0x12319c240>"
      ]
     },
     "metadata": {
      "needs_background": "light"
     },
     "output_type": "display_data"
    }
   ],
   "source": [
    "plt.plot(X_tr, y_tr, 'o', label = 'points train')\n",
    "plt.plot(X_ts, y_ts, 'o', label = 'points test')\n",
    "plt.plot(np.linspace(x_begin, x_end), w*np.linspace(x_begin, x_end), '-', label = 'real')\n",
    "plt.plot(np.linspace(x_begin, x_end), y_polinom, '-', label = 'polinom')\n",
    "\n",
    "plt.legend(loc='best')\n",
    "plt.show()"
   ]
  },
  {
   "cell_type": "markdown",
   "metadata": {
    "slideshow": {
     "slide_type": "slide"
    }
   },
   "source": [
    "# Борьба с переобучением"
   ]
  },
  {
   "cell_type": "markdown",
   "metadata": {
    "slideshow": {
     "slide_type": "subslide"
    }
   },
   "source": [
    "Бороться с переобучениям можно многими способами:\n",
    "1. Изменения структуры модели\n",
    "2. Добавление регуляризаторов\n",
    "3. ...\n",
    "\n",
    "Но большинство методов борьбы с регуляризацией добавляют свои параметры (гиперпараметры), которые также нужно оптимизировать. Обычно для их оптимизации и используется метод Cross-Validation и Leave One Out."
   ]
  },
  {
   "cell_type": "markdown",
   "metadata": {
    "slideshow": {
     "slide_type": "subslide"
    }
   },
   "source": [
    "### LOO\n",
    "\n",
    "Один из простых методов борьбы с переобучением является метод Leave One Out. Для удобства обозначим $\\hat{\\theta}\\bigr(\\mathbf{X}\\bigr)$ как оптимальный вектор для выборки $\\mathbf{X}$. Тогда ошибка LOO определяется следующим образом:\n",
    "$$LOO\\bigr(\\mu, \\textbf{X}_{tr}, \\textbf{y}_{tr}, \\textbf{X}_{vl}, \\textbf{y}_{vl}\\bigr) = \n",
    "\\sum_{i=1}^{l_{tr}+l_{vl}}q\\bigr(\\hat{\\theta}\\bigr(\\mathbf{X}_{tr}\\cup\\textbf{X}_{vl}\\setminus\\mathbf{x}_i, \\mu\\bigr), \\mathbf{x}_i, y_i\\bigr),$$\n",
    "где $\\mathbf{x}_i$ это элемент из объединенного датасета обучения и валидации.\n",
    "\n",
    "После чего оптимальный вектор параметров является решением следующей оптимизационной задачи:\n",
    "$$\n",
    "\\hat{\\mu} = \\arg\\min_{\\mu \\in \\mathfrak{M}} LOO\\bigr(\\mu, \\textbf{X}_{tr}, \\textbf{y}_{tr}, \\textbf{X}_{vl}, \\textbf{y}_{vl}\\bigr),\n",
    "$$\n",
    "$$\n",
    "\\hat{\\theta} = \\hat{\\theta}\\bigr(\\mathbf{X}_{tr}\\cup\\textbf{X}_{vl}, \\hat{\\mu}\\bigr)\n",
    "$$"
   ]
  },
  {
   "cell_type": "markdown",
   "metadata": {
    "slideshow": {
     "slide_type": "subslide"
    }
   },
   "source": [
    "Для нашего синтетического примера. В качестве параметра $\\mu$ можно рассмоттреть степень полинома для аппроксимации (изменения структуры модели).\n",
    "\n",
    "Пример, где реально используется LOO будет рассмотрен на следующей лекции."
   ]
  },
  {
   "cell_type": "markdown",
   "metadata": {
    "slideshow": {
     "slide_type": "slide"
    }
   },
   "source": [
    "# Разные задачи машинного обучения\n",
    "\n",
    "Задачи машиного обучения можно разделить на два типа:\n",
    "1. Решается одна прикладная задача. В данном случае основной целью является получить наилучший результат на отложенной выборке. В данном случае обычно есть одна выборка и нужно перебрать все возможные методы машинного обучения, чтобы получить лучший результат.\n",
    "2. Тестируется метод на большом количестве реальных данных. В данном случае основной целью является протестировать новый метод на широком спектре задач. Рассматриваются задачи из разных областей.\n",
    "3. Тестирования метода на большом количестве синтетических данных/ полусинтеттиических данных. Синтетические данные позволяют проверять разные гипотезы о модели. "
   ]
  },
  {
   "cell_type": "markdown",
   "metadata": {
    "slideshow": {
     "slide_type": "subslide"
    }
   },
   "source": [
    "## Прикладные задачи\n",
    "\n",
    "Обычно решение таких задач состоит из следующих этапов:\n",
    "1. Ищуться модели, которые решают похожие задачи.\n",
    "2. Анализ данных, анализ области откуда пришла задача.\n",
    "3. Адаптация моделей под прикладную задачу.\n",
    "4. Поверхностная оценка качества каждой модели на полученной выборке.\n",
    "5. Обучения 1 или 2 лучших моделей, подбирая все возможные параметры и гиперпараметры для получения лучшего результата.\n",
    "\n",
    "Главный результат данной задачи, это получить модель (одну функцию из модели алгоритмов), которая решает конкретную задачу, на конкретном наборе данных."
   ]
  },
  {
   "cell_type": "markdown",
   "metadata": {
    "slideshow": {
     "slide_type": "subslide"
    }
   },
   "source": [
    "## Исследовательские задачи\n",
    "\n",
    "Обычно решение таких задач состоит из следующих этапов:\n",
    "1. Анализ некоторой предметной области\n",
    "2. Разработка новой модели машиного обучения\n",
    "3. Проверка работоспособности метода на синтетических данных\n",
    "4. Выявление ограничений метода\n",
    "5. Тестирование на большом количестве реальных данных \n",
    "\n",
    "Заметим, что основным результатом в данном случае является не одна функция, которая решает одну поставленую задачу, а новая модель алгоритмов, которая может быть применима для большого количества задач. Важно, что не обязательно, новая модель алгоритмов должна давать лучшее качество на разных выборках."
   ]
  }
 ],
 "metadata": {
  "kernelspec": {
   "display_name": "Python 3",
   "language": "python",
   "name": "python3"
  },
  "language_info": {
   "codemirror_mode": {
    "name": "ipython",
    "version": 3
   },
   "file_extension": ".py",
   "mimetype": "text/x-python",
   "name": "python",
   "nbconvert_exporter": "python",
   "pygments_lexer": "ipython3",
   "version": "3.6.2"
  }
 },
 "nbformat": 4,
 "nbformat_minor": 4
}
