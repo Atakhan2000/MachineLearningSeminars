{
 "cells": [
  {
   "cell_type": "markdown",
   "metadata": {
    "id": "OIQJ9bM4MSPL",
    "slideshow": {
     "slide_type": "slide"
    }
   },
   "source": [
    "#  Нейронные сети: Автокодировщик, Генеративно-Состязательные сети"
   ]
  },
  {
   "cell_type": "markdown",
   "metadata": {
    "id": "s3qWY0M5LA6r",
    "slideshow": {
     "slide_type": "slide"
    }
   },
   "source": [
    "## Библиотеки"
   ]
  },
  {
   "cell_type": "code",
   "execution_count": 1,
   "metadata": {
    "id": "K2_VhyWeteMB",
    "slideshow": {
     "slide_type": "subslide"
    }
   },
   "outputs": [],
   "source": [
    "from copy import deepcopy\n",
    "\n",
    "import matplotlib.pyplot as plt\n",
    "from matplotlib.image import imread\n",
    "from mpl_toolkits import mplot3d\n",
    "from matplotlib import gridspec\n",
    "from PIL import Image\n",
    "import io\n",
    "import os\n",
    "from urllib.request import urlopen\n",
    "from skimage.segmentation import mark_boundaries\n",
    "\n",
    "from tqdm.notebook import tqdm\n",
    "import numpy as np\n",
    "import requests\n",
    "from scipy.stats import norm\n",
    "import torch\n",
    "\n",
    "from sklearn.metrics import classification_report\n",
    "from torch.utils.tensorboard import SummaryWriter\n",
    "\n",
    "from torchvision import datasets, transforms\n"
   ]
  },
  {
   "cell_type": "code",
   "execution_count": 2,
   "metadata": {
    "id": "UCn8xDPhteMB",
    "slideshow": {
     "slide_type": "subslide"
    }
   },
   "outputs": [],
   "source": [
    "import warnings\n",
    "warnings.filterwarnings(\"ignore\")"
   ]
  },
  {
   "cell_type": "code",
   "execution_count": 3,
   "metadata": {
    "colab": {
     "base_uri": "https://localhost:8080/",
     "height": 37
    },
    "id": "WF45BXo5MWuU",
    "outputId": "939dd97b-2945-4513-ab16-c80a02a6ac45",
    "slideshow": {
     "slide_type": "subslide"
    }
   },
   "outputs": [
    {
     "data": {
      "application/vnd.google.colaboratory.intrinsic+json": {
       "type": "string"
      },
      "text/plain": [
       "'cuda'"
      ]
     },
     "execution_count": 3,
     "metadata": {
      "tags": []
     },
     "output_type": "execute_result"
    }
   ],
   "source": [
    "device = 'cuda' if torch.cuda.is_available() else 'cpu'\n",
    "device"
   ]
  },
  {
   "cell_type": "markdown",
   "metadata": {
    "id": "YJCc8xi09uWI",
    "slideshow": {
     "slide_type": "slide"
    }
   },
   "source": [
    "## Код для обучени модели"
   ]
  },
  {
   "cell_type": "code",
   "execution_count": 4,
   "metadata": {
    "id": "R3BclNuZMSPT",
    "slideshow": {
     "slide_type": "subslide"
    }
   },
   "outputs": [],
   "source": [
    "def train_epoch(train_generator, model, loss_function, optimizer, callback = None):\n",
    "    epoch_loss = 0\n",
    "    total = 0\n",
    "    for it, (batch_of_x, batch_of_y) in enumerate(train_generator):\n",
    "        batch_loss = train_on_batch(model, batch_of_x, batch_of_y, optimizer, loss_function)\n",
    "        \n",
    "        if callback is not None:\n",
    "            with torch.no_grad():\n",
    "                callback(model, batch_loss)\n",
    "            \n",
    "        epoch_loss += batch_loss*len(batch_of_x)\n",
    "        total += len(batch_of_x)\n",
    "    \n",
    "    return epoch_loss/total\n",
    "        "
   ]
  },
  {
   "cell_type": "code",
   "execution_count": 5,
   "metadata": {
    "id": "8VG64px1MSPT",
    "slideshow": {
     "slide_type": "subslide"
    }
   },
   "outputs": [],
   "source": [
    "def trainer(count_of_epoch, \n",
    "            batch_size, \n",
    "            dataset,\n",
    "            model, \n",
    "            loss_function,\n",
    "            optimizer,\n",
    "            lr = 0.001,\n",
    "            callback = None):\n",
    "\n",
    "    optima = optimizer(model.parameters(), lr=lr)\n",
    "    \n",
    "    iterations = tqdm(range(count_of_epoch), desc='epoch')\n",
    "    iterations.set_postfix({'train epoch loss': np.nan})\n",
    "    for it in iterations:\n",
    "        batch_generator = tqdm(\n",
    "            torch.utils.data.DataLoader(dataset=dataset, batch_size=batch_size, shuffle=True), \n",
    "            leave=False, total=len(dataset)//batch_size+(len(dataset)%batch_size> 0))\n",
    "        \n",
    "        epoch_loss = train_epoch(train_generator=batch_generator, \n",
    "                    model=model, \n",
    "                    loss_function=loss_function, \n",
    "                    optimizer=optima, \n",
    "                    callback=callback)\n",
    "        \n",
    "        iterations.set_postfix({'train epoch loss': epoch_loss})"
   ]
  },
  {
   "cell_type": "markdown",
   "metadata": {
    "id": "C83NQZtcMSPP",
    "slideshow": {
     "slide_type": "slide"
    }
   },
   "source": [
    "## Автокодировщик"
   ]
  },
  {
   "cell_type": "code",
   "execution_count": 4,
   "metadata": {
    "id": "A7NcDFLef7XZ",
    "slideshow": {
     "slide_type": "subslide"
    }
   },
   "outputs": [],
   "source": [
    "digit_size = (28, 28)"
   ]
  },
  {
   "cell_type": "markdown",
   "metadata": {
    "id": "7BMdudN9MSPT",
    "slideshow": {
     "slide_type": "subslide"
    }
   },
   "source": [
    "### Код для обучения модели автокодировщика"
   ]
  },
  {
   "cell_type": "code",
   "execution_count": 34,
   "metadata": {
    "id": "XWEv5oI9MSPT",
    "slideshow": {
     "slide_type": "subslide"
    }
   },
   "outputs": [],
   "source": [
    "def train_on_batch(model, x_batch, y_batch, optimizer, loss_function):\n",
    "    model.train()\n",
    "    optimizer.zero_grad()\n",
    "    \n",
    "    output = model(x_batch.to(model.device))\n",
    "    \n",
    "    loss = loss_function(output, x_batch.to(model.device))\n",
    "    loss.backward()\n",
    "\n",
    "    optimizer.step()\n",
    "    return loss.cpu().item()"
   ]
  },
  {
   "cell_type": "code",
   "execution_count": 37,
   "metadata": {
    "id": "YJTqzA44NX4A",
    "slideshow": {
     "slide_type": "subslide"
    }
   },
   "outputs": [],
   "source": [
    "class callback():\n",
    "    def __init__(self, writer, dataset, loss_function, delimeter = 100, batch_size=64):\n",
    "        self.step = 0\n",
    "        self.writer = writer\n",
    "        self.delimeter = delimeter\n",
    "        self.loss_function = loss_function\n",
    "        self.batch_size = batch_size\n",
    "\n",
    "        self.dataset = dataset\n",
    "\n",
    "    def forward(self, model, loss):\n",
    "        self.step += 1\n",
    "        self.writer.add_scalar('LOSS/train', loss, self.step)\n",
    "        \n",
    "        if self.step % self.delimeter == 0:\n",
    "            \n",
    "            batch_generator = torch.utils.data.DataLoader(dataset = self.dataset, \n",
    "                                                          batch_size=self.batch_size)\n",
    "            \n",
    "            pred = []\n",
    "            real = []\n",
    "            test_loss = 0\n",
    "            model.eval()\n",
    "            for it, (x_batch, _) in enumerate(batch_generator):\n",
    "                x_batch = x_batch.to(model.device)\n",
    "\n",
    "                output = model(x_batch)\n",
    "\n",
    "                test_loss += self.loss_function(output, x_batch).cpu().item()*len(x_batch)\n",
    "\n",
    "                pred.extend(torch.argmax(output, dim=-1).cpu().numpy().tolist())\n",
    "            \n",
    "            test_loss /= len(self.dataset)\n",
    "            \n",
    "            self.writer.add_scalar('LOSS/test', test_loss, self.step)\n",
    "\n",
    "            x = x_batch[-10:]\n",
    "            \n",
    "            fig = plt.figure(figsize=(12, 12 / 10 * (x.shape[0] // 10 + 1)))\n",
    "            gs = gridspec.GridSpec(1, x.shape[0])\n",
    "            for i in range(x.shape[0]):\n",
    "                ax = fig.add_subplot(gs[i])\n",
    "                ax.imshow(model(x.to(model.device)).cpu().data[i].view(*digit_size).numpy(), cmap='Greys_r', interpolation='lanczos')\n",
    "                ax.axis('off')\n",
    "                    \n",
    "            self.writer.add_figure('VISUAL/decoded', fig, self.step)\n",
    "          \n",
    "    def __call__(self, model, loss):\n",
    "        return self.forward(model, loss)"
   ]
  },
  {
   "cell_type": "markdown",
   "metadata": {
    "id": "_sqA2WHaMSPQ",
    "slideshow": {
     "slide_type": "slide"
    }
   },
   "source": [
    "### Линейный Автокодировщик"
   ]
  },
  {
   "cell_type": "markdown",
   "metadata": {
    "id": "cNmrueoeVrZw",
    "slideshow": {
     "slide_type": "subslide"
    }
   },
   "source": [
    "#### Данные"
   ]
  },
  {
   "cell_type": "code",
   "execution_count": null,
   "metadata": {
    "id": "E-FbiZB-MSPQ",
    "slideshow": {
     "slide_type": "subslide"
    }
   },
   "outputs": [],
   "source": [
    "preprocess = transforms.Compose([transforms.ToTensor(), \n",
    "                                 torch.FloatTensor, \n",
    "                                 lambda x: x.view(784)])"
   ]
  },
  {
   "cell_type": "code",
   "execution_count": null,
   "metadata": {
    "id": "JOCjz2TUMSPQ",
    "slideshow": {
     "slide_type": "fragment"
    }
   },
   "outputs": [],
   "source": [
    "MNIST_train = datasets.MNIST('./mnist', train=True, download=True, \n",
    "                             transform=preprocess)\n",
    "\n",
    "MNIST_test = datasets.MNIST('./mnist', train=False, download=True,\n",
    "                            transform=preprocess)"
   ]
  },
  {
   "cell_type": "code",
   "execution_count": null,
   "metadata": {
    "id": "MuJgVfmwMSPQ",
    "slideshow": {
     "slide_type": "subslide"
    }
   },
   "outputs": [],
   "source": [
    "for x_batch, y_batch in torch.utils.data.DataLoader(dataset=MNIST_train, batch_size=64, shuffle=True):\n",
    "    pass"
   ]
  },
  {
   "cell_type": "code",
   "execution_count": null,
   "metadata": {
    "colab": {
     "base_uri": "https://localhost:8080/",
     "height": 88
    },
    "id": "SoAsJHYVMSPR",
    "outputId": "157a5886-984d-47cd-e31a-d80fe2287f77",
    "slideshow": {
     "slide_type": "fragment"
    }
   },
   "outputs": [
    {
     "data": {
      "image/png": "[encoded data removed]",
      "text/plain": [
       "<Figure size 864x172.8 with 10 Axes>"
      ]
     },
     "metadata": {
      "needs_background": "light",
      "tags": []
     },
     "output_type": "display_data"
    }
   ],
   "source": [
    "x = x_batch[-10:]\n",
    "plt.figure(figsize=(12, 12 / 10 * (x.shape[0] // 10 + 1)))\n",
    "for i in range(x.shape[0]):\n",
    "    plt.subplot(x.shape[0] // 10 + 1, 10, i + 1)\n",
    "    plt.imshow(x.data[i].view(*digit_size).numpy(), cmap='Greys_r', interpolation='lanczos')\n",
    "    plt.axis('off')\n",
    "        \n",
    "plt.show()"
   ]
  },
  {
   "cell_type": "markdown",
   "metadata": {
    "id": "-_FGHGKYe0DM",
    "slideshow": {
     "slide_type": "subslide"
    }
   },
   "source": [
    "#### Модель"
   ]
  },
  {
   "cell_type": "code",
   "execution_count": null,
   "metadata": {
    "id": "SXunTUISMSPS",
    "slideshow": {
     "slide_type": "subslide"
    }
   },
   "outputs": [],
   "source": [
    "class Encoder(torch.nn.Module):\n",
    "    @property\n",
    "    def device(self):\n",
    "        return next(self.parameters()).device\n",
    "\n",
    "    def __init__(self, object_dim, d):\n",
    "        super(type(self), self).__init__()\n",
    "        self.object_dim = object_dim\n",
    "        self.d = d\n",
    "        \n",
    "        self.linear = torch.nn.Linear(object_dim, d)\n",
    "        \n",
    "    def forward(self, x):\n",
    "        return self.linear(x)"
   ]
  },
  {
   "cell_type": "code",
   "execution_count": null,
   "metadata": {
    "id": "I-P40h8TMSPS",
    "slideshow": {
     "slide_type": "subslide"
    }
   },
   "outputs": [],
   "source": [
    "class Decoder(torch.nn.Module):\n",
    "    @property\n",
    "    def device(self):\n",
    "        return next(self.parameters()).device\n",
    "\n",
    "    def __init__(self, d, object_dim):\n",
    "        super(type(self), self).__init__()\n",
    "        self.object_dim = object_dim\n",
    "        self.d = d\n",
    "        \n",
    "        self.linear = torch.nn.Linear(d, object_dim)\n",
    "        \n",
    "    def forward(self, x):\n",
    "        return self.linear(x)"
   ]
  },
  {
   "cell_type": "code",
   "execution_count": null,
   "metadata": {
    "id": "kpwQG80LMSPS",
    "slideshow": {
     "slide_type": "subslide"
    }
   },
   "outputs": [],
   "source": [
    "class Autoencoder(torch.nn.Module):\n",
    "    @property\n",
    "    def device(self):\n",
    "        return next(self.parameters()).device\n",
    "\n",
    "    def __init__(self, object_dim, d):\n",
    "        super(type(self), self).__init__()\n",
    "        self.object_dim = object_dim\n",
    "        self.d = d\n",
    "        \n",
    "        self.encoder = Encoder(np.prod(digit_size), d)\n",
    "        self.decoder = Decoder(d, np.prod(digit_size))\n",
    "        \n",
    "    def forward(self, x):\n",
    "        return self.decode(self.encode(x))\n",
    "    \n",
    "    def encode(self, x):\n",
    "        return self.encoder(x)\n",
    "    \n",
    "    def decode(self, z):\n",
    "        return self.decoder(z)"
   ]
  },
  {
   "cell_type": "markdown",
   "metadata": {
    "id": "rkaIDHwAMSPU",
    "slideshow": {
     "slide_type": "subslide"
    }
   },
   "source": [
    "#### Определение модели"
   ]
  },
  {
   "cell_type": "code",
   "execution_count": null,
   "metadata": {
    "id": "nIs7TFlCMSPU",
    "slideshow": {
     "slide_type": "subslide"
    }
   },
   "outputs": [],
   "source": [
    "loss_function = torch.nn.MSELoss()\n",
    "optimizer = torch.optim.Adam"
   ]
  },
  {
   "cell_type": "markdown",
   "metadata": {
    "id": "EMVySnTbRcvI",
    "slideshow": {
     "slide_type": "subslide"
    }
   },
   "source": [
    "#### Перебор разного d: обучение модели"
   ]
  },
  {
   "cell_type": "code",
   "execution_count": null,
   "metadata": {
    "id": "E2SnLdSzRa9l",
    "slideshow": {
     "slide_type": "fragment"
    }
   },
   "outputs": [],
   "source": [
    "for d in [2, 4, 8, 16, 32, 64]:\n",
    "    autoencoder = Autoencoder(np.prod(digit_size), d)\n",
    "    autoencoder.to(device)\n",
    "\n",
    "    writer = SummaryWriter(log_dir = 'autoencoder-linear/{}'.format(d))\n",
    "\n",
    "    call = callback(writer, MNIST_test, loss_function, delimeter = 100)\n",
    "\n",
    "    trainer(count_of_epoch=5, \n",
    "            batch_size=64, \n",
    "            dataset=MNIST_train,\n",
    "            model=autoencoder, \n",
    "            loss_function=loss_function,\n",
    "            optimizer = optimizer,\n",
    "            lr = 0.001,\n",
    "            callback = call)"
   ]
  },
  {
   "cell_type": "markdown",
   "metadata": {
    "id": "k2yKXsqNMSPW",
    "slideshow": {
     "slide_type": "slide"
    }
   },
   "source": [
    "### Нейросетевой автокодировщик "
   ]
  },
  {
   "cell_type": "markdown",
   "metadata": {
    "id": "t05EFVAafbvi",
    "slideshow": {
     "slide_type": "subslide"
    }
   },
   "source": [
    "#### Данные"
   ]
  },
  {
   "cell_type": "code",
   "execution_count": null,
   "metadata": {
    "id": "xEBAXqo5Yzxn",
    "slideshow": {
     "slide_type": "fragment"
    }
   },
   "outputs": [],
   "source": [
    "preprocess = transforms.Compose([transforms.ToTensor(), \n",
    "                                 torch.FloatTensor])"
   ]
  },
  {
   "cell_type": "code",
   "execution_count": null,
   "metadata": {
    "id": "s1xXXsVKYzxo",
    "slideshow": {
     "slide_type": "fragment"
    }
   },
   "outputs": [],
   "source": [
    "MNIST_train = datasets.MNIST('./mnist', train=True, download=True, \n",
    "                             transform=preprocess)\n",
    "\n",
    "MNIST_test = datasets.MNIST('./mnist', train=False, download=True,\n",
    "                            transform=preprocess)"
   ]
  },
  {
   "cell_type": "markdown",
   "metadata": {
    "id": "kbW2bUIwfezO",
    "slideshow": {
     "slide_type": "slide"
    }
   },
   "source": [
    "#### Модель"
   ]
  },
  {
   "cell_type": "code",
   "execution_count": null,
   "metadata": {
    "colab": {
     "base_uri": "https://localhost:8080/"
    },
    "id": "9-NoOA7MVxDg",
    "outputId": "5716bfc3-c68f-46ab-be1e-1c9562522e5d",
    "slideshow": {
     "slide_type": "subslide"
    }
   },
   "outputs": [],
   "source": [
    "class EncoderCNN(torch.nn.Module):\n",
    "    @property\n",
    "    def device(self):\n",
    "        return next(self.parameters()).device\n",
    "\n",
    "    def __init__(self, d):\n",
    "        super(type(self), self).__init__()\n",
    "        self.d = d\n",
    "\n",
    "        self.layers = torch.nn.Sequential()\n",
    "        self.layers.add_module('conv1', torch.nn.Conv2d(1, 6, kernel_size = 5))\n",
    "        self.layers.add_module('bnorm1', torch.nn.BatchNorm2d(6))\n",
    "        self.layers.add_module('relu1', torch.nn.ReLU())\n",
    "        self.layers.add_module('pool1', torch.nn.MaxPool2d(kernel_size = 2))\n",
    "        \n",
    "        self.layers.add_module('conv2', torch.nn.Conv2d(6, 16, kernel_size = 5))\n",
    "        self.layers.add_module('bnorm2', torch.nn.BatchNorm2d(16))\n",
    "        self.layers.add_module('relu2', torch.nn.ReLU())\n",
    "        self.layers.add_module('pool2', torch.nn.MaxPool2d(kernel_size = 2))\n",
    "        \n",
    "        self.layers.add_module('conv3', torch.nn.Conv2d(16, self.d, kernel_size = 3))\n",
    "        self.layers.add_module('relu3', torch.nn.ReLU())\n",
    "        self.layers.add_module('pool3', torch.nn.MaxPool2d(kernel_size = 2))\n",
    "\n",
    "        self.layers.add_module('flatten', torch.nn.Flatten())\n",
    "\n",
    "    def forward(self, input):\n",
    "        return self.layers(input)"
   ]
  },
  {
   "cell_type": "code",
   "execution_count": null,
   "metadata": {
    "id": "YxkWhXiGadOh",
    "slideshow": {
     "slide_type": "subslide"
    }
   },
   "outputs": [],
   "source": [
    "class Reshape(torch.nn.Module):\n",
    "    @property\n",
    "    def device(self):\n",
    "        return next(self.parameters()).device\n",
    "\n",
    "    def __init__(self, *args):\n",
    "        super(type(self), self).__init__()\n",
    "        self.dims = args\n",
    "\n",
    "    def forward(self, input):\n",
    "        return input.view(input.size(0), *self.dims)"
   ]
  },
  {
   "cell_type": "code",
   "execution_count": null,
   "metadata": {
    "id": "YgGfbx9SXyxw",
    "slideshow": {
     "slide_type": "subslide"
    }
   },
   "outputs": [],
   "source": [
    "class DecoderCNN(torch.nn.Module):\n",
    "    @property\n",
    "    def device(self):\n",
    "        return next(self.parameters()).device\n",
    "\n",
    "    def __init__(self, d):\n",
    "        super(type(self), self).__init__()\n",
    "        self.d = d\n",
    "\n",
    "        self.layers = torch.nn.Sequential()\n",
    "        self.layers.add_module('reshape1', Reshape(self.d, 1, 1))\n",
    "        \n",
    "        self.layers.add_module('conv1', torch.nn.ConvTranspose2d(self.d, 128, 4, 1, 0, 0, bias=False))\n",
    "        self.layers.add_module('bnorm1', torch.nn.BatchNorm2d(128))\n",
    "        self.layers.add_module('relu1', torch.nn.ReLU())\n",
    "        \n",
    "        self.layers.add_module('conv2', torch.nn.ConvTranspose2d(128, 64, 3, 2, 1, 0, bias=False))\n",
    "        self.layers.add_module('bnorm2', torch.nn.BatchNorm2d(64))\n",
    "        self.layers.add_module('relu2', torch.nn.ReLU())\n",
    "        \n",
    "        self.layers.add_module('conv3', torch.nn.ConvTranspose2d(64, 32, 3, 2, 1, 1, bias=False))\n",
    "        self.layers.add_module('bnorm3', torch.nn.BatchNorm2d(32))\n",
    "        self.layers.add_module('relu3', torch.nn.ReLU())\n",
    "\n",
    "        self.layers.add_module('conv4', torch.nn.ConvTranspose2d(32, 1, 4, 2, 1, 0, bias=False))\n",
    "        self.layers.add_module('relu4', torch.nn.ReLU())\n",
    "        \n",
    "        self.layers.add_module('sigmoid', torch.nn.Sigmoid())\n",
    "        \n",
    "    def forward(self, x):\n",
    "        return self.layers(x)"
   ]
  },
  {
   "cell_type": "code",
   "execution_count": null,
   "metadata": {
    "id": "mMvQhigRbwCa",
    "slideshow": {
     "slide_type": "subslide"
    }
   },
   "outputs": [],
   "source": [
    "class AutoencoderCNN(torch.nn.Module):\n",
    "    @property\n",
    "    def device(self):\n",
    "        return next(self.parameters()).device\n",
    "\n",
    "    def __init__(self, d):\n",
    "        super(type(self), self).__init__()\n",
    "        self.d = d\n",
    "        \n",
    "        self.encoder = EncoderCNN(d)\n",
    "        self.decoder = DecoderCNN(d)\n",
    "        \n",
    "    def forward(self, x):\n",
    "        return self.decode(self.encode(x))\n",
    "    \n",
    "    def encode(self, x):\n",
    "        return self.encoder(x)\n",
    "    \n",
    "    def decode(self, z):\n",
    "        return self.decoder(z)"
   ]
  },
  {
   "cell_type": "markdown",
   "metadata": {
    "id": "L6GydQ8xcI5S",
    "slideshow": {
     "slide_type": "subslide"
    }
   },
   "source": [
    "#### Определение модели"
   ]
  },
  {
   "cell_type": "code",
   "execution_count": null,
   "metadata": {
    "id": "VAXkjComcI5V",
    "slideshow": {
     "slide_type": "fragment"
    }
   },
   "outputs": [],
   "source": [
    "loss_function = torch.nn.MSELoss()\n",
    "optimizer = torch.optim.Adam"
   ]
  },
  {
   "cell_type": "markdown",
   "metadata": {
    "id": "gx6KwOxWcI5W",
    "slideshow": {
     "slide_type": "subslide"
    }
   },
   "source": [
    "#### Перебор разного d: обучение модели"
   ]
  },
  {
   "cell_type": "code",
   "execution_count": null,
   "metadata": {
    "id": "1nxhq5Tcbn7p",
    "slideshow": {
     "slide_type": "fragment"
    }
   },
   "outputs": [],
   "source": [
    "for d in [2, 4, 8, 16, 32, 64]:\n",
    "    autoencoder = AutoencoderCNN(d)\n",
    "    autoencoder.to(device)\n",
    "\n",
    "    writer = SummaryWriter(log_dir = 'autoencoder-cnn/{}'.format(d))\n",
    "    call = callback(writer, MNIST_test, loss_function, delimeter = 100)\n",
    "\n",
    "    trainer(count_of_epoch=5, \n",
    "            batch_size=64, \n",
    "            dataset=MNIST_train,\n",
    "            model=autoencoder, \n",
    "            loss_function=loss_function,\n",
    "            optimizer = optimizer,\n",
    "            lr = 0.001,\n",
    "            callback = call)"
   ]
  },
  {
   "cell_type": "markdown",
   "metadata": {
    "id": "wM3gKcgGMSPW",
    "slideshow": {
     "slide_type": "slide"
    }
   },
   "source": [
    "### Вариационный автокодировщик"
   ]
  },
  {
   "cell_type": "markdown",
   "metadata": {
    "id": "kPnQm_lEluQU",
    "slideshow": {
     "slide_type": "subslide"
    }
   },
   "source": [
    "#### Модель"
   ]
  },
  {
   "cell_type": "code",
   "execution_count": 9,
   "metadata": {
    "id": "0DSQY6qfke2U",
    "slideshow": {
     "slide_type": "skip"
    }
   },
   "outputs": [],
   "source": [
    "class VAE(torch.nn.Module):\n",
    "    @property\n",
    "    def device(self):\n",
    "        return next(self.parameters()).device\n",
    "\n",
    "    def __init__(self, latent_dim, input_dim, hidden_dim=200):\n",
    "        \"\"\"\n",
    "        Standart model of VAE with ELBO optimization.\n",
    "        Args:\n",
    "            latent_dim: int - the dimension of latent space.\n",
    "            input_dim: int - the dimension of input space.\n",
    "            hidden_dim: int - the size of hidden_dim neural layer.\n",
    "        Returns:\n",
    "            None\n",
    "        Example:\n",
    "            >>> model = VAE(2, 10)\n",
    "        \"\"\"\n",
    "        super(VAE, self).__init__()\n",
    "        self.latent_dim = latent_dim\n",
    "        self.input_dim = input_dim\n",
    "        self.hidden_dim = hidden_dim\n",
    "\n",
    "        self.proposal_z = torch.nn.Sequential(\n",
    "            torch.nn.Linear(self.input_dim, hidden_dim),\n",
    "            torch.nn.LeakyReLU(),\n",
    "        )\n",
    "        self.proposal_mu = torch.nn.Linear(hidden_dim, self.latent_dim)\n",
    "        self.proposal_sigma = torch.nn.Linear(hidden_dim, self.latent_dim)\n",
    "\n",
    "        self.generative_network = torch.nn.Sequential(\n",
    "            torch.nn.Linear(self.latent_dim, hidden_dim),\n",
    "            torch.nn.LeakyReLU(),\n",
    "            torch.nn.Linear(hidden_dim, self.input_dim),\n",
    "            torch.nn.Sigmoid()\n",
    "        )\n",
    "\n",
    "    def q_z(self, x):\n",
    "        \"\"\"\n",
    "        Generates distribution of z provided x.\n",
    "        Args:\n",
    "            x: Tensor - the matrix of shape batch_size x input_dim.\n",
    "        Returns:\n",
    "            tuple(Tensor, Tensor) - the normal distribution parameters.\n",
    "            mu: Tensor - the matrix of shape batch_size x latent_dim.\n",
    "            sigma: Tensor - the matrix of shape batch_size x latent_dim.\n",
    "        Example:\n",
    "            >>>\n",
    "        \"\"\"\n",
    "        x = x.to(self.device)\n",
    "\n",
    "        proposal = self.proposal_z(x)\n",
    "        mu = self.proposal_mu(proposal)\n",
    "        sigma = torch.nn.Softplus()(self.proposal_sigma(proposal))\n",
    "        return mu, sigma\n",
    "\n",
    "    def p_z(self, num_samples):\n",
    "        \"\"\"\n",
    "        Generetes prior distribution of z.\n",
    "        Args:\n",
    "            num_samples: int - the number of samples.\n",
    "        Returns:\n",
    "            tuple(Tensor, Tensor) - the normal distribution parameters.\n",
    "                mu: Tensor - the matrix of shape num_samples x latent_dim.\n",
    "            \tsigma: Tensor - the matrix of shape num_samples x latent_dim.\n",
    "        Example:\n",
    "            >>>\n",
    "        \"\"\"\n",
    "        mu = torch.zeros([num_samples, self.latent_dim], device=self.device)\n",
    "        sigma = torch.ones([num_samples, self.latent_dim], device=self.device)\n",
    "        return mu, sigma\n",
    "\n",
    "    def sample_z(self, distr, num_samples=1):\n",
    "        \"\"\"\n",
    "        Generates samples from normal distribution q(z|x).\n",
    "        Args:\n",
    "            distr = (mu, sigma): tuple(Tensor, Tensor) - the normal distribution parameters.\n",
    "                mu: Tensor - the matrix of shape batch_size x latent_dim.\n",
    "                sigma: Tensor - the matrix of shape batch_size x latent_dim.\n",
    "            num_samples: int - the number of samples for each element.\n",
    "        Returns:\n",
    "            Tensor - the tensor of shape batch_size x num_samples x latent_dim - samples from normal distribution in latent space.\n",
    "        Example:\n",
    "            >>>\n",
    "        \"\"\"\n",
    "        mu, sigma = distr\n",
    "        mu = mu.to(self.device)\n",
    "        sigma = sigma.to(self.device)\n",
    "\n",
    "        batch_size = mu.shape[0]\n",
    "\n",
    "        bias = mu.view([batch_size, 1, self.latent_dim])\n",
    "\n",
    "        epsilon = torch.randn([batch_size, num_samples, self.latent_dim],\n",
    "                              requires_grad=True,\n",
    "                              device=self.device)\n",
    "        scale = sigma.view([batch_size, 1, self.latent_dim])\n",
    "\n",
    "        return bias + epsilon * scale\n",
    "\n",
    "    def q_x(self, z):\n",
    "        \"\"\"\n",
    "        Given the latent representation matrix z, returns the matrix of Bernoulli distribution parameters for sampling x objects.\n",
    "        Args:\n",
    "            z: Tensor - the tensor of shape batch_size x num_samples x latent_dim, samples from latent space.\n",
    "        Returns:\n",
    "            Tensor - the tensor of shape batch_size x num_samples x input_dim, Bernoulli distribution parameters.\n",
    "        Example:\n",
    "            >>>\n",
    "        \"\"\"\n",
    "        z = z.to(self.device)\n",
    "        out = self.generative_network(z)\n",
    "\n",
    "        return torch.clamp(out, 0.01, 0.99)\n",
    "\n",
    "    def loss(self, batch_x, batch_y):\n",
    "        \"\"\"\n",
    "        Calculate ELBO approximation of log likelihood for given batch with negative sign.\n",
    "        Args:\n",
    "            batch_x: FloatTensor - the matrix of shape batch_size x input_dim.\n",
    "            batch_y: FloatTensor - dont uses parameter in this model.\n",
    "        Returns:\n",
    "            Tensor - scalar, ELBO approximation of log likelihood for given batch with negative sign.\n",
    "        Example:\n",
    "            >>>\n",
    "        \"\"\"\n",
    "        batch_x = batch_x.to(self.device)\n",
    "        batch_y = batch_y.to(self.device)\n",
    "\n",
    "        batch_size = batch_x.shape[0]\n",
    "\n",
    "        propos_distr = self.q_z(batch_x)\n",
    "        pri_distr = self.p_z(batch_size)\n",
    "\n",
    "        x_distr = self.q_x(self.sample_z(propos_distr))\n",
    "\n",
    "        expectation = torch.mean(\n",
    "            self.log_mean_exp(\n",
    "                self.log_likelihood(\n",
    "                    batch_x, x_distr)), dim=0)\n",
    "\n",
    "        divergence = self.divergence_KL_normal(propos_distr, pri_distr)\n",
    "\n",
    "        return -1 * torch.mean(expectation - divergence, dim=0)\n",
    "\n",
    "    def generate_samples(self, num_samples):\n",
    "        \"\"\"\n",
    "        Generate samples of object x from noises in latent space.\n",
    "        Args:\n",
    "            num_samples: int - the number of samples, witch need to generate.\n",
    "        Returns:\n",
    "            Tensor - the matrix of shape num_samples x input_dim.\n",
    "        Example:\n",
    "            >>>\n",
    "        \"\"\"\n",
    "        distr_z = self.p_z(num_samples=1)\n",
    "\n",
    "        z = self.sample_z(distr, num_samples=num_samples)\n",
    "\n",
    "        distr_x = self.q_x(z).view([num_samples, -1])\n",
    "\n",
    "        return torch.bernoulli(distr_x, device=self.device)\n",
    "\n",
    "    @staticmethod\n",
    "    def log_pdf_normal(distr, samples):\n",
    "        \"\"\"\n",
    "        The function calculates the logarithm of the probability density at a point relative to the corresponding normal distribution given componentwise by its mean and standard deviation.\n",
    "        Args:\n",
    "            distr = (mu, sigma): tuple(Tensor, Tensor) - the normal distribution parameters.\n",
    "                mu: Tensor - the matrix of shape batch_size x latent_dim.\n",
    "                sigma: Tensor - the matrix of shape batch_size x latent_dim.\n",
    "            samples: Tensor - the tensor of shape batch_size x num_samples x latent_dim, samples in latent space.\n",
    "        Returns:\n",
    "            Tensor - the matrix of shape batch_size x num_samples, each element of which is the logarithm of the probability density of a point relative to the corresponding distribution.\n",
    "        Example:\n",
    "            >>>\n",
    "        \"\"\"\n",
    "        mu, sigma = distr\n",
    "\n",
    "        batch_size = mu.shape[0]\n",
    "        latent_dim = mu.shape[1]\n",
    "\n",
    "        f1 = torch.sum(((samples -\n",
    "                         mu.view([batch_size, 1, latent_dim]))**2) /\n",
    "                       sigma.view([batch_size, 1, latent_dim])**2, dim=2)\n",
    "        f2 = mu.shape[1] * (math.log(2) + math.log(math.pi))\n",
    "        f3 = torch.sum(torch.log(sigma), dim=1).view(batch_size, 1)\n",
    "        return -0.5 * (f1 + f2) - f3\n",
    "\n",
    "    @staticmethod\n",
    "    def log_likelihood(x_true, x_distr):\n",
    "        \"\"\"\n",
    "        Calculate log likelihood between x_true and x_distr.\n",
    "        Args:\n",
    "            x_true:  Tensor - the matrix of shape batch_size x input_dim.\n",
    "            x_distr: Tensor - the tensor of shape batch_size x num_samples x input_dim, Bernoulli distribution parameters.\n",
    "        Returns:\n",
    "            Tensor - the matrix of shape batch_size x num_samples - log likelihood for each sample.\n",
    "        Example:\n",
    "            >>>\n",
    "        \"\"\"\n",
    "        batch_size = x_distr.shape[0]\n",
    "        input_dim = x_distr.shape[2]\n",
    "\n",
    "        bernoulli_log_likelihood = torch.log(\n",
    "            x_distr) * x_true.view([batch_size, 1, input_dim])\n",
    "        bernoulli_log_likelihood += torch.log(1 - x_distr) * (\n",
    "            1 - x_true).view([batch_size, 1, input_dim])\n",
    "\n",
    "        return torch.sum(bernoulli_log_likelihood, dim=2)\n",
    "\n",
    "    @staticmethod\n",
    "    def log_mean_exp(data):\n",
    "        \"\"\"\n",
    "        Args:\n",
    "            data: Tensor - the tensor of shape n_1 x n_2 x ... x n_K.\n",
    "        Returns:\n",
    "            Tensor - the tensor of shape n_1 x n_2 x ,,, x n_{K - 1}.\n",
    "        Example:\n",
    "            >>>\n",
    "        \"\"\"\n",
    "\n",
    "        return torch.logsumexp(data, dim=-1) - \\\n",
    "            torch.log(torch.Tensor([data.shape[-1]]).to(data.device))\n",
    "\n",
    "    @staticmethod\n",
    "    def divergence_KL_normal(q_distr, p_distr):\n",
    "        \"\"\"\n",
    "        Calculate KL-divergence KL(q||p) between n-pairs of normal distribution.\n",
    "        Args:\n",
    "            q_distr=(mu, sigma): tuple(Tensor, Tensor) - the normal distribution parameters.\n",
    "                mu: Tensor - the matrix of shape batch_size x latent_dim.\n",
    "                sigma: Tensor - the matrix of shape batch_size x latent_dim.\n",
    "            p_distr=(mu, sigma): tuple(Tensor, Tensor) - the normal distribution parameters.\n",
    "                mu: Tensor - the matrix of shape batch_size x latent_dim.\n",
    "                sigma: Tensor - the matrix of shape batch_size x latent_dim.\n",
    "        Returns:\n",
    "            Tensor - the vector of shape n, each value of which is a KL-divergence between pair of normal distribution.\n",
    "        Example:\n",
    "            >>>\n",
    "        \"\"\"\n",
    "        q_mu, q_sigma = q_distr\n",
    "        p_mu, p_sigma = p_distr\n",
    "\n",
    "        D_KL = torch.sum((q_sigma / p_sigma)**2, dim=1)\n",
    "        D_KL -= p_mu.shape[1]\n",
    "        D_KL += 2 * torch.sum(torch.log(p_sigma), dim=1) - \\\n",
    "            2 * torch.sum(torch.log(q_sigma), dim=1)\n",
    "        D_KL += torch.sum((p_mu - q_mu) * (p_mu - q_mu) / (p_sigma**2), dim=1)\n",
    "        return 0.5 * D_KL\n",
    "\n",
    "    def forward(self, x):\n",
    "      \"\"\"\n",
    "        Generate decoded sample after encoding.\n",
    "        Args:\n",
    "            x: Tensor - the matrix of shape batch_size x input_dim.\n",
    "        Returns:\n",
    "            Tensor - the matrix of shape batch_size x input_dim.\n",
    "        Example:\n",
    "            >>>\n",
    "        \"\"\"\n",
    "      return self.q_x(self.sample_z(self.q_z(x))).view_as(x)\n"
   ]
  },
  {
   "cell_type": "markdown",
   "metadata": {
    "id": "9WYJ_mwgmDeG",
    "slideshow": {
     "slide_type": "subslide"
    }
   },
   "source": [
    "#### Скрипты для обучение VAE"
   ]
  },
  {
   "cell_type": "code",
   "execution_count": 10,
   "metadata": {
    "id": "y5nqzt8fmN4M",
    "slideshow": {
     "slide_type": "fragment"
    }
   },
   "outputs": [],
   "source": [
    "def train_on_batch(model, x_batch, y_batch, optimizer, loss_function):\n",
    "    model.train()\n",
    "    optimizer.zero_grad()\n",
    "    \n",
    "    loss = model.loss(x_batch.to(model.device), y_batch.to(model.device))\n",
    "    loss.backward()\n",
    "\n",
    "    optimizer.step()\n",
    "    return loss.cpu().item()"
   ]
  },
  {
   "cell_type": "markdown",
   "metadata": {
    "id": "219UdCzZoE-4",
    "slideshow": {
     "slide_type": "subslide"
    }
   },
   "source": [
    "#### Данные"
   ]
  },
  {
   "cell_type": "code",
   "execution_count": 11,
   "metadata": {
    "id": "X-5KlkdwoQwM",
    "slideshow": {
     "slide_type": "fragment"
    }
   },
   "outputs": [],
   "source": [
    "preprocess = transforms.Compose([transforms.ToTensor(), \n",
    "                                 torch.FloatTensor, \n",
    "                                 lambda x: x.view(784)])"
   ]
  },
  {
   "cell_type": "code",
   "execution_count": null,
   "metadata": {
    "id": "Iq4ZRNcroQwN",
    "slideshow": {
     "slide_type": "fragment"
    }
   },
   "outputs": [],
   "source": [
    "MNIST_train = datasets.MNIST('./mnist', train=True, download=True, \n",
    "                             transform=preprocess)\n",
    "\n",
    "MNIST_test = datasets.MNIST('./mnist', train=False, download=True,\n",
    "                            transform=preprocess)"
   ]
  },
  {
   "cell_type": "markdown",
   "metadata": {
    "id": "S3rpGy8Ul0tG",
    "slideshow": {
     "slide_type": "subslide"
    }
   },
   "source": [
    "#### Инициализация модели"
   ]
  },
  {
   "cell_type": "code",
   "execution_count": 14,
   "metadata": {
    "id": "m8mIbkWTkltO",
    "slideshow": {
     "slide_type": "fragment"
    }
   },
   "outputs": [],
   "source": [
    "optimizer = torch.optim.Adam\n",
    "loss_function = torch.nn.MSELoss()"
   ]
  },
  {
   "cell_type": "markdown",
   "metadata": {
    "id": "1Pgw8VSP7LRU",
    "slideshow": {
     "slide_type": "subslide"
    }
   },
   "source": [
    "#### Перебор разного размера латентного пространства"
   ]
  },
  {
   "cell_type": "code",
   "execution_count": null,
   "metadata": {
    "id": "HNQrh5nNtOtq",
    "slideshow": {
     "slide_type": "fragment"
    }
   },
   "outputs": [],
   "source": [
    "for d in [64, 32, 16, 8, 4, 2]:\n",
    "    autoencoder = VAE(d, 28*28)\n",
    "    autoencoder.to(device)\n",
    "\n",
    "    writer = SummaryWriter(log_dir = 'autoencoder-vae/{}'.format(d))\n",
    "    call = callback(writer, MNIST_test, loss_function, delimeter = 100)\n",
    "\n",
    "    trainer(count_of_epoch=10, \n",
    "            batch_size=64, \n",
    "            dataset=MNIST_train,\n",
    "            model=autoencoder, \n",
    "            loss_function=None,\n",
    "            optimizer = optimizer,\n",
    "            lr = 0.001,\n",
    "            callback = call)"
   ]
  },
  {
   "cell_type": "markdown",
   "metadata": {
    "id": "RWJ-dhwSuKNI",
    "slideshow": {
     "slide_type": "subslide"
    }
   },
   "source": [
    "#### Отрисовка изменения (возмущаем скрытые вектора)"
   ]
  },
  {
   "cell_type": "code",
   "execution_count": 16,
   "metadata": {
    "id": "gtG7ELKfs6f0",
    "slideshow": {
     "slide_type": "skip"
    }
   },
   "outputs": [],
   "source": [
    "def draw_samples_grid_vae(model,\n",
    "                          num_row=15,\n",
    "                          num_colum=15,\n",
    "                          images_size=(28, 28)):\n",
    "    \"\"\"\n",
    "    Illustrate how change digits x where change point in latent space z.\n",
    "    Args:\n",
    "        model: nn.Module - model VAE or IWAE.\n",
    "        num_row: int - the number of row.\n",
    "        num_colum: int - the number of column.\n",
    "        images_size = (x_size, y_size): tuple(int, int) - a size of input image.\n",
    "    Returns:\n",
    "        figure: float - the picture\n",
    "    Example:\n",
    "        >>>\n",
    "    \"\"\"\n",
    "    grid_x = norm.ppf(np.linspace(0.05, 0.95, num_colum))\n",
    "    grid_y = norm.ppf(np.linspace(0.05, 0.95, num_row))\n",
    "\n",
    "    figure = np.zeros((images_size[0] * num_colum, images_size[1] * num_row))\n",
    "    for i, y_i in enumerate(grid_x):\n",
    "        for j, x_i in enumerate(grid_y):\n",
    "            z_sample = np.array([[x_i, y_i]])\n",
    "\n",
    "            x_sample = model.q_x(torch.from_numpy(z_sample).float()).view(\n",
    "                images_size).cpu().data.numpy()\n",
    "\n",
    "            image = x_sample\n",
    "            figure[i * images_size[0]: (i + 1) * images_size[0],\n",
    "                   j * images_size[1]: (j + 1) * images_size[1]] = image\n",
    "\n",
    "    return figure"
   ]
  },
  {
   "cell_type": "code",
   "execution_count": 19,
   "metadata": {
    "colab": {
     "base_uri": "https://localhost:8080/",
     "height": 575
    },
    "id": "OizKj4aDs5Qm",
    "outputId": "0c16da15-7a64-4bf2-a513-de66e270ebdc",
    "slideshow": {
     "slide_type": "subslide"
    }
   },
   "outputs": [
    {
     "data": {
      "image/png": "[encoded data removed]",
      "text/plain": [
       "<Figure size 720x720 with 1 Axes>"
      ]
     },
     "metadata": {
      "needs_background": "light",
      "tags": []
     },
     "output_type": "display_data"
    }
   ],
   "source": [
    "figure = draw_samples_grid_vae(autoencoder)\n",
    "\n",
    "plt.figure(figsize=(10, 10))\n",
    "plt.imshow(figure, cmap='Greys_r', interpolation='lanczos')\n",
    "plt.axis('off')\n",
    "plt.show()"
   ]
  },
  {
   "cell_type": "markdown",
   "metadata": {
    "id": "aDCSUeWyMSPW",
    "slideshow": {
     "slide_type": "slide"
    }
   },
   "source": [
    "## Transfer Learning"
   ]
  },
  {
   "cell_type": "markdown",
   "metadata": {
    "id": "SZcwXF6zMSPX",
    "slideshow": {
     "slide_type": "subslide"
    }
   },
   "source": [
    "### Предобученые модели"
   ]
  },
  {
   "cell_type": "markdown",
   "metadata": {
    "id": "oa63o8K14729",
    "slideshow": {
     "slide_type": "subslide"
    }
   },
   "source": [
    "#### Загрузим данные котиков и собачек"
   ]
  },
  {
   "cell_type": "code",
   "execution_count": 6,
   "metadata": {
    "id": "gucf9x_O1TY_",
    "slideshow": {
     "slide_type": "fragment"
    }
   },
   "outputs": [],
   "source": [
    "!wget -q https://storage.googleapis.com/mledu-datasets/cats_and_dogs_filtered.zip\n",
    "!unzip -qq cats_and_dogs_filtered.zip"
   ]
  },
  {
   "cell_type": "code",
   "execution_count": 7,
   "metadata": {
    "id": "qk19Hyx92uk2",
    "slideshow": {
     "slide_type": "subslide"
    }
   },
   "outputs": [],
   "source": [
    "preprocess = transforms.Compose([\n",
    "    transforms.Resize(256),\n",
    "    transforms.CenterCrop(224),\n",
    "    transforms.ToTensor(),\n",
    "    transforms.Normalize(mean=[0.485, 0.456, 0.406], std=[0.229, 0.224, 0.225]),\n",
    "])\n",
    "\n",
    "CatDogs_train = datasets.ImageFolder(root = 'cats_and_dogs_filtered/train/', \n",
    "                                     transform = preprocess)\n",
    "CatDogs_test = datasets.ImageFolder(root = 'cats_and_dogs_filtered/validation/', \n",
    "                                     transform = preprocess)\n"
   ]
  },
  {
   "cell_type": "markdown",
   "metadata": {
    "id": "cphDN4B-5GgX",
    "slideshow": {
     "slide_type": "subslide"
    }
   },
   "source": [
    "#### Загрузим предобученую модель"
   ]
  },
  {
   "cell_type": "code",
   "execution_count": null,
   "metadata": {
    "colab": {
     "base_uri": "https://localhost:8080/",
     "height": 176,
     "referenced_widgets": [
      "73aa505151ee495abebec56a45558eb1",
      "91f1ca6bf44a4d7d9d730694b19c4cf3",
      "4753d921469c499eb98a9c0eae62ca37",
      "96b2fa8a47744848922b5b70b05bd326",
      "741142e41d1348b7ba2bc9a31146f3fa",
      "108e65d8f8094085a3d5861a855dec61",
      "e1146a4f159d4645b175335c94407305",
      "dfe2c05e806345ae8b78e26885be93e8"
     ]
    },
    "id": "SKz0b2eY3wxm",
    "outputId": "0f2cc911-e592-49bf-f8bc-17881c0fc05e",
    "slideshow": {
     "slide_type": "fragment"
    }
   },
   "outputs": [],
   "source": [
    "model = torch.hub.load('pytorch/vision:v0.6.0', 'resnet18', pretrained=True, verbose=False)"
   ]
  },
  {
   "cell_type": "code",
   "execution_count": 9,
   "metadata": {
    "colab": {
     "base_uri": "https://localhost:8080/"
    },
    "id": "zJEvdqlE3_9v",
    "outputId": "2173e7b9-71e1-4ef5-f782-7eaf2361a837",
    "slideshow": {
     "slide_type": "subslide"
    }
   },
   "outputs": [
    {
     "data": {
      "text/plain": [
       "ResNet(\n",
       "  (conv1): Conv2d(3, 64, kernel_size=(7, 7), stride=(2, 2), padding=(3, 3), bias=False)\n",
       "  (bn1): BatchNorm2d(64, eps=1e-05, momentum=0.1, affine=True, track_running_stats=True)\n",
       "  (relu): ReLU(inplace=True)\n",
       "  (maxpool): MaxPool2d(kernel_size=3, stride=2, padding=1, dilation=1, ceil_mode=False)\n",
       "  (layer1): Sequential(\n",
       "    (0): BasicBlock(\n",
       "      (conv1): Conv2d(64, 64, kernel_size=(3, 3), stride=(1, 1), padding=(1, 1), bias=False)\n",
       "      (bn1): BatchNorm2d(64, eps=1e-05, momentum=0.1, affine=True, track_running_stats=True)\n",
       "      (relu): ReLU(inplace=True)\n",
       "      (conv2): Conv2d(64, 64, kernel_size=(3, 3), stride=(1, 1), padding=(1, 1), bias=False)\n",
       "      (bn2): BatchNorm2d(64, eps=1e-05, momentum=0.1, affine=True, track_running_stats=True)\n",
       "    )\n",
       "    (1): BasicBlock(\n",
       "      (conv1): Conv2d(64, 64, kernel_size=(3, 3), stride=(1, 1), padding=(1, 1), bias=False)\n",
       "      (bn1): BatchNorm2d(64, eps=1e-05, momentum=0.1, affine=True, track_running_stats=True)\n",
       "      (relu): ReLU(inplace=True)\n",
       "      (conv2): Conv2d(64, 64, kernel_size=(3, 3), stride=(1, 1), padding=(1, 1), bias=False)\n",
       "      (bn2): BatchNorm2d(64, eps=1e-05, momentum=0.1, affine=True, track_running_stats=True)\n",
       "    )\n",
       "  )\n",
       "  (layer2): Sequential(\n",
       "    (0): BasicBlock(\n",
       "      (conv1): Conv2d(64, 128, kernel_size=(3, 3), stride=(2, 2), padding=(1, 1), bias=False)\n",
       "      (bn1): BatchNorm2d(128, eps=1e-05, momentum=0.1, affine=True, track_running_stats=True)\n",
       "      (relu): ReLU(inplace=True)\n",
       "      (conv2): Conv2d(128, 128, kernel_size=(3, 3), stride=(1, 1), padding=(1, 1), bias=False)\n",
       "      (bn2): BatchNorm2d(128, eps=1e-05, momentum=0.1, affine=True, track_running_stats=True)\n",
       "      (downsample): Sequential(\n",
       "        (0): Conv2d(64, 128, kernel_size=(1, 1), stride=(2, 2), bias=False)\n",
       "        (1): BatchNorm2d(128, eps=1e-05, momentum=0.1, affine=True, track_running_stats=True)\n",
       "      )\n",
       "    )\n",
       "    (1): BasicBlock(\n",
       "      (conv1): Conv2d(128, 128, kernel_size=(3, 3), stride=(1, 1), padding=(1, 1), bias=False)\n",
       "      (bn1): BatchNorm2d(128, eps=1e-05, momentum=0.1, affine=True, track_running_stats=True)\n",
       "      (relu): ReLU(inplace=True)\n",
       "      (conv2): Conv2d(128, 128, kernel_size=(3, 3), stride=(1, 1), padding=(1, 1), bias=False)\n",
       "      (bn2): BatchNorm2d(128, eps=1e-05, momentum=0.1, affine=True, track_running_stats=True)\n",
       "    )\n",
       "  )\n",
       "  (layer3): Sequential(\n",
       "    (0): BasicBlock(\n",
       "      (conv1): Conv2d(128, 256, kernel_size=(3, 3), stride=(2, 2), padding=(1, 1), bias=False)\n",
       "      (bn1): BatchNorm2d(256, eps=1e-05, momentum=0.1, affine=True, track_running_stats=True)\n",
       "      (relu): ReLU(inplace=True)\n",
       "      (conv2): Conv2d(256, 256, kernel_size=(3, 3), stride=(1, 1), padding=(1, 1), bias=False)\n",
       "      (bn2): BatchNorm2d(256, eps=1e-05, momentum=0.1, affine=True, track_running_stats=True)\n",
       "      (downsample): Sequential(\n",
       "        (0): Conv2d(128, 256, kernel_size=(1, 1), stride=(2, 2), bias=False)\n",
       "        (1): BatchNorm2d(256, eps=1e-05, momentum=0.1, affine=True, track_running_stats=True)\n",
       "      )\n",
       "    )\n",
       "    (1): BasicBlock(\n",
       "      (conv1): Conv2d(256, 256, kernel_size=(3, 3), stride=(1, 1), padding=(1, 1), bias=False)\n",
       "      (bn1): BatchNorm2d(256, eps=1e-05, momentum=0.1, affine=True, track_running_stats=True)\n",
       "      (relu): ReLU(inplace=True)\n",
       "      (conv2): Conv2d(256, 256, kernel_size=(3, 3), stride=(1, 1), padding=(1, 1), bias=False)\n",
       "      (bn2): BatchNorm2d(256, eps=1e-05, momentum=0.1, affine=True, track_running_stats=True)\n",
       "    )\n",
       "  )\n",
       "  (layer4): Sequential(\n",
       "    (0): BasicBlock(\n",
       "      (conv1): Conv2d(256, 512, kernel_size=(3, 3), stride=(2, 2), padding=(1, 1), bias=False)\n",
       "      (bn1): BatchNorm2d(512, eps=1e-05, momentum=0.1, affine=True, track_running_stats=True)\n",
       "      (relu): ReLU(inplace=True)\n",
       "      (conv2): Conv2d(512, 512, kernel_size=(3, 3), stride=(1, 1), padding=(1, 1), bias=False)\n",
       "      (bn2): BatchNorm2d(512, eps=1e-05, momentum=0.1, affine=True, track_running_stats=True)\n",
       "      (downsample): Sequential(\n",
       "        (0): Conv2d(256, 512, kernel_size=(1, 1), stride=(2, 2), bias=False)\n",
       "        (1): BatchNorm2d(512, eps=1e-05, momentum=0.1, affine=True, track_running_stats=True)\n",
       "      )\n",
       "    )\n",
       "    (1): BasicBlock(\n",
       "      (conv1): Conv2d(512, 512, kernel_size=(3, 3), stride=(1, 1), padding=(1, 1), bias=False)\n",
       "      (bn1): BatchNorm2d(512, eps=1e-05, momentum=0.1, affine=True, track_running_stats=True)\n",
       "      (relu): ReLU(inplace=True)\n",
       "      (conv2): Conv2d(512, 512, kernel_size=(3, 3), stride=(1, 1), padding=(1, 1), bias=False)\n",
       "      (bn2): BatchNorm2d(512, eps=1e-05, momentum=0.1, affine=True, track_running_stats=True)\n",
       "    )\n",
       "  )\n",
       "  (avgpool): AdaptiveAvgPool2d(output_size=(1, 1))\n",
       "  (fc): Linear(in_features=512, out_features=2, bias=True)\n",
       ")"
      ]
     },
     "execution_count": 9,
     "metadata": {
      "tags": []
     },
     "output_type": "execute_result"
    }
   ],
   "source": [
    "for param in model.parameters():\n",
    "    param.requires_grad = False\n",
    "\n",
    "model.fc = torch.nn.Linear(512, 2)\n",
    "model.to(device)"
   ]
  },
  {
   "cell_type": "markdown",
   "metadata": {
    "id": "MAf5wHRn5Md5",
    "slideshow": {
     "slide_type": "subslide"
    }
   },
   "source": [
    "#### Скрипты для обучения"
   ]
  },
  {
   "cell_type": "code",
   "execution_count": 10,
   "metadata": {
    "id": "ziCx4rr543zh",
    "slideshow": {
     "slide_type": "subslide"
    }
   },
   "outputs": [],
   "source": [
    "def train_on_batch(model, x_batch, y_batch, optimizer, loss_function):\n",
    "    model.train()\n",
    "    optimizer.zero_grad()\n",
    "    \n",
    "    output = model(x_batch.to(device))\n",
    "    \n",
    "    loss = loss_function(output, y_batch.to(device))\n",
    "    loss.backward()\n",
    "\n",
    "    optimizer.step()\n",
    "    return loss.cpu().item()"
   ]
  },
  {
   "cell_type": "code",
   "execution_count": 11,
   "metadata": {
    "id": "mIrNQNaK8aDn",
    "slideshow": {
     "slide_type": "subslide"
    }
   },
   "outputs": [],
   "source": [
    "class callback():\n",
    "    def __init__(self, writer, dataset, loss_function, delimeter = 100, batch_size=64):\n",
    "        self.step = 0\n",
    "        self.writer = writer\n",
    "        self.delimeter = delimeter\n",
    "        self.loss_function = loss_function\n",
    "        self.batch_size = batch_size\n",
    "\n",
    "        self.dataset = dataset\n",
    "\n",
    "    def forward(self, model, loss):\n",
    "        self.step += 1\n",
    "        self.writer.add_scalar('LOSS/train', loss, self.step)\n",
    "        \n",
    "        if self.step % self.delimeter == 0:\n",
    "            \n",
    "            batch_generator = torch.utils.data.DataLoader(dataset = self.dataset, \n",
    "                                                          batch_size=self.batch_size, \n",
    "                                                          pin_memory=True)\n",
    "            \n",
    "            pred = []\n",
    "            real = []\n",
    "            test_loss = 0\n",
    "            model.eval()\n",
    "            for it, (x_batch, y_batch) in enumerate(batch_generator):\n",
    "                x_batch = x_batch.to(device)\n",
    "\n",
    "                output = model(x_batch)\n",
    "\n",
    "                test_loss += self.loss_function(output, y_batch.to(device)).cpu().item()*len(x_batch)\n",
    "\n",
    "                pred.extend(torch.argmax(output, dim=-1).cpu().numpy().tolist())\n",
    "                real.extend(y_batch.cpu().numpy().tolist())\n",
    "            \n",
    "            test_loss /= len(self.dataset)\n",
    "            \n",
    "            self.writer.add_scalar('LOSS/test', test_loss, self.step)\n",
    "            self.writer.add_text('REPORT/test', str(classification_report(real, pred)), self.step)\n",
    "          \n",
    "    def __call__(self, model, loss):\n",
    "        return self.forward(model, loss)"
   ]
  },
  {
   "cell_type": "markdown",
   "metadata": {
    "id": "ENuUwKwS5ZXt",
    "slideshow": {
     "slide_type": "subslide"
    }
   },
   "source": [
    "#### Инициализация модели"
   ]
  },
  {
   "cell_type": "code",
   "execution_count": 12,
   "metadata": {
    "id": "699WSDhF5YW4",
    "slideshow": {
     "slide_type": "fragment"
    }
   },
   "outputs": [],
   "source": [
    "loss_function = torch.nn.CrossEntropyLoss()\n",
    "optimizer = torch.optim.Adam"
   ]
  },
  {
   "cell_type": "markdown",
   "metadata": {
    "id": "afyLgrcz78Zq",
    "slideshow": {
     "slide_type": "subslide"
    }
   },
   "source": [
    "#### Качество до дообучения"
   ]
  },
  {
   "cell_type": "code",
   "execution_count": 13,
   "metadata": {
    "colab": {
     "base_uri": "https://localhost:8080/"
    },
    "id": "K5NsO1Gu5mMg",
    "outputId": "fe5af147-3417-4e1d-da37-4779449413b0",
    "slideshow": {
     "slide_type": "fragment"
    }
   },
   "outputs": [
    {
     "name": "stdout",
     "output_type": "stream",
     "text": [
      "              precision    recall  f1-score   support\n",
      "\n",
      "           0       0.59      0.64      0.62       500\n",
      "           1       0.61      0.56      0.59       500\n",
      "\n",
      "    accuracy                           0.60      1000\n",
      "   macro avg       0.60      0.60      0.60      1000\n",
      "weighted avg       0.60      0.60      0.60      1000\n",
      "\n"
     ]
    }
   ],
   "source": [
    "real = []\n",
    "pred = []\n",
    "for x_batch, y_batch in torch.utils.data.DataLoader(CatDogs_test, \n",
    "                                                    batch_size = 64, \n",
    "                                                    shuffle = True, \n",
    "                                                    pin_memory=True):\n",
    "  \n",
    "    with torch.no_grad():\n",
    "        output = model(x_batch.to(device))\n",
    "    pred.extend(output.argmax(dim=-1).cpu().numpy().tolist())\n",
    "    real.extend(y_batch.cpu().numpy().tolist())\n",
    "\n",
    "print(classification_report(real, pred))"
   ]
  },
  {
   "cell_type": "markdown",
   "metadata": {
    "id": "TyE1UxYo7Vlo",
    "slideshow": {
     "slide_type": "subslide"
    }
   },
   "source": [
    "#### Обучение модели"
   ]
  },
  {
   "cell_type": "code",
   "execution_count": null,
   "metadata": {
    "id": "FLpm0m6f566f",
    "slideshow": {
     "slide_type": "fragment"
    }
   },
   "outputs": [],
   "source": [
    "writer = SummaryWriter(log_dir = 'transfer-resnet18')\n",
    "call = callback(writer, CatDogs_test, loss_function, delimeter = 10)\n",
    "\n",
    "trainer(count_of_epoch=10, \n",
    "        batch_size=64, \n",
    "        dataset=CatDogs_train,\n",
    "        model=model,\n",
    "        loss_function=loss_function,\n",
    "        optimizer = optimizer,\n",
    "        lr = 0.001,\n",
    "        callback = call)"
   ]
  },
  {
   "cell_type": "markdown",
   "metadata": {
    "id": "hZhr6ml974XK",
    "slideshow": {
     "slide_type": "subslide"
    }
   },
   "source": [
    "#### Качество после дообучения"
   ]
  },
  {
   "cell_type": "code",
   "execution_count": 15,
   "metadata": {
    "colab": {
     "base_uri": "https://localhost:8080/"
    },
    "id": "x9FPVrYV76gO",
    "outputId": "ceb4729b-bf10-43da-a836-8d37f24ddad6",
    "slideshow": {
     "slide_type": "fragment"
    }
   },
   "outputs": [
    {
     "name": "stdout",
     "output_type": "stream",
     "text": [
      "              precision    recall  f1-score   support\n",
      "\n",
      "           0       0.98      0.99      0.98       500\n",
      "           1       0.99      0.98      0.98       500\n",
      "\n",
      "    accuracy                           0.98      1000\n",
      "   macro avg       0.98      0.98      0.98      1000\n",
      "weighted avg       0.98      0.98      0.98      1000\n",
      "\n"
     ]
    }
   ],
   "source": [
    "real = []\n",
    "pred = []\n",
    "for x_batch, y_batch in torch.utils.data.DataLoader(CatDogs_test, \n",
    "                                                    batch_size = 64, \n",
    "                                                    shuffle = True, \n",
    "                                                    pin_memory=True):\n",
    "  \n",
    "    with torch.no_grad():\n",
    "        output = model(x_batch.to(device))\n",
    "    pred.extend(output.argmax(dim=-1).cpu().numpy().tolist())\n",
    "    real.extend(y_batch.cpu().numpy().tolist())\n",
    "\n",
    "print(classification_report(real, pred))"
   ]
  },
  {
   "cell_type": "markdown",
   "metadata": {
    "id": "V1COxOqzrHds",
    "slideshow": {
     "slide_type": "slide"
    }
   },
   "source": [
    "## Генеративно состязательные сети"
   ]
  },
  {
   "cell_type": "markdown",
   "metadata": {
    "id": "YJyO77mxMSPX",
    "slideshow": {
     "slide_type": "subslide"
    }
   },
   "source": [
    "### GAN's для MNIST"
   ]
  },
  {
   "cell_type": "markdown",
   "metadata": {
    "id": "u8W32KDH_GBu",
    "slideshow": {
     "slide_type": "subslide"
    }
   },
   "source": [
    "#### Полезный код для обучения"
   ]
  },
  {
   "cell_type": "code",
   "execution_count": null,
   "metadata": {
    "id": "0UiLjhK2TmwH",
    "slideshow": {
     "slide_type": "subslide"
    }
   },
   "outputs": [],
   "source": [
    "def train_on_batch(model, x_batch, y_batch, optimizer, loss_function):\n",
    "    optima_generator, optima_discriminator = optimizer\n",
    "    \n",
    "    optima_generator.zero_grad()\n",
    "    optima_discriminator.zero_grad()\n",
    "    discriminator_loss = model.discriminator_loss(x_batch)\n",
    "    discriminator_loss.backward()\n",
    "    optima_discriminator.step()\n",
    "\n",
    "    optima_generator.zero_grad()\n",
    "    optima_discriminator.zero_grad()\n",
    "    generator_loss = model.generator_loss(len(x_batch))\n",
    "    generator_loss.backward()\n",
    "    optima_generator.step()\n",
    "    \n",
    "    return discriminator_loss.cpu().item()+generator_loss.cpu().item()"
   ]
  },
  {
   "cell_type": "code",
   "execution_count": null,
   "metadata": {
    "id": "e9zK81LZTmwH",
    "slideshow": {
     "slide_type": "subslide"
    }
   },
   "outputs": [],
   "source": [
    "def train_epoch(train_generator, model, loss_function, optimizer, callback = None):\n",
    "    epoch_loss = 0\n",
    "    total = 0\n",
    "    for it, (batch_of_x, batch_of_y) in enumerate(train_generator):\n",
    "        batch_loss = train_on_batch(model, batch_of_x.to(model.device), batch_of_y.to(model.device), optimizer, loss_function)\n",
    "        \n",
    "        if callback is not None:\n",
    "            callback(model, batch_loss)\n",
    "            \n",
    "        epoch_loss += batch_loss*len(batch_of_x)\n",
    "        total += len(batch_of_x)\n",
    "    \n",
    "    return epoch_loss/total"
   ]
  },
  {
   "cell_type": "code",
   "execution_count": null,
   "metadata": {
    "id": "Eub4ku9lTmwH",
    "slideshow": {
     "slide_type": "subslide"
    }
   },
   "outputs": [],
   "source": [
    "def trainer(count_of_epoch, \n",
    "            batch_size, \n",
    "            dataset,\n",
    "            model, \n",
    "            loss_function,\n",
    "            optimizer,\n",
    "            lr = 0.001,\n",
    "            callback = None):\n",
    "\n",
    "    optima_generator = optimizer(model.generator.parameters(), lr=lr*10, betas=(0.5, 0.999))\n",
    "    optima_discriminator = optimizer(model.discriminator.parameters(), lr=lr, betas=(0.5, 0.999))\n",
    "    \n",
    "    iterations = tqdm(range(count_of_epoch), desc='epoch')\n",
    "    iterations.set_postfix({'epoch loss': np.nan})\n",
    "    for it in iterations:        \n",
    "        batch_generator = tqdm(\n",
    "            torch.utils.data.DataLoader(dataset=dataset, batch_size=batch_size, shuffle=True), \n",
    "            leave=False, total=len(dataset)//batch_size+(len(dataset)%batch_size> 0))\n",
    "        \n",
    "        epoch_loss = train_epoch(\n",
    "            train_generator=batch_generator, \n",
    "            model=model, \n",
    "            loss_function=loss_function, \n",
    "            optimizer=(optima_generator, optima_discriminator), \n",
    "            callback=callback)\n",
    "        \n",
    "        iterations.set_postfix({'epoch loss': epoch_loss})"
   ]
  },
  {
   "cell_type": "markdown",
   "metadata": {
    "id": "t16nU2d7_GBu",
    "slideshow": {
     "slide_type": "subslide"
    }
   },
   "source": [
    "#### Модель нейросети"
   ]
  },
  {
   "cell_type": "code",
   "execution_count": null,
   "metadata": {
    "id": "CCukR2naTmwH",
    "slideshow": {
     "slide_type": "subslide"
    }
   },
   "outputs": [],
   "source": [
    "class Reshape(torch.nn.Module):\n",
    "    @property\n",
    "    def device(self):\n",
    "        return next(self.parameters()).device\n",
    "\n",
    "    def __init__(self, *args):\n",
    "        super(type(self), self).__init__()\n",
    "        self.dims = args\n",
    "\n",
    "    def forward(self, input):\n",
    "        return input.view(input.size(0), *self.dims)\n",
    "\n",
    "class GAN(torch.nn.Module):\n",
    "    @property\n",
    "    def device(self):\n",
    "        return next(self.parameters()).device\n",
    "\n",
    "    def __init__(self, d, D):\n",
    "        super(type(self), self).__init__()\n",
    "        self.d = d\n",
    "        self.discriminator = torch.nn.Sequential(\n",
    "            Reshape(1, D, D),\n",
    "            torch.nn.Conv2d(in_channels=1, out_channels=64, kernel_size=3, stride=2, padding=1, bias=False),\n",
    "            torch.nn.BatchNorm2d(num_features=64),\n",
    "            torch.nn.LeakyReLU(negative_slope=0.2),\n",
    "            torch.nn.Conv2d(in_channels=64, out_channels=32, kernel_size=3, stride=2, padding=0, bias=False),\n",
    "            torch.nn.BatchNorm2d(num_features=32),\n",
    "            torch.nn.LeakyReLU(negative_slope=0.2),\n",
    "            torch.nn.Conv2d(in_channels=32, out_channels=16, kernel_size=3, stride=1, padding=0, bias=False),\n",
    "            torch.nn.BatchNorm2d(num_features=16),\n",
    "            torch.nn.LeakyReLU(negative_slope=0.2),\n",
    "            Reshape(-1),\n",
    "            torch.nn.Linear(in_features=256, out_features=1),\n",
    "            torch.nn.Sigmoid()\n",
    "        )\n",
    "        self.generator = torch.nn.Sequential(\n",
    "            Reshape(self.d, 1, 1),\n",
    "            torch.nn.ConvTranspose2d(self.d, 128, 4, 1, 0, 0, bias=False),\n",
    "            torch.nn.BatchNorm2d(128),\n",
    "            torch.nn.ReLU(),\n",
    "            torch.nn.ConvTranspose2d(128, 64, 3, 2, 1, 0, bias=False),\n",
    "            torch.nn.BatchNorm2d(64),\n",
    "            torch.nn.ReLU(),\n",
    "            torch.nn.ConvTranspose2d(64, 32, 3, 2, 1, 1, bias=False),\n",
    "            torch.nn.BatchNorm2d(32),\n",
    "            torch.nn.ReLU(),\n",
    "            torch.nn.ConvTranspose2d(32, 1, 4, 2, 1, 0, bias=False),\n",
    "            Reshape(-1),\n",
    "            torch.nn.Sigmoid()\n",
    "        )\n",
    "\n",
    "    def generate_noise(self, num_samples):\n",
    "        return torch.randn([num_samples, self.d], requires_grad=True).to(self.device)\n",
    "\n",
    "    def generate_samples(self, num_samples):\n",
    "        return self.generator(self.generate_noise(num_samples))\n",
    "\n",
    "    def discriminator_loss(self, batch):\n",
    "        loss = torch.nn.BCELoss()\n",
    "        \n",
    "        batch_size = batch.shape[0]\n",
    "        \n",
    "        fake_batch = self.discriminator(self.generate_samples(batch_size).detach())\n",
    "        real_batch = self.discriminator(batch)\n",
    "        \n",
    "        fake_answ = torch.zeros(batch_size, 1).to(self.device)\n",
    "        real_answ = torch.ones(batch.shape[0], 1).to(self.device)\n",
    "        \n",
    "        return 0.5*loss(fake_batch, fake_answ) + 0.5*loss(real_batch, real_answ)\n",
    "\n",
    "    def generator_loss(self, batch_size):\n",
    "        loss = torch.nn.BCELoss()\n",
    "        \n",
    "        fake_batch = self.discriminator(self.generate_samples(batch_size))\n",
    "        \n",
    "        real_answ = torch.ones(batch_size, 1).to(self.device)\n",
    "            \n",
    "        return loss(fake_batch, real_answ)\n",
    "    \n",
    "    def init_weight(self, mean, std):\n",
    "        for m in self._modules:\n",
    "            if isinstance(self._modules[m], nn.ConvTranspose2d) or isinstance(self._modules[m], nn.Conv2d):\n",
    "                self._modules[m].weight.data.normal_(mean, std)\n",
    "                self._modules[m].bias.data.zero_()\n"
   ]
  },
  {
   "cell_type": "markdown",
   "metadata": {
    "id": "1mjMCVWT_GBv",
    "slideshow": {
     "slide_type": "subslide"
    }
   },
   "source": [
    "#### Инициализация модели"
   ]
  },
  {
   "cell_type": "code",
   "execution_count": null,
   "metadata": {
    "colab": {
     "base_uri": "https://localhost:8080/"
    },
    "id": "VUcXGn0JTmwI",
    "outputId": "a76b2df3-99b5-4d12-bfdd-82f231342303",
    "slideshow": {
     "slide_type": "subslide"
    }
   },
   "outputs": [
    {
     "data": {
      "text/plain": [
       "GAN(\n",
       "  (discriminator): Sequential(\n",
       "    (0): Reshape()\n",
       "    (1): Conv2d(1, 64, kernel_size=(3, 3), stride=(2, 2), padding=(1, 1), bias=False)\n",
       "    (2): BatchNorm2d(64, eps=1e-05, momentum=0.1, affine=True, track_running_stats=True)\n",
       "    (3): LeakyReLU(negative_slope=0.2)\n",
       "    (4): Conv2d(64, 32, kernel_size=(3, 3), stride=(2, 2), bias=False)\n",
       "    (5): BatchNorm2d(32, eps=1e-05, momentum=0.1, affine=True, track_running_stats=True)\n",
       "    (6): LeakyReLU(negative_slope=0.2)\n",
       "    (7): Conv2d(32, 16, kernel_size=(3, 3), stride=(1, 1), bias=False)\n",
       "    (8): BatchNorm2d(16, eps=1e-05, momentum=0.1, affine=True, track_running_stats=True)\n",
       "    (9): LeakyReLU(negative_slope=0.2)\n",
       "    (10): Reshape()\n",
       "    (11): Linear(in_features=256, out_features=1, bias=True)\n",
       "    (12): Sigmoid()\n",
       "  )\n",
       "  (generator): Sequential(\n",
       "    (0): Reshape()\n",
       "    (1): ConvTranspose2d(2, 128, kernel_size=(4, 4), stride=(1, 1), bias=False)\n",
       "    (2): BatchNorm2d(128, eps=1e-05, momentum=0.1, affine=True, track_running_stats=True)\n",
       "    (3): ReLU()\n",
       "    (4): ConvTranspose2d(128, 64, kernel_size=(3, 3), stride=(2, 2), padding=(1, 1), bias=False)\n",
       "    (5): BatchNorm2d(64, eps=1e-05, momentum=0.1, affine=True, track_running_stats=True)\n",
       "    (6): ReLU()\n",
       "    (7): ConvTranspose2d(64, 32, kernel_size=(3, 3), stride=(2, 2), padding=(1, 1), output_padding=(1, 1), bias=False)\n",
       "    (8): BatchNorm2d(32, eps=1e-05, momentum=0.1, affine=True, track_running_stats=True)\n",
       "    (9): ReLU()\n",
       "    (10): ConvTranspose2d(32, 1, kernel_size=(4, 4), stride=(2, 2), padding=(1, 1), bias=False)\n",
       "    (11): Reshape()\n",
       "    (12): Sigmoid()\n",
       "  )\n",
       ")"
      ]
     },
     "execution_count": 32,
     "metadata": {
      "tags": []
     },
     "output_type": "execute_result"
    }
   ],
   "source": [
    "loss_function = None\n",
    "optimizer = torch.optim.Adam\n",
    "\n",
    "model = GAN(2, 28)\n",
    "model.to(device)"
   ]
  },
  {
   "cell_type": "markdown",
   "metadata": {
    "id": "9Rx_4Yqf_GBv",
    "slideshow": {
     "slide_type": "subslide"
    }
   },
   "source": [
    "#### Выборка"
   ]
  },
  {
   "cell_type": "code",
   "execution_count": null,
   "metadata": {
    "id": "NBR6IpTZUYzm",
    "slideshow": {
     "slide_type": "fragment"
    }
   },
   "outputs": [],
   "source": [
    "MNIST_train = datasets.MNIST('./mnist', train=True, download=True, \n",
    "                             transform=transforms.ToTensor())\n",
    "\n",
    "MNIST_test = datasets.MNIST('./mnist', train=False, download=True,\n",
    "                            transform=transforms.ToTensor())"
   ]
  },
  {
   "cell_type": "markdown",
   "metadata": {
    "id": "9P7mM9_z_GBv",
    "slideshow": {
     "slide_type": "skip"
    }
   },
   "source": [
    "#### Вспомагательные функции"
   ]
  },
  {
   "cell_type": "code",
   "execution_count": null,
   "metadata": {
    "id": "UWs6Ph14TmwI",
    "slideshow": {
     "slide_type": "skip"
    }
   },
   "outputs": [],
   "source": [
    "def show_images(x, digit_size=28):\n",
    "    plt.figure(figsize=(12, 12 / 10 * (x.shape[0] // 10 + 1)))\n",
    "    x = x.view(-1, digit_size, digit_size)\n",
    "    for i in range(x.shape[0]):\n",
    "        plt.subplot(x.shape[0] // 10 + 1, 10, i + 1)\n",
    "        plt.imshow(x.data[i].numpy(), cmap='Greys_r', interpolation='lanczos')\n",
    "        plt.axis('off')"
   ]
  },
  {
   "cell_type": "code",
   "execution_count": null,
   "metadata": {
    "id": "K0EiwEJNTmwI",
    "slideshow": {
     "slide_type": "skip"
    }
   },
   "outputs": [],
   "source": [
    "def generate_samples(model, num_samples, batch_size):\n",
    "    size = 0\n",
    "    res = []\n",
    "    while size < num_samples:\n",
    "        res.append(\n",
    "            model.generate_samples(\n",
    "                min(batch_size, num_samples - size)))\n",
    "        size += batch_size\n",
    "    return torch.cat(res, 0).cpu().detach()"
   ]
  },
  {
   "cell_type": "markdown",
   "metadata": {
    "id": "IUicTyHD_GBw",
    "slideshow": {
     "slide_type": "subslide"
    }
   },
   "source": [
    "#### Как генерируются данные до обучения"
   ]
  },
  {
   "cell_type": "code",
   "execution_count": null,
   "metadata": {
    "colab": {
     "base_uri": "https://localhost:8080/",
     "height": 88
    },
    "id": "6L9QVf-9TmwI",
    "outputId": "260e185b-d8cd-4a85-b3b0-0d92fe853815",
    "slideshow": {
     "slide_type": "fragment"
    }
   },
   "outputs": [
    {
     "data": {
      "image/png": "[encoded data removed]",
      "text/plain": [
       "<Figure size 864x172.8 with 10 Axes>"
      ]
     },
     "metadata": {
      "needs_background": "light",
      "tags": []
     },
     "output_type": "display_data"
    }
   ],
   "source": [
    "show_images(generate_many_samples(model, 10, 10))"
   ]
  },
  {
   "cell_type": "markdown",
   "metadata": {
    "id": "IuOPesh__GBw",
    "slideshow": {
     "slide_type": "subslide"
    }
   },
   "source": [
    "#### Обучаем модель"
   ]
  },
  {
   "cell_type": "code",
   "execution_count": null,
   "metadata": {
    "id": "g40_ilnoTmwI",
    "slideshow": {
     "slide_type": "fragment"
    }
   },
   "outputs": [],
   "source": [
    "trainer(count_of_epoch=10, \n",
    "        batch_size=64, \n",
    "        dataset=MNIST_train,\n",
    "        model=model, \n",
    "        loss_function=loss_function,\n",
    "        optimizer=optimizer,\n",
    "        lr = 2e-4,\n",
    "        callback = None)"
   ]
  },
  {
   "cell_type": "markdown",
   "metadata": {
    "id": "RL_EWILf_GBx",
    "slideshow": {
     "slide_type": "subslide"
    }
   },
   "source": [
    "#### Как генерируются данные после обучения"
   ]
  },
  {
   "cell_type": "code",
   "execution_count": null,
   "metadata": {
    "colab": {
     "base_uri": "https://localhost:8080/",
     "height": 88
    },
    "id": "6W7NhdM_Uc7n",
    "outputId": "93d12f58-39a9-45eb-e0b7-7da109cccc6f",
    "slideshow": {
     "slide_type": "fragment"
    }
   },
   "outputs": [
    {
     "data": {
      "image/png": "[encoded data removed]",
      "text/plain": [
       "<Figure size 864x172.8 with 10 Axes>"
      ]
     },
     "metadata": {
      "needs_background": "light",
      "tags": []
     },
     "output_type": "display_data"
    }
   ],
   "source": [
    "show_images(generate_many_samples(model, 10, 50))"
   ]
  }
 ],
 "metadata": {
  "accelerator": "GPU",
  "celltoolbar": "Slideshow",
  "colab": {
   "name": "main.ipynb",
   "provenance": [],
   "toc_visible": true
  },
  "kernelspec": {
   "display_name": "Python 3",
   "language": "python",
   "name": "python3"
  },
  "language_info": {
   "codemirror_mode": {
    "name": "ipython",
    "version": 3
   },
   "file_extension": ".py",
   "mimetype": "text/x-python",
   "name": "python",
   "nbconvert_exporter": "python",
   "pygments_lexer": "ipython3",
   "version": "3.7.3"
  },
  "widgets": {
   "application/vnd.jupyter.widget-state+json": {
    "108e65d8f8094085a3d5861a855dec61": {
     "model_module": "@jupyter-widgets/base",
     "model_name": "LayoutModel",
     "state": {
      "_model_module": "@jupyter-widgets/base",
      "_model_module_version": "1.2.0",
      "_model_name": "LayoutModel",
      "_view_count": null,
      "_view_module": "@jupyter-widgets/base",
      "_view_module_version": "1.2.0",
      "_view_name": "LayoutView",
      "align_content": null,
      "align_items": null,
      "align_self": null,
      "border": null,
      "bottom": null,
      "display": null,
      "flex": null,
      "flex_flow": null,
      "grid_area": null,
      "grid_auto_columns": null,
      "grid_auto_flow": null,
      "grid_auto_rows": null,
      "grid_column": null,
      "grid_gap": null,
      "grid_row": null,
      "grid_template_areas": null,
      "grid_template_columns": null,
      "grid_template_rows": null,
      "height": null,
      "justify_content": null,
      "justify_items": null,
      "left": null,
      "margin": null,
      "max_height": null,
      "max_width": null,
      "min_height": null,
      "min_width": null,
      "object_fit": null,
      "object_position": null,
      "order": null,
      "overflow": null,
      "overflow_x": null,
      "overflow_y": null,
      "padding": null,
      "right": null,
      "top": null,
      "visibility": null,
      "width": null
     }
    },
    "4753d921469c499eb98a9c0eae62ca37": {
     "model_module": "@jupyter-widgets/controls",
     "model_name": "FloatProgressModel",
     "state": {
      "_dom_classes": [],
      "_model_module": "@jupyter-widgets/controls",
      "_model_module_version": "1.5.0",
      "_model_name": "FloatProgressModel",
      "_view_count": null,
      "_view_module": "@jupyter-widgets/controls",
      "_view_module_version": "1.5.0",
      "_view_name": "ProgressView",
      "bar_style": "success",
      "description": "100%",
      "description_tooltip": null,
      "layout": "IPY_MODEL_108e65d8f8094085a3d5861a855dec61",
      "max": 46827520,
      "min": 0,
      "orientation": "horizontal",
      "style": "IPY_MODEL_741142e41d1348b7ba2bc9a31146f3fa",
      "value": 46827520
     }
    },
    "73aa505151ee495abebec56a45558eb1": {
     "model_module": "@jupyter-widgets/controls",
     "model_name": "HBoxModel",
     "state": {
      "_dom_classes": [],
      "_model_module": "@jupyter-widgets/controls",
      "_model_module_version": "1.5.0",
      "_model_name": "HBoxModel",
      "_view_count": null,
      "_view_module": "@jupyter-widgets/controls",
      "_view_module_version": "1.5.0",
      "_view_name": "HBoxView",
      "box_style": "",
      "children": [
       "IPY_MODEL_4753d921469c499eb98a9c0eae62ca37",
       "IPY_MODEL_96b2fa8a47744848922b5b70b05bd326"
      ],
      "layout": "IPY_MODEL_91f1ca6bf44a4d7d9d730694b19c4cf3"
     }
    },
    "741142e41d1348b7ba2bc9a31146f3fa": {
     "model_module": "@jupyter-widgets/controls",
     "model_name": "ProgressStyleModel",
     "state": {
      "_model_module": "@jupyter-widgets/controls",
      "_model_module_version": "1.5.0",
      "_model_name": "ProgressStyleModel",
      "_view_count": null,
      "_view_module": "@jupyter-widgets/base",
      "_view_module_version": "1.2.0",
      "_view_name": "StyleView",
      "bar_color": null,
      "description_width": "initial"
     }
    },
    "91f1ca6bf44a4d7d9d730694b19c4cf3": {
     "model_module": "@jupyter-widgets/base",
     "model_name": "LayoutModel",
     "state": {
      "_model_module": "@jupyter-widgets/base",
      "_model_module_version": "1.2.0",
      "_model_name": "LayoutModel",
      "_view_count": null,
      "_view_module": "@jupyter-widgets/base",
      "_view_module_version": "1.2.0",
      "_view_name": "LayoutView",
      "align_content": null,
      "align_items": null,
      "align_self": null,
      "border": null,
      "bottom": null,
      "display": null,
      "flex": null,
      "flex_flow": null,
      "grid_area": null,
      "grid_auto_columns": null,
      "grid_auto_flow": null,
      "grid_auto_rows": null,
      "grid_column": null,
      "grid_gap": null,
      "grid_row": null,
      "grid_template_areas": null,
      "grid_template_columns": null,
      "grid_template_rows": null,
      "height": null,
      "justify_content": null,
      "justify_items": null,
      "left": null,
      "margin": null,
      "max_height": null,
      "max_width": null,
      "min_height": null,
      "min_width": null,
      "object_fit": null,
      "object_position": null,
      "order": null,
      "overflow": null,
      "overflow_x": null,
      "overflow_y": null,
      "padding": null,
      "right": null,
      "top": null,
      "visibility": null,
      "width": null
     }
    },
    "96b2fa8a47744848922b5b70b05bd326": {
     "model_module": "@jupyter-widgets/controls",
     "model_name": "HTMLModel",
     "state": {
      "_dom_classes": [],
      "_model_module": "@jupyter-widgets/controls",
      "_model_module_version": "1.5.0",
      "_model_name": "HTMLModel",
      "_view_count": null,
      "_view_module": "@jupyter-widgets/controls",
      "_view_module_version": "1.5.0",
      "_view_name": "HTMLView",
      "description": "",
      "description_tooltip": null,
      "layout": "IPY_MODEL_dfe2c05e806345ae8b78e26885be93e8",
      "placeholder": "​",
      "style": "IPY_MODEL_e1146a4f159d4645b175335c94407305",
      "value": " 44.7M/44.7M [00:10&lt;00:00, 4.44MB/s]"
     }
    },
    "dfe2c05e806345ae8b78e26885be93e8": {
     "model_module": "@jupyter-widgets/base",
     "model_name": "LayoutModel",
     "state": {
      "_model_module": "@jupyter-widgets/base",
      "_model_module_version": "1.2.0",
      "_model_name": "LayoutModel",
      "_view_count": null,
      "_view_module": "@jupyter-widgets/base",
      "_view_module_version": "1.2.0",
      "_view_name": "LayoutView",
      "align_content": null,
      "align_items": null,
      "align_self": null,
      "border": null,
      "bottom": null,
      "display": null,
      "flex": null,
      "flex_flow": null,
      "grid_area": null,
      "grid_auto_columns": null,
      "grid_auto_flow": null,
      "grid_auto_rows": null,
      "grid_column": null,
      "grid_gap": null,
      "grid_row": null,
      "grid_template_areas": null,
      "grid_template_columns": null,
      "grid_template_rows": null,
      "height": null,
      "justify_content": null,
      "justify_items": null,
      "left": null,
      "margin": null,
      "max_height": null,
      "max_width": null,
      "min_height": null,
      "min_width": null,
      "object_fit": null,
      "object_position": null,
      "order": null,
      "overflow": null,
      "overflow_x": null,
      "overflow_y": null,
      "padding": null,
      "right": null,
      "top": null,
      "visibility": null,
      "width": null
     }
    },
    "e1146a4f159d4645b175335c94407305": {
     "model_module": "@jupyter-widgets/controls",
     "model_name": "DescriptionStyleModel",
     "state": {
      "_model_module": "@jupyter-widgets/controls",
      "_model_module_version": "1.5.0",
      "_model_name": "DescriptionStyleModel",
      "_view_count": null,
      "_view_module": "@jupyter-widgets/base",
      "_view_module_version": "1.2.0",
      "_view_name": "StyleView",
      "description_width": ""
     }
    }
   }
  }
 },
 "nbformat": 4,
 "nbformat_minor": 1
}
